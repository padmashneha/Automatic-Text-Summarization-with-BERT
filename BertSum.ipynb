{
  "nbformat": 4,
  "nbformat_minor": 0,
  "metadata": {
    "colab": {
      "name": "BertSum.ipynb",
      "provenance": [],
      "collapsed_sections": []
    },
    "kernelspec": {
      "name": "python3",
      "display_name": "Python 3"
    },
    "widgets": {
      "application/vnd.jupyter.widget-state+json": {
        "12f31bfd21284cccb43f92a62aaea4fc": {
          "model_module": "@jupyter-widgets/controls",
          "model_name": "HBoxModel",
          "state": {
            "_view_name": "HBoxView",
            "_dom_classes": [],
            "_model_name": "HBoxModel",
            "_view_module": "@jupyter-widgets/controls",
            "_model_module_version": "1.5.0",
            "_view_count": null,
            "_view_module_version": "1.5.0",
            "box_style": "",
            "layout": "IPY_MODEL_718102b8f7584b9a8bda723fdfdc4b82",
            "_model_module": "@jupyter-widgets/controls",
            "children": [
              "IPY_MODEL_22b601b9ee564fbaba0a2af8d1a687ea",
              "IPY_MODEL_9af73b088f434323963c98d7c2476ba2"
            ]
          }
        },
        "718102b8f7584b9a8bda723fdfdc4b82": {
          "model_module": "@jupyter-widgets/base",
          "model_name": "LayoutModel",
          "state": {
            "_view_name": "LayoutView",
            "grid_template_rows": null,
            "right": null,
            "justify_content": null,
            "_view_module": "@jupyter-widgets/base",
            "overflow": null,
            "_model_module_version": "1.2.0",
            "_view_count": null,
            "flex_flow": null,
            "width": null,
            "min_width": null,
            "border": null,
            "align_items": null,
            "bottom": null,
            "_model_module": "@jupyter-widgets/base",
            "top": null,
            "grid_column": null,
            "overflow_y": null,
            "overflow_x": null,
            "grid_auto_flow": null,
            "grid_area": null,
            "grid_template_columns": null,
            "flex": null,
            "_model_name": "LayoutModel",
            "justify_items": null,
            "grid_row": null,
            "max_height": null,
            "align_content": null,
            "visibility": null,
            "align_self": null,
            "height": null,
            "min_height": null,
            "padding": null,
            "grid_auto_rows": null,
            "grid_gap": null,
            "max_width": null,
            "order": null,
            "_view_module_version": "1.2.0",
            "grid_template_areas": null,
            "object_position": null,
            "object_fit": null,
            "grid_auto_columns": null,
            "margin": null,
            "display": null,
            "left": null
          }
        },
        "22b601b9ee564fbaba0a2af8d1a687ea": {
          "model_module": "@jupyter-widgets/controls",
          "model_name": "FloatProgressModel",
          "state": {
            "_view_name": "ProgressView",
            "style": "IPY_MODEL_faf569615f8244d58503236e105e979b",
            "_dom_classes": [],
            "description": "Downloading: 100%",
            "_model_name": "FloatProgressModel",
            "bar_style": "success",
            "max": 434,
            "_view_module": "@jupyter-widgets/controls",
            "_model_module_version": "1.5.0",
            "value": 434,
            "_view_count": null,
            "_view_module_version": "1.5.0",
            "orientation": "horizontal",
            "min": 0,
            "description_tooltip": null,
            "_model_module": "@jupyter-widgets/controls",
            "layout": "IPY_MODEL_f4b6f70fe7954d1f9a39065a0c8f1ccc"
          }
        },
        "9af73b088f434323963c98d7c2476ba2": {
          "model_module": "@jupyter-widgets/controls",
          "model_name": "HTMLModel",
          "state": {
            "_view_name": "HTMLView",
            "style": "IPY_MODEL_a040403f8b91429cb73d9fcb9b14dbd9",
            "_dom_classes": [],
            "description": "",
            "_model_name": "HTMLModel",
            "placeholder": "​",
            "_view_module": "@jupyter-widgets/controls",
            "_model_module_version": "1.5.0",
            "value": " 434/434 [00:00&lt;00:00, 550B/s]",
            "_view_count": null,
            "_view_module_version": "1.5.0",
            "description_tooltip": null,
            "_model_module": "@jupyter-widgets/controls",
            "layout": "IPY_MODEL_556b644d0e51443989bc2eec0ce937d4"
          }
        },
        "faf569615f8244d58503236e105e979b": {
          "model_module": "@jupyter-widgets/controls",
          "model_name": "ProgressStyleModel",
          "state": {
            "_view_name": "StyleView",
            "_model_name": "ProgressStyleModel",
            "description_width": "initial",
            "_view_module": "@jupyter-widgets/base",
            "_model_module_version": "1.5.0",
            "_view_count": null,
            "_view_module_version": "1.2.0",
            "bar_color": null,
            "_model_module": "@jupyter-widgets/controls"
          }
        },
        "f4b6f70fe7954d1f9a39065a0c8f1ccc": {
          "model_module": "@jupyter-widgets/base",
          "model_name": "LayoutModel",
          "state": {
            "_view_name": "LayoutView",
            "grid_template_rows": null,
            "right": null,
            "justify_content": null,
            "_view_module": "@jupyter-widgets/base",
            "overflow": null,
            "_model_module_version": "1.2.0",
            "_view_count": null,
            "flex_flow": null,
            "width": null,
            "min_width": null,
            "border": null,
            "align_items": null,
            "bottom": null,
            "_model_module": "@jupyter-widgets/base",
            "top": null,
            "grid_column": null,
            "overflow_y": null,
            "overflow_x": null,
            "grid_auto_flow": null,
            "grid_area": null,
            "grid_template_columns": null,
            "flex": null,
            "_model_name": "LayoutModel",
            "justify_items": null,
            "grid_row": null,
            "max_height": null,
            "align_content": null,
            "visibility": null,
            "align_self": null,
            "height": null,
            "min_height": null,
            "padding": null,
            "grid_auto_rows": null,
            "grid_gap": null,
            "max_width": null,
            "order": null,
            "_view_module_version": "1.2.0",
            "grid_template_areas": null,
            "object_position": null,
            "object_fit": null,
            "grid_auto_columns": null,
            "margin": null,
            "display": null,
            "left": null
          }
        },
        "a040403f8b91429cb73d9fcb9b14dbd9": {
          "model_module": "@jupyter-widgets/controls",
          "model_name": "DescriptionStyleModel",
          "state": {
            "_view_name": "StyleView",
            "_model_name": "DescriptionStyleModel",
            "description_width": "",
            "_view_module": "@jupyter-widgets/base",
            "_model_module_version": "1.5.0",
            "_view_count": null,
            "_view_module_version": "1.2.0",
            "_model_module": "@jupyter-widgets/controls"
          }
        },
        "556b644d0e51443989bc2eec0ce937d4": {
          "model_module": "@jupyter-widgets/base",
          "model_name": "LayoutModel",
          "state": {
            "_view_name": "LayoutView",
            "grid_template_rows": null,
            "right": null,
            "justify_content": null,
            "_view_module": "@jupyter-widgets/base",
            "overflow": null,
            "_model_module_version": "1.2.0",
            "_view_count": null,
            "flex_flow": null,
            "width": null,
            "min_width": null,
            "border": null,
            "align_items": null,
            "bottom": null,
            "_model_module": "@jupyter-widgets/base",
            "top": null,
            "grid_column": null,
            "overflow_y": null,
            "overflow_x": null,
            "grid_auto_flow": null,
            "grid_area": null,
            "grid_template_columns": null,
            "flex": null,
            "_model_name": "LayoutModel",
            "justify_items": null,
            "grid_row": null,
            "max_height": null,
            "align_content": null,
            "visibility": null,
            "align_self": null,
            "height": null,
            "min_height": null,
            "padding": null,
            "grid_auto_rows": null,
            "grid_gap": null,
            "max_width": null,
            "order": null,
            "_view_module_version": "1.2.0",
            "grid_template_areas": null,
            "object_position": null,
            "object_fit": null,
            "grid_auto_columns": null,
            "margin": null,
            "display": null,
            "left": null
          }
        },
        "1e4b5f00b82b48abbdd88f901950da4b": {
          "model_module": "@jupyter-widgets/controls",
          "model_name": "HBoxModel",
          "state": {
            "_view_name": "HBoxView",
            "_dom_classes": [],
            "_model_name": "HBoxModel",
            "_view_module": "@jupyter-widgets/controls",
            "_model_module_version": "1.5.0",
            "_view_count": null,
            "_view_module_version": "1.5.0",
            "box_style": "",
            "layout": "IPY_MODEL_9dd187738365493e8b108dcb65f12b03",
            "_model_module": "@jupyter-widgets/controls",
            "children": [
              "IPY_MODEL_d175b1e22e4c4514a3288b5bc328b3d6",
              "IPY_MODEL_8d56f536889b496d96a0461b8a3c496d"
            ]
          }
        },
        "9dd187738365493e8b108dcb65f12b03": {
          "model_module": "@jupyter-widgets/base",
          "model_name": "LayoutModel",
          "state": {
            "_view_name": "LayoutView",
            "grid_template_rows": null,
            "right": null,
            "justify_content": null,
            "_view_module": "@jupyter-widgets/base",
            "overflow": null,
            "_model_module_version": "1.2.0",
            "_view_count": null,
            "flex_flow": null,
            "width": null,
            "min_width": null,
            "border": null,
            "align_items": null,
            "bottom": null,
            "_model_module": "@jupyter-widgets/base",
            "top": null,
            "grid_column": null,
            "overflow_y": null,
            "overflow_x": null,
            "grid_auto_flow": null,
            "grid_area": null,
            "grid_template_columns": null,
            "flex": null,
            "_model_name": "LayoutModel",
            "justify_items": null,
            "grid_row": null,
            "max_height": null,
            "align_content": null,
            "visibility": null,
            "align_self": null,
            "height": null,
            "min_height": null,
            "padding": null,
            "grid_auto_rows": null,
            "grid_gap": null,
            "max_width": null,
            "order": null,
            "_view_module_version": "1.2.0",
            "grid_template_areas": null,
            "object_position": null,
            "object_fit": null,
            "grid_auto_columns": null,
            "margin": null,
            "display": null,
            "left": null
          }
        },
        "d175b1e22e4c4514a3288b5bc328b3d6": {
          "model_module": "@jupyter-widgets/controls",
          "model_name": "FloatProgressModel",
          "state": {
            "_view_name": "ProgressView",
            "style": "IPY_MODEL_ba2f6198b64e4c5698b6790a0001a742",
            "_dom_classes": [],
            "description": "Downloading: 100%",
            "_model_name": "FloatProgressModel",
            "bar_style": "success",
            "max": 1344997306,
            "_view_module": "@jupyter-widgets/controls",
            "_model_module_version": "1.5.0",
            "value": 1344997306,
            "_view_count": null,
            "_view_module_version": "1.5.0",
            "orientation": "horizontal",
            "min": 0,
            "description_tooltip": null,
            "_model_module": "@jupyter-widgets/controls",
            "layout": "IPY_MODEL_77005e8ef40c474fb549f84916868c3b"
          }
        },
        "8d56f536889b496d96a0461b8a3c496d": {
          "model_module": "@jupyter-widgets/controls",
          "model_name": "HTMLModel",
          "state": {
            "_view_name": "HTMLView",
            "style": "IPY_MODEL_3c31bd72c6b842e9a7f5e41b4521d2c2",
            "_dom_classes": [],
            "description": "",
            "_model_name": "HTMLModel",
            "placeholder": "​",
            "_view_module": "@jupyter-widgets/controls",
            "_model_module_version": "1.5.0",
            "value": " 1.34G/1.34G [00:21&lt;00:00, 62.2MB/s]",
            "_view_count": null,
            "_view_module_version": "1.5.0",
            "description_tooltip": null,
            "_model_module": "@jupyter-widgets/controls",
            "layout": "IPY_MODEL_c38bb965e65c4dc88802e019edbc788e"
          }
        },
        "ba2f6198b64e4c5698b6790a0001a742": {
          "model_module": "@jupyter-widgets/controls",
          "model_name": "ProgressStyleModel",
          "state": {
            "_view_name": "StyleView",
            "_model_name": "ProgressStyleModel",
            "description_width": "initial",
            "_view_module": "@jupyter-widgets/base",
            "_model_module_version": "1.5.0",
            "_view_count": null,
            "_view_module_version": "1.2.0",
            "bar_color": null,
            "_model_module": "@jupyter-widgets/controls"
          }
        },
        "77005e8ef40c474fb549f84916868c3b": {
          "model_module": "@jupyter-widgets/base",
          "model_name": "LayoutModel",
          "state": {
            "_view_name": "LayoutView",
            "grid_template_rows": null,
            "right": null,
            "justify_content": null,
            "_view_module": "@jupyter-widgets/base",
            "overflow": null,
            "_model_module_version": "1.2.0",
            "_view_count": null,
            "flex_flow": null,
            "width": null,
            "min_width": null,
            "border": null,
            "align_items": null,
            "bottom": null,
            "_model_module": "@jupyter-widgets/base",
            "top": null,
            "grid_column": null,
            "overflow_y": null,
            "overflow_x": null,
            "grid_auto_flow": null,
            "grid_area": null,
            "grid_template_columns": null,
            "flex": null,
            "_model_name": "LayoutModel",
            "justify_items": null,
            "grid_row": null,
            "max_height": null,
            "align_content": null,
            "visibility": null,
            "align_self": null,
            "height": null,
            "min_height": null,
            "padding": null,
            "grid_auto_rows": null,
            "grid_gap": null,
            "max_width": null,
            "order": null,
            "_view_module_version": "1.2.0",
            "grid_template_areas": null,
            "object_position": null,
            "object_fit": null,
            "grid_auto_columns": null,
            "margin": null,
            "display": null,
            "left": null
          }
        },
        "3c31bd72c6b842e9a7f5e41b4521d2c2": {
          "model_module": "@jupyter-widgets/controls",
          "model_name": "DescriptionStyleModel",
          "state": {
            "_view_name": "StyleView",
            "_model_name": "DescriptionStyleModel",
            "description_width": "",
            "_view_module": "@jupyter-widgets/base",
            "_model_module_version": "1.5.0",
            "_view_count": null,
            "_view_module_version": "1.2.0",
            "_model_module": "@jupyter-widgets/controls"
          }
        },
        "c38bb965e65c4dc88802e019edbc788e": {
          "model_module": "@jupyter-widgets/base",
          "model_name": "LayoutModel",
          "state": {
            "_view_name": "LayoutView",
            "grid_template_rows": null,
            "right": null,
            "justify_content": null,
            "_view_module": "@jupyter-widgets/base",
            "overflow": null,
            "_model_module_version": "1.2.0",
            "_view_count": null,
            "flex_flow": null,
            "width": null,
            "min_width": null,
            "border": null,
            "align_items": null,
            "bottom": null,
            "_model_module": "@jupyter-widgets/base",
            "top": null,
            "grid_column": null,
            "overflow_y": null,
            "overflow_x": null,
            "grid_auto_flow": null,
            "grid_area": null,
            "grid_template_columns": null,
            "flex": null,
            "_model_name": "LayoutModel",
            "justify_items": null,
            "grid_row": null,
            "max_height": null,
            "align_content": null,
            "visibility": null,
            "align_self": null,
            "height": null,
            "min_height": null,
            "padding": null,
            "grid_auto_rows": null,
            "grid_gap": null,
            "max_width": null,
            "order": null,
            "_view_module_version": "1.2.0",
            "grid_template_areas": null,
            "object_position": null,
            "object_fit": null,
            "grid_auto_columns": null,
            "margin": null,
            "display": null,
            "left": null
          }
        },
        "64973a5999fd496f8a3a12741d477a16": {
          "model_module": "@jupyter-widgets/controls",
          "model_name": "HBoxModel",
          "state": {
            "_view_name": "HBoxView",
            "_dom_classes": [],
            "_model_name": "HBoxModel",
            "_view_module": "@jupyter-widgets/controls",
            "_model_module_version": "1.5.0",
            "_view_count": null,
            "_view_module_version": "1.5.0",
            "box_style": "",
            "layout": "IPY_MODEL_8b4bc44142e643c3917df60361fd5a8f",
            "_model_module": "@jupyter-widgets/controls",
            "children": [
              "IPY_MODEL_6ef370404ed3417eb48e41af74eb2d1e",
              "IPY_MODEL_116f5ab505ac4bf1bfdecfd6b09f5917"
            ]
          }
        },
        "8b4bc44142e643c3917df60361fd5a8f": {
          "model_module": "@jupyter-widgets/base",
          "model_name": "LayoutModel",
          "state": {
            "_view_name": "LayoutView",
            "grid_template_rows": null,
            "right": null,
            "justify_content": null,
            "_view_module": "@jupyter-widgets/base",
            "overflow": null,
            "_model_module_version": "1.2.0",
            "_view_count": null,
            "flex_flow": null,
            "width": null,
            "min_width": null,
            "border": null,
            "align_items": null,
            "bottom": null,
            "_model_module": "@jupyter-widgets/base",
            "top": null,
            "grid_column": null,
            "overflow_y": null,
            "overflow_x": null,
            "grid_auto_flow": null,
            "grid_area": null,
            "grid_template_columns": null,
            "flex": null,
            "_model_name": "LayoutModel",
            "justify_items": null,
            "grid_row": null,
            "max_height": null,
            "align_content": null,
            "visibility": null,
            "align_self": null,
            "height": null,
            "min_height": null,
            "padding": null,
            "grid_auto_rows": null,
            "grid_gap": null,
            "max_width": null,
            "order": null,
            "_view_module_version": "1.2.0",
            "grid_template_areas": null,
            "object_position": null,
            "object_fit": null,
            "grid_auto_columns": null,
            "margin": null,
            "display": null,
            "left": null
          }
        },
        "6ef370404ed3417eb48e41af74eb2d1e": {
          "model_module": "@jupyter-widgets/controls",
          "model_name": "FloatProgressModel",
          "state": {
            "_view_name": "ProgressView",
            "style": "IPY_MODEL_c3e1e9fb38d7457da02c5fd3ac015bf6",
            "_dom_classes": [],
            "description": "Downloading: 100%",
            "_model_name": "FloatProgressModel",
            "bar_style": "success",
            "max": 231508,
            "_view_module": "@jupyter-widgets/controls",
            "_model_module_version": "1.5.0",
            "value": 231508,
            "_view_count": null,
            "_view_module_version": "1.5.0",
            "orientation": "horizontal",
            "min": 0,
            "description_tooltip": null,
            "_model_module": "@jupyter-widgets/controls",
            "layout": "IPY_MODEL_9a364be2ce854755bd9f5bc8e6eeed3d"
          }
        },
        "116f5ab505ac4bf1bfdecfd6b09f5917": {
          "model_module": "@jupyter-widgets/controls",
          "model_name": "HTMLModel",
          "state": {
            "_view_name": "HTMLView",
            "style": "IPY_MODEL_6d64ace5303247a0bc9e6aa98ca2174d",
            "_dom_classes": [],
            "description": "",
            "_model_name": "HTMLModel",
            "placeholder": "​",
            "_view_module": "@jupyter-widgets/controls",
            "_model_module_version": "1.5.0",
            "value": " 232k/232k [00:00&lt;00:00, 299kB/s]",
            "_view_count": null,
            "_view_module_version": "1.5.0",
            "description_tooltip": null,
            "_model_module": "@jupyter-widgets/controls",
            "layout": "IPY_MODEL_7c1ebbc5f85148049c15e015384e98fa"
          }
        },
        "c3e1e9fb38d7457da02c5fd3ac015bf6": {
          "model_module": "@jupyter-widgets/controls",
          "model_name": "ProgressStyleModel",
          "state": {
            "_view_name": "StyleView",
            "_model_name": "ProgressStyleModel",
            "description_width": "initial",
            "_view_module": "@jupyter-widgets/base",
            "_model_module_version": "1.5.0",
            "_view_count": null,
            "_view_module_version": "1.2.0",
            "bar_color": null,
            "_model_module": "@jupyter-widgets/controls"
          }
        },
        "9a364be2ce854755bd9f5bc8e6eeed3d": {
          "model_module": "@jupyter-widgets/base",
          "model_name": "LayoutModel",
          "state": {
            "_view_name": "LayoutView",
            "grid_template_rows": null,
            "right": null,
            "justify_content": null,
            "_view_module": "@jupyter-widgets/base",
            "overflow": null,
            "_model_module_version": "1.2.0",
            "_view_count": null,
            "flex_flow": null,
            "width": null,
            "min_width": null,
            "border": null,
            "align_items": null,
            "bottom": null,
            "_model_module": "@jupyter-widgets/base",
            "top": null,
            "grid_column": null,
            "overflow_y": null,
            "overflow_x": null,
            "grid_auto_flow": null,
            "grid_area": null,
            "grid_template_columns": null,
            "flex": null,
            "_model_name": "LayoutModel",
            "justify_items": null,
            "grid_row": null,
            "max_height": null,
            "align_content": null,
            "visibility": null,
            "align_self": null,
            "height": null,
            "min_height": null,
            "padding": null,
            "grid_auto_rows": null,
            "grid_gap": null,
            "max_width": null,
            "order": null,
            "_view_module_version": "1.2.0",
            "grid_template_areas": null,
            "object_position": null,
            "object_fit": null,
            "grid_auto_columns": null,
            "margin": null,
            "display": null,
            "left": null
          }
        },
        "6d64ace5303247a0bc9e6aa98ca2174d": {
          "model_module": "@jupyter-widgets/controls",
          "model_name": "DescriptionStyleModel",
          "state": {
            "_view_name": "StyleView",
            "_model_name": "DescriptionStyleModel",
            "description_width": "",
            "_view_module": "@jupyter-widgets/base",
            "_model_module_version": "1.5.0",
            "_view_count": null,
            "_view_module_version": "1.2.0",
            "_model_module": "@jupyter-widgets/controls"
          }
        },
        "7c1ebbc5f85148049c15e015384e98fa": {
          "model_module": "@jupyter-widgets/base",
          "model_name": "LayoutModel",
          "state": {
            "_view_name": "LayoutView",
            "grid_template_rows": null,
            "right": null,
            "justify_content": null,
            "_view_module": "@jupyter-widgets/base",
            "overflow": null,
            "_model_module_version": "1.2.0",
            "_view_count": null,
            "flex_flow": null,
            "width": null,
            "min_width": null,
            "border": null,
            "align_items": null,
            "bottom": null,
            "_model_module": "@jupyter-widgets/base",
            "top": null,
            "grid_column": null,
            "overflow_y": null,
            "overflow_x": null,
            "grid_auto_flow": null,
            "grid_area": null,
            "grid_template_columns": null,
            "flex": null,
            "_model_name": "LayoutModel",
            "justify_items": null,
            "grid_row": null,
            "max_height": null,
            "align_content": null,
            "visibility": null,
            "align_self": null,
            "height": null,
            "min_height": null,
            "padding": null,
            "grid_auto_rows": null,
            "grid_gap": null,
            "max_width": null,
            "order": null,
            "_view_module_version": "1.2.0",
            "grid_template_areas": null,
            "object_position": null,
            "object_fit": null,
            "grid_auto_columns": null,
            "margin": null,
            "display": null,
            "left": null
          }
        }
      }
    }
  },
  "cells": [
    {
      "cell_type": "code",
      "metadata": {
        "id": "xTFnh4Yshw1R",
        "colab": {
          "base_uri": "https://localhost:8080/"
        },
        "outputId": "fc9b9d40-c314-4820-c507-22f41b701dc6"
      },
      "source": [
        "!pip install bert-extractive-summarizer"
      ],
      "execution_count": null,
      "outputs": [
        {
          "output_type": "stream",
          "text": [
            "Collecting bert-extractive-summarizer\n",
            "  Downloading https://files.pythonhosted.org/packages/7b/e3/c8b820d8c0a96a9318a423a38242275f2e862425793b5b8287e982324ffc/bert_extractive_summarizer-0.5.1-py3-none-any.whl\n",
            "Requirement already satisfied: spacy in /usr/local/lib/python3.6/dist-packages (from bert-extractive-summarizer) (2.2.4)\n",
            "Requirement already satisfied: scikit-learn in /usr/local/lib/python3.6/dist-packages (from bert-extractive-summarizer) (0.22.2.post1)\n",
            "Collecting transformers\n",
            "\u001b[?25l  Downloading https://files.pythonhosted.org/packages/3a/83/e74092e7f24a08d751aa59b37a9fc572b2e4af3918cb66f7766c3affb1b4/transformers-3.5.1-py3-none-any.whl (1.3MB)\n",
            "\u001b[K     |████████████████████████████████| 1.3MB 5.8MB/s \n",
            "\u001b[?25hRequirement already satisfied: preshed<3.1.0,>=3.0.2 in /usr/local/lib/python3.6/dist-packages (from spacy->bert-extractive-summarizer) (3.0.2)\n",
            "Requirement already satisfied: wasabi<1.1.0,>=0.4.0 in /usr/local/lib/python3.6/dist-packages (from spacy->bert-extractive-summarizer) (0.8.0)\n",
            "Requirement already satisfied: requests<3.0.0,>=2.13.0 in /usr/local/lib/python3.6/dist-packages (from spacy->bert-extractive-summarizer) (2.23.0)\n",
            "Requirement already satisfied: catalogue<1.1.0,>=0.0.7 in /usr/local/lib/python3.6/dist-packages (from spacy->bert-extractive-summarizer) (1.0.0)\n",
            "Requirement already satisfied: tqdm<5.0.0,>=4.38.0 in /usr/local/lib/python3.6/dist-packages (from spacy->bert-extractive-summarizer) (4.41.1)\n",
            "Requirement already satisfied: murmurhash<1.1.0,>=0.28.0 in /usr/local/lib/python3.6/dist-packages (from spacy->bert-extractive-summarizer) (1.0.3)\n",
            "Requirement already satisfied: cymem<2.1.0,>=2.0.2 in /usr/local/lib/python3.6/dist-packages (from spacy->bert-extractive-summarizer) (2.0.4)\n",
            "Requirement already satisfied: blis<0.5.0,>=0.4.0 in /usr/local/lib/python3.6/dist-packages (from spacy->bert-extractive-summarizer) (0.4.1)\n",
            "Requirement already satisfied: plac<1.2.0,>=0.9.6 in /usr/local/lib/python3.6/dist-packages (from spacy->bert-extractive-summarizer) (1.1.3)\n",
            "Requirement already satisfied: numpy>=1.15.0 in /usr/local/lib/python3.6/dist-packages (from spacy->bert-extractive-summarizer) (1.18.5)\n",
            "Requirement already satisfied: thinc==7.4.0 in /usr/local/lib/python3.6/dist-packages (from spacy->bert-extractive-summarizer) (7.4.0)\n",
            "Requirement already satisfied: setuptools in /usr/local/lib/python3.6/dist-packages (from spacy->bert-extractive-summarizer) (50.3.2)\n",
            "Requirement already satisfied: srsly<1.1.0,>=1.0.2 in /usr/local/lib/python3.6/dist-packages (from spacy->bert-extractive-summarizer) (1.0.2)\n",
            "Requirement already satisfied: joblib>=0.11 in /usr/local/lib/python3.6/dist-packages (from scikit-learn->bert-extractive-summarizer) (0.17.0)\n",
            "Requirement already satisfied: scipy>=0.17.0 in /usr/local/lib/python3.6/dist-packages (from scikit-learn->bert-extractive-summarizer) (1.4.1)\n",
            "Requirement already satisfied: filelock in /usr/local/lib/python3.6/dist-packages (from transformers->bert-extractive-summarizer) (3.0.12)\n",
            "Collecting sacremoses\n",
            "\u001b[?25l  Downloading https://files.pythonhosted.org/packages/7d/34/09d19aff26edcc8eb2a01bed8e98f13a1537005d31e95233fd48216eed10/sacremoses-0.0.43.tar.gz (883kB)\n",
            "\u001b[K     |████████████████████████████████| 890kB 18.8MB/s \n",
            "\u001b[?25hRequirement already satisfied: protobuf in /usr/local/lib/python3.6/dist-packages (from transformers->bert-extractive-summarizer) (3.12.4)\n",
            "Collecting tokenizers==0.9.3\n",
            "\u001b[?25l  Downloading https://files.pythonhosted.org/packages/4c/34/b39eb9994bc3c999270b69c9eea40ecc6f0e97991dba28282b9fd32d44ee/tokenizers-0.9.3-cp36-cp36m-manylinux1_x86_64.whl (2.9MB)\n",
            "\u001b[K     |████████████████████████████████| 2.9MB 28.6MB/s \n",
            "\u001b[?25hCollecting sentencepiece==0.1.91\n",
            "\u001b[?25l  Downloading https://files.pythonhosted.org/packages/d4/a4/d0a884c4300004a78cca907a6ff9a5e9fe4f090f5d95ab341c53d28cbc58/sentencepiece-0.1.91-cp36-cp36m-manylinux1_x86_64.whl (1.1MB)\n",
            "\u001b[K     |████████████████████████████████| 1.1MB 36.7MB/s \n",
            "\u001b[?25hRequirement already satisfied: dataclasses; python_version < \"3.7\" in /usr/local/lib/python3.6/dist-packages (from transformers->bert-extractive-summarizer) (0.7)\n",
            "Requirement already satisfied: packaging in /usr/local/lib/python3.6/dist-packages (from transformers->bert-extractive-summarizer) (20.4)\n",
            "Requirement already satisfied: regex!=2019.12.17 in /usr/local/lib/python3.6/dist-packages (from transformers->bert-extractive-summarizer) (2019.12.20)\n",
            "Requirement already satisfied: chardet<4,>=3.0.2 in /usr/local/lib/python3.6/dist-packages (from requests<3.0.0,>=2.13.0->spacy->bert-extractive-summarizer) (3.0.4)\n",
            "Requirement already satisfied: urllib3!=1.25.0,!=1.25.1,<1.26,>=1.21.1 in /usr/local/lib/python3.6/dist-packages (from requests<3.0.0,>=2.13.0->spacy->bert-extractive-summarizer) (1.24.3)\n",
            "Requirement already satisfied: idna<3,>=2.5 in /usr/local/lib/python3.6/dist-packages (from requests<3.0.0,>=2.13.0->spacy->bert-extractive-summarizer) (2.10)\n",
            "Requirement already satisfied: certifi>=2017.4.17 in /usr/local/lib/python3.6/dist-packages (from requests<3.0.0,>=2.13.0->spacy->bert-extractive-summarizer) (2020.6.20)\n",
            "Requirement already satisfied: importlib-metadata>=0.20; python_version < \"3.8\" in /usr/local/lib/python3.6/dist-packages (from catalogue<1.1.0,>=0.0.7->spacy->bert-extractive-summarizer) (2.0.0)\n",
            "Requirement already satisfied: six in /usr/local/lib/python3.6/dist-packages (from sacremoses->transformers->bert-extractive-summarizer) (1.15.0)\n",
            "Requirement already satisfied: click in /usr/local/lib/python3.6/dist-packages (from sacremoses->transformers->bert-extractive-summarizer) (7.1.2)\n",
            "Requirement already satisfied: pyparsing>=2.0.2 in /usr/local/lib/python3.6/dist-packages (from packaging->transformers->bert-extractive-summarizer) (2.4.7)\n",
            "Requirement already satisfied: zipp>=0.5 in /usr/local/lib/python3.6/dist-packages (from importlib-metadata>=0.20; python_version < \"3.8\"->catalogue<1.1.0,>=0.0.7->spacy->bert-extractive-summarizer) (3.4.0)\n",
            "Building wheels for collected packages: sacremoses\n",
            "  Building wheel for sacremoses (setup.py) ... \u001b[?25l\u001b[?25hdone\n",
            "  Created wheel for sacremoses: filename=sacremoses-0.0.43-cp36-none-any.whl size=893257 sha256=d418fb3eba13a85d9f62e31def04a709a90675ddfc7f5196e7bc88c2bcc1d240\n",
            "  Stored in directory: /root/.cache/pip/wheels/29/3c/fd/7ce5c3f0666dab31a50123635e6fb5e19ceb42ce38d4e58f45\n",
            "Successfully built sacremoses\n",
            "Installing collected packages: sacremoses, tokenizers, sentencepiece, transformers, bert-extractive-summarizer\n",
            "Successfully installed bert-extractive-summarizer-0.5.1 sacremoses-0.0.43 sentencepiece-0.1.91 tokenizers-0.9.3 transformers-3.5.1\n"
          ],
          "name": "stdout"
        }
      ]
    },
    {
      "cell_type": "code",
      "metadata": {
        "id": "fHG1Q_b-hQJ1"
      },
      "source": [
        "get_corona_summary=pd.read_csv(\"/content/Hcq_Stance_Tweets_Cleaned.csv\")"
      ],
      "execution_count": null,
      "outputs": []
    },
    {
      "cell_type": "code",
      "metadata": {
        "id": "fPU-TktjZgbw"
      },
      "source": [
        "import pandas as pd\n",
        "from summarizer import Summarizer\n",
        "model = Summarizer()"
      ],
      "execution_count": null,
      "outputs": []
    },
    {
      "cell_type": "code",
      "metadata": {
        "id": "3WlQSn6YaDK1"
      },
      "source": [
        "df=get_corona_summary.url_content[:30]"
      ],
      "execution_count": null,
      "outputs": []
    },
    {
      "cell_type": "code",
      "metadata": {
        "id": "z2la8_7GxCCC"
      },
      "source": [
        "for i in df:\n",
        "  result = model(i, min_length=30,max_length=300)\n",
        "  summary = \"\".join(result)\n",
        "  print(summary)  "
      ],
      "execution_count": null,
      "outputs": []
    },
    {
      "cell_type": "code",
      "metadata": {
        "id": "1prywNJchUHi",
        "colab": {
          "base_uri": "https://localhost:8080/"
        },
        "outputId": "7c117050-5aee-4cfe-f87a-a00fa4f7ae35"
      },
      "source": [
        "from summarizer import Summarizer\n",
        "model = Summarizer()\n",
        "result = model(get_corona_summary.url_content[1], min_length=30,max_length=100)\n",
        "summary = \"\".join(result)\n",
        "print(summary)"
      ],
      "execution_count": null,
      "outputs": [
        {
          "output_type": "stream",
          "text": [
            "The studies, which have been fast-tracked by the government, will initially involve 15 NHS centres. Remdesivir has been considered as a potential treatment for Ebola.\n"
          ],
          "name": "stdout"
        }
      ]
    },
    {
      "cell_type": "code",
      "metadata": {
        "id": "qZPoWBMUhUFF",
        "colab": {
          "base_uri": "https://localhost:8080/"
        },
        "outputId": "04b3224d-942f-44c2-b810-775b00d9a99f"
      },
      "source": [
        "len(summary)"
      ],
      "execution_count": null,
      "outputs": [
        {
          "output_type": "execute_result",
          "data": {
            "text/plain": [
              "166"
            ]
          },
          "metadata": {
            "tags": []
          },
          "execution_count": 17
        }
      ]
    },
    {
      "cell_type": "code",
      "metadata": {
        "id": "TOo1NpLghUCd",
        "colab": {
          "base_uri": "https://localhost:8080/"
        },
        "outputId": "80a24a14-1e92-45db-c5ee-09804129a6f3"
      },
      "source": [
        "len(get_corona_summary.url_content[1])"
      ],
      "execution_count": null,
      "outputs": [
        {
          "output_type": "execute_result",
          "data": {
            "text/plain": [
              "2904"
            ]
          },
          "metadata": {
            "tags": []
          },
          "execution_count": 15
        }
      ]
    },
    {
      "cell_type": "code",
      "metadata": {
        "id": "-dx2T1Va1McB",
        "colab": {
          "base_uri": "https://localhost:8080/"
        },
        "outputId": "8c719efd-d400-4d54-d7fa-aebcddfc397a"
      },
      "source": [
        "!pip install pyrouge"
      ],
      "execution_count": null,
      "outputs": [
        {
          "output_type": "stream",
          "text": [
            "Collecting pyrouge\n",
            "\u001b[?25l  Downloading https://files.pythonhosted.org/packages/11/85/e522dd6b36880ca19dcf7f262b22365748f56edc6f455e7b6a37d0382c32/pyrouge-0.1.3.tar.gz (60kB)\n",
            "\r\u001b[K     |█████▍                          | 10kB 15.7MB/s eta 0:00:01\r\u001b[K     |██████████▉                     | 20kB 1.7MB/s eta 0:00:01\r\u001b[K     |████████████████▎               | 30kB 2.2MB/s eta 0:00:01\r\u001b[K     |█████████████████████▋          | 40kB 2.5MB/s eta 0:00:01\r\u001b[K     |███████████████████████████     | 51kB 2.0MB/s eta 0:00:01\r\u001b[K     |████████████████████████████████| 61kB 1.8MB/s \n",
            "\u001b[?25hBuilding wheels for collected packages: pyrouge\n",
            "  Building wheel for pyrouge (setup.py) ... \u001b[?25l\u001b[?25hdone\n",
            "  Created wheel for pyrouge: filename=pyrouge-0.1.3-cp36-none-any.whl size=191613 sha256=7d6a97a835c1067405e904428d5064df145e8f6a0822d419344695c7693794ba\n",
            "  Stored in directory: /root/.cache/pip/wheels/75/d3/0c/e5b04e15b6b87c42e980de3931d2686e14d36e045058983599\n",
            "Successfully built pyrouge\n",
            "Installing collected packages: pyrouge\n",
            "Successfully installed pyrouge-0.1.3\n"
          ],
          "name": "stdout"
        }
      ]
    },
    {
      "cell_type": "code",
      "metadata": {
        "id": "kaGzNrAH21zm"
      },
      "source": [
        "from __future__ import division\n",
        "from itertools import chain\n",
        "\n",
        "\n",
        "def get_unigram_count(tokens):\n",
        "    count_dict = dict()\n",
        "    for t in tokens:\n",
        "        if t in count_dict:\n",
        "            count_dict[t] += 1\n",
        "        else:\n",
        "            count_dict[t] = 1\n",
        "\n",
        "    return count_dict\n",
        "\n",
        "\n",
        "class Rouge:\n",
        "    beta = 1\n",
        "\n",
        "    @staticmethod\n",
        "    def my_lcs_grid(x, y):\n",
        "        n = len(x)\n",
        "        m = len(y)\n",
        "\n",
        "        table = [[0 for i in range(m + 1)] for j in range(n + 1)]\n",
        "\n",
        "        for j in range(m + 1):\n",
        "            for i in range(n + 1):\n",
        "                if i == 0 or j == 0:\n",
        "                    cell = (0, 'e')\n",
        "                elif x[i - 1] == y[j - 1]:\n",
        "                    cell = (table[i - 1][j - 1][0] + 1, '\\\\')\n",
        "                else:\n",
        "                    over = table[i - 1][j][0]\n",
        "                    left = table[i][j - 1][0]\n",
        "\n",
        "                    if left < over:\n",
        "                        cell = (over, '^')\n",
        "                    else:\n",
        "                        cell = (left, '<')\n",
        "\n",
        "                table[i][j] = cell\n",
        "\n",
        "        return table\n",
        "\n",
        "    @staticmethod\n",
        "    def my_lcs(x, y, mask_x):\n",
        "        table = Rouge.my_lcs_grid(x, y)\n",
        "        i = len(x)\n",
        "        j = len(y)\n",
        "\n",
        "        while i > 0 and j > 0:\n",
        "            move = table[i][j][1]\n",
        "            if move == '\\\\':\n",
        "                mask_x[i - 1] = 1\n",
        "                i -= 1\n",
        "                j -= 1\n",
        "            elif move == '^':\n",
        "                i -= 1\n",
        "            elif move == '<':\n",
        "                j -= 1\n",
        "\n",
        "        return mask_x\n",
        "\n",
        "    @staticmethod\n",
        "    def rouge_l(cand_sents, ref_sents):\n",
        "        lcs_scores = 0.0\n",
        "        cand_unigrams = get_unigram_count(chain(*cand_sents))\n",
        "        ref_unigrams = get_unigram_count(chain(*ref_sents))\n",
        "        for cand_sent in cand_sents:\n",
        "            cand_token_mask = [0 for t in cand_sent]\n",
        "            cand_len = len(cand_sent)\n",
        "            for ref_sent in ref_sents:\n",
        "                # aligns = []\n",
        "                # Rouge.lcs(ref_sent, cand_sent, aligns)\n",
        "                Rouge.my_lcs(cand_sent, ref_sent, cand_token_mask)\n",
        "\n",
        "                # for i in aligns:\n",
        "                #     ref_token_mask[i] = 1\n",
        "            # lcs = []\n",
        "            cur_lcs_score = 0.0\n",
        "            for i in range(cand_len):\n",
        "                if cand_token_mask[i]:\n",
        "                    token = cand_sent[i]\n",
        "                    if cand_unigrams[token] > 0 and ref_unigrams[token] > 0:\n",
        "                        cand_unigrams[token] -= 1\n",
        "                        ref_unigrams[token] -= 1\n",
        "                        cur_lcs_score += 1\n",
        "\n",
        "            lcs_scores += cur_lcs_score\n",
        "\n",
        "        # print \"lcs_scores: %d\" % lcs_scores\n",
        "        ref_words_count = sum(len(s) for s in ref_sents)\n",
        "        # print \"ref_words_count: %d\" % ref_words_count\n",
        "        cand_words_count = sum(len(s) for s in cand_sents)\n",
        "        # print \"cand_words_count: %d\" % cand_words_count\n",
        "\n",
        "        precision = lcs_scores / cand_words_count\n",
        "        recall = lcs_scores / ref_words_count\n",
        "        f_score = (1 + Rouge.beta ** 2) * precision * recall / (recall +\n",
        "                                                                Rouge.beta ** 2 * precision + 1e-7) + 1e-6  # prevent underflow\n",
        "        return precision, recall, f_score\n"
      ],
      "execution_count": null,
      "outputs": []
    },
    {
      "cell_type": "code",
      "metadata": {
        "id": "eJ-FxiLrobCp",
        "colab": {
          "base_uri": "https://localhost:8080/"
        },
        "outputId": "193932a1-cc99-4b28-f06c-54a092c21396"
      },
      "source": [
        "from summarizer import Summarizer\n",
        "model = Summarizer()\n",
        "result = model(get_corona_summary.url_content[1], min_length=30,max_length=300)\n",
        "summary = \"\".join(result)\n",
        "print(summary)"
      ],
      "execution_count": null,
      "outputs": [
        {
          "output_type": "stream",
          "text": [
            "A drug that could help treat coronavirus is to be trialled on a small number of patients in England and Scotland. The studies, which have been fast-tracked by the government, will initially involve 15 NHS centres. Two studies are to be carried out in the UK - one on patients with moderate symptoms, and one on those who are in a serious condition. For about a decade we've been looking at what we call emerging viruses, looking at viruses that aren't a problem yet but could be in the future. \" With no approved therapies for coronavirus infection, hopes rest on speeding up the approval process for drugs that show promise in fighting the disease US researchers have begun a trial trial to see if the malaria drug, chloroquine, will help treat coronavirus.\n"
          ],
          "name": "stdout"
        }
      ]
    },
    {
      "cell_type": "code",
      "metadata": {
        "id": "VtogtkWhhT63",
        "colab": {
          "base_uri": "https://localhost:8080/"
        },
        "outputId": "7f061074-0473-4919-97c5-d2dbe98c46d6"
      },
      "source": [
        "r = Rouge()\n",
        "system_generated_summary = \"A drug that could help treat coronavirus is to be trialled on a small number of patients in England and Scotland. The studies, which have been fast-tracked by the government, will initially involve 15 NHS centres. Two studies are to be carried out in the UK - one on patients with moderate symptoms, and one on those who are in a serious condition. For about a decade we've been looking at what we call emerging viruses, looking at viruses that aren't a problem yet but could be in the future. With no approved therapies for coronavirus infection, hopes rest on speeding up the approval process for drugs that show promise in fighting the disease US researchers have begun a trial trial to see if the malaria drug, chloroquine, will help treat coronavirus.\"\n",
        "manual_summmary = \" The studies, which have been fast-tracked by the government, will initially involve 15 NHS centres. The drug, known as remdesivir, is manufactured by the pharmaceutical company Gilead. Two studies are to be carried out in the UK - one on patients with moderate symptoms, and one on those who are in a serious condition.  Remdesivir has been considered as a potential treatment for Ebola. With no approved therapies for coronavirus infection, hopes rest on speeding up the approval process for drugs that show promise in fighting the disease US researchers have begun a trial trial to see if the malaria drug, chloroquine, will help treat coronavirus.\"\n",
        "[precision, recall, f_score] = r.rouge_l([system_generated_summary], [manual_summmary])\n",
        "print(\"Precision is :\"+str(precision)+\"\\nRecall is :\"+str(recall)+\"\\nF Score is :\"+str(f_score))"
      ],
      "execution_count": null,
      "outputs": [
        {
          "output_type": "stream",
          "text": [
            "Precision is :0.7103174603174603\n",
            "Recall is :0.8248847926267281\n",
            "F Score is :0.7633271762912549\n"
          ],
          "name": "stdout"
        }
      ]
    },
    {
      "cell_type": "code",
      "metadata": {
        "id": "zkiBEU_2o5ev",
        "colab": {
          "base_uri": "https://localhost:8080/"
        },
        "outputId": "63b3c3f0-cb88-4bb2-9de1-5ca3cb6f24a0"
      },
      "source": [
        "result = model(get_corona_summary.url_content[4], min_length=30,max_length=500)\n",
        "summary = \"\".join(result)\n",
        "print(summary)"
      ],
      "execution_count": null,
      "outputs": [
        {
          "output_type": "stream",
          "text": [
            "Presidential advisor on health, Dr. Anthony Nsiah-Asare, has revealed some of the medicines given to people infected by the deadly Coronmavirus (COVID-19) in Ghana. This controversy started when US President Donald Trump mentioned Chloroquine as potential remedies for coronavirus.\n"
          ],
          "name": "stdout"
        }
      ]
    },
    {
      "cell_type": "code",
      "metadata": {
        "id": "W9NfGsAU6_-i",
        "colab": {
          "base_uri": "https://localhost:8080/"
        },
        "outputId": "765ba059-1f87-46ec-fcd9-5fc57125a19b"
      },
      "source": [
        "r = Rouge()\n",
        "system_generated_summary = \"Presidential advisor on health, Dr. Anthony Nsiah-Asare, has revealed some of the medicines given to people infected by the deadly Coronmavirus (COVID-19) in Ghana. This controversy started when US President Donald Trump mentioned Chloroquine as potential remedies for coronavirus.\"\n",
        "manual_summmary = \"Ghana has so far recorded 195 cases with 5 deaths. Three (3) of the confirmed cases have fully recovered and reverted to negative status for COVID-19 after repeat test following recovery from symptoms. Apart from that forty-nine (49) of the confirmed cases have significantly improved with no symptoms and have been discharged from admission for home care pending repetition of laboratory tests. Christian Adu-Poku to comply with the president’s directive regarding the partial lockdown. Some parts of Accra, Kasoa and Tema, Kumasi and its environs are currently observing a partial lockdown in accordance with a directive by President Akufo-Addo.\"\n",
        "[precision, recall, f_score] = r.rouge_l([system_generated_summary], [manual_summmary])\n",
        "print(\"Precision is :\"+str(precision)+\"\\nRecall is :\"+str(recall)+\"\\nF Score is :\"+str(f_score))"
      ],
      "execution_count": null,
      "outputs": [
        {
          "output_type": "stream",
          "text": [
            "Precision is :0.5765124555160143\n",
            "Recall is :0.250386398763524\n",
            "F Score is :0.3491388888119199\n"
          ],
          "name": "stdout"
        }
      ]
    },
    {
      "cell_type": "code",
      "metadata": {
        "id": "LNZR1aqS_w_z",
        "colab": {
          "base_uri": "https://localhost:8080/"
        },
        "outputId": "580c3314-ad12-4daa-f6b7-6263d9c5656c"
      },
      "source": [
        "result = model(get_corona_summary.url_content[5], min_length=30,max_length=1000)\n",
        "summary = \"\".join(result)\n",
        "print(summary)"
      ],
      "execution_count": null,
      "outputs": [
        {
          "output_type": "stream",
          "text": [
            "Doctors who have treated a combined total of over 425 confirmed or presumptive Chinese coronavirus patients with the drug hydroxychloroquine told Breitbart News they are finding the medication to be helpful. Studies are clearly required to more conclusively determine whether the hydroxychloroquine indeed played a role in patient recovery or whether those same patients would have recovered anyway without the medication. Some of the doctors interviewed for this article prescribed hydroxychloroquine along with zinc sulfate, and in many cases combined the drug with an antibiotic regimen. There are also concerns about the supply chain for hydroxychloroquine. The extra demand could cause a shortage for lupus and arthritis patients already using the medication regularly. Indeed, that is what the doctors say they have been finding. Also, doctors affiliated with other practices or with hospitals who are using the hydroxychloroquine and antibiotic combination say they are aware of positive results. Zelenko said that the lack of testing has been a factor, explaining that during the initial days he had to act clinically and that in recent weeks he needed to prescribe in large part based on symptoms, since he didn’t want to waste valuable time for the test results to return three days later. He said that the instant tests currently in development would be a gamechanger. He is still compiling more data sets. While some of the treated patients did not receive coronavirus tests due to limited availability and result times, Zelenko noted the Kiryas Joel area is flooded with coronavirus patients and he has seen many patients who fit the specific symptom profile or coronavirus as opposed to a cold or the flu. Dr. Rosy E. Joseph is a nephrologist in Hackensack, New Jersey, and has been practicing for 30 years. She graduated from Columbia University medical school. Like most area doctors, Dr. Joseph in recent weeks has experienced a surge in coronavirus patients. Joseph said she has not seen evidence of serious side effects from the prescribed cocktail. The oncologist asked that the name of the hospital be withheld from publication since he is not an official spokesperson for the facility. Both hospitals have been asked for official comment. Rubin said that after taking the cocktail for a few days, his father is “doing amazing,” and he personally is nearly recovered. Those experiences were echoed by other patients who detailed their cases to Breitbart News. The implication is that hydroxychloroquine, which has been prescribed for decades, is somehow deadly. The federal government awarded PPD Inc., a North Carolina pharmaceutical company, $750,000 for a one-month study on the use of “hydrochloroquine and chloroquine in patients with coronavirus disease (COVID-19), positive for SARS-COV-2 virus exposure, or pre-exposure and post-exposure prophylaxis,” BuzzFeed reported. The AP reported: The French study has attracted the most attention. Six also were given the antibiotic azithromycin.\n"
          ],
          "name": "stdout"
        }
      ]
    },
    {
      "cell_type": "code",
      "metadata": {
        "id": "7y9z5KOr7bmp",
        "colab": {
          "base_uri": "https://localhost:8080/"
        },
        "outputId": "1a6bdf98-fedd-4b6d-e0ee-138e4916df16"
      },
      "source": [
        "r = Rouge()\n",
        "system_generated_summary = \"Doctors who have treated a combined total of over 425 confirmed or presumptive Chinese coronavirus patients with the drug hydroxychloroquine told Breitbart News they are finding the medication to be helpful. Studies are clearly required to more conclusively determine whether the hydroxychloroquine indeed played a role in patient recovery or whether those same patients would have recovered anyway without the medication. Some of the doctors interviewed for this article prescribed hydroxychloroquine along with zinc sulfate, and in many cases combined the drug with an antibiotic regimen. There are also concerns about the supply chain for hydroxychloroquine. The extra demand could cause a shortage for lupus and arthritis patients already using the medication regularly. Indeed, that is what the doctors say they have been finding. Also, doctors affiliated with other practices or with hospitals who are using the hydroxychloroquine and antibiotic combination say they are aware of positive results. Zelenko said that the lack of testing has been a factor, explaining that during the initial days he had to act clinically and that in recent weeks he needed to prescribe in large part based on symptoms, since he didn’t want to waste valuable time for the test results to return three days later. He said that the instant tests currently in development would be a gamechanger. He is still compiling more data sets. While some of the treated patients did not receive coronavirus tests due to limited availability and result times, Zelenko noted the Kiryas Joel area is flooded with coronavirus patients and he has seen many patients who fit the specific symptom profile or coronavirus as opposed to a cold or the flu. Dr. Rosy E. Joseph is a nephrologist in Hackensack, New Jersey, and has been practicing for 30 years. She graduated from Columbia University medical school. Like most area doctors, Dr. Joseph in recent weeks has experienced a surge in coronavirus patients. Joseph said she has not seen evidence of serious side effects from the prescribed cocktail. The oncologist asked that the name of the hospital be withheld from publication since he is not an official spokesperson for the facility. Both hospitals have been asked for official comment. Rubin said that after taking the cocktail for a few days, his father is “doing amazing,” and he personally is nearly recovered. Those experiences were echoed by other patients who detailed their cases to Breitbart News. The implication is that hydroxychloroquine, which has been prescribed for decades, is somehow deadly. The federal government awarded PPD Inc., a North Carolina pharmaceutical company, $750,000 for a one-month study on the use of “hydrochloroquine and chloroquine in patients with coronavirus disease (COVID-19), positive for SARS-COV-2 virus exposure, or pre-exposure and post-exposure prophylaxis,” BuzzFeed reported. The AP reported: The French study has attracted the most attention. Six also were given the antibiotic azithromycin.\"\n",
        "manual_summmary = \"They said they decided to act because they felt it was safe and because the coronavirus pandemic does not leave any time to wait for what could be months or even years of clinical trials.Studies are clearly required to more conclusively determine whether the hydroxychloroquine indeed played a role in patient recovery or whether those same patients would have recovered anyway without the medication. Even if hydroxychloroquine is found to be helpful, more research is needed to determine whether the drug needs to be combined with other medication, and which amounts should be used. Some of the doctors interviewed for this article prescribed hydroxychloroquine along with zinc sulfate, and in many cases combined the drug with an antibiotic regimen. Hospitals are reportedly seeking to stockpile the drug in anticipation of a flood of coronavirus patients and many pharmacies say they are experiencing a massive number of prescription requests for hydroxychloroquine sulfate. The extra demand could cause a shortage for lupus and arthritis patients already using the medication regularly. The FDA noted the medication is currently being used in several countries to treat Chinese coronavirus and said the “known and potential benefits of chloroquine phosphate and hydroxychloroquine sulfate” outweigh “the known and potential risks” of these drugs in treating COVID-19. The hydroxychloroquine sulfate is thought to serve as a key to force open internal cell channels, including those susceptible to coronavirus, allowing the zinc to penetrate and help line the intracellular walls to protect against coronavirus penetration. \"\n",
        "[precision, recall, f_score] = r.rouge_l([system_generated_summary], [manual_summmary])\n",
        "print(\"Precision is :\"+str(precision)+\"\\nRecall is :\"+str(recall)+\"\\nF Score is :\"+str(f_score))"
      ],
      "execution_count": null,
      "outputs": [
        {
          "output_type": "stream",
          "text": [
            "Precision is :0.35079575596816975\n",
            "Recall is :0.6498771498771498\n",
            "F Score is :0.45564264266630317\n"
          ],
          "name": "stdout"
        }
      ]
    },
    {
      "cell_type": "code",
      "metadata": {
        "id": "0e3SdpobAcWw",
        "colab": {
          "base_uri": "https://localhost:8080/"
        },
        "outputId": "1399e666-b0bf-4168-d0d6-e08ef615b71d"
      },
      "source": [
        "result = model(get_corona_summary.url_content[11], min_length=30,max_length=300)\n",
        "summary = \"\".join(result)\n",
        "print(summary)"
      ],
      "execution_count": null,
      "outputs": [
        {
          "output_type": "stream",
          "text": [
            "A controversial anti-malaria drug is being trialed as a therapy for COVID-19 at the B.C. seniors’ care home at the epicentre of the province’s novel coronavirus outbreak. As a family we had the right to deny the treatment,” she said. “ However, its benefits remain unproven, and the B.C. Centre for Disease Control (BCCDC) has recommended against its use to treat the disease “based on the lack of clinically convincing outcomes and the fragility of the supply chain.” Alberta and other provinces are expected to join within a few days.\n"
          ],
          "name": "stdout"
        }
      ]
    },
    {
      "cell_type": "code",
      "metadata": {
        "id": "Io1jXVcZJY0t",
        "colab": {
          "base_uri": "https://localhost:8080/"
        },
        "outputId": "aa732c98-3545-46a1-882e-89fa1632cbd1"
      },
      "source": [
        "r = Rouge()\n",
        "system_generated_summary = \"A controversial anti-malaria drug is being trialed as a therapy for COVID-19 at the B.C. seniors’ care home at the epicentre of the province’s novel coronavirus outbreak. As a family we had the right to deny the treatment,” she said. “ However, its benefits remain unproven, and the B.C. Centre for Disease Control (BCCDC) has recommended against its use to treat the disease “based on the lack of clinically convincing outcomes and the fragility of the supply chain.” Alberta and other provinces are expected to join within a few days.\"\n",
        "manual_summmary = \"Global News has confirmed that residents of the Lynn Valley Care Centre are receiving hydroxychloroquine as a part of an international study on the effectiveness of the drug. Forty-six residents and 24 staff at the facility have have tested positive for COVID-19. The drug is being administered to all residents of the virus-stricken building known as “the lodge” at the care home, with the exception of those who opted out of the trial. Trump says Chloroquine could be a ‘game changer. The drug made international headlines this month when U.S. President Donald Trump touted it as a potential breakthrough treatment for COVID-19. The drug has shown promise in some small, early trials. However, its benefits remain unproven, and the B.C. Centre for Disease Control (BCCDC) has recommended against its use to treat the disease “based on the lack of clinically convincing outcomes and the fragility of the supply chain.”\"\n",
        "[precision, recall, f_score] = r.rouge_l([system_generated_summary], [manual_summmary])\n",
        "print(\"Precision is :\"+str(precision)+\"\\nRecall is :\"+str(recall)+\"\\nF Score is :\"+str(f_score))"
      ],
      "execution_count": null,
      "outputs": [
        {
          "output_type": "stream",
          "text": [
            "Precision is :0.746268656716418\n",
            "Recall is :0.4352557127312296\n",
            "F Score is :0.54982913215867\n"
          ],
          "name": "stdout"
        }
      ]
    },
    {
      "cell_type": "code",
      "metadata": {
        "id": "cUYrf0ozJ5HS"
      },
      "source": [
        "import pandas as pd\n",
        "df=pd.read_csv(\"new.csv\")"
      ],
      "execution_count": null,
      "outputs": []
    },
    {
      "cell_type": "code",
      "metadata": {
        "id": "W6eN3SDccLCT",
        "colab": {
          "base_uri": "https://localhost:8080/",
          "height": 164,
          "referenced_widgets": [
            "12f31bfd21284cccb43f92a62aaea4fc",
            "718102b8f7584b9a8bda723fdfdc4b82",
            "22b601b9ee564fbaba0a2af8d1a687ea",
            "9af73b088f434323963c98d7c2476ba2",
            "faf569615f8244d58503236e105e979b",
            "f4b6f70fe7954d1f9a39065a0c8f1ccc",
            "a040403f8b91429cb73d9fcb9b14dbd9",
            "556b644d0e51443989bc2eec0ce937d4",
            "1e4b5f00b82b48abbdd88f901950da4b",
            "9dd187738365493e8b108dcb65f12b03",
            "d175b1e22e4c4514a3288b5bc328b3d6",
            "8d56f536889b496d96a0461b8a3c496d",
            "ba2f6198b64e4c5698b6790a0001a742",
            "77005e8ef40c474fb549f84916868c3b",
            "3c31bd72c6b842e9a7f5e41b4521d2c2",
            "c38bb965e65c4dc88802e019edbc788e",
            "64973a5999fd496f8a3a12741d477a16",
            "8b4bc44142e643c3917df60361fd5a8f",
            "6ef370404ed3417eb48e41af74eb2d1e",
            "116f5ab505ac4bf1bfdecfd6b09f5917",
            "c3e1e9fb38d7457da02c5fd3ac015bf6",
            "9a364be2ce854755bd9f5bc8e6eeed3d",
            "6d64ace5303247a0bc9e6aa98ca2174d",
            "7c1ebbc5f85148049c15e015384e98fa"
          ]
        },
        "outputId": "06ae86a3-69ee-4af4-bc19-f463b2aa40d8"
      },
      "source": [
        "from summarizer import Summarizer\n",
        "model = Summarizer()"
      ],
      "execution_count": null,
      "outputs": [
        {
          "output_type": "display_data",
          "data": {
            "application/vnd.jupyter.widget-view+json": {
              "model_id": "12f31bfd21284cccb43f92a62aaea4fc",
              "version_minor": 0,
              "version_major": 2
            },
            "text/plain": [
              "HBox(children=(FloatProgress(value=0.0, description='Downloading', max=434.0, style=ProgressStyle(description_…"
            ]
          },
          "metadata": {
            "tags": []
          }
        },
        {
          "output_type": "stream",
          "text": [
            "\n"
          ],
          "name": "stdout"
        },
        {
          "output_type": "display_data",
          "data": {
            "application/vnd.jupyter.widget-view+json": {
              "model_id": "1e4b5f00b82b48abbdd88f901950da4b",
              "version_minor": 0,
              "version_major": 2
            },
            "text/plain": [
              "HBox(children=(FloatProgress(value=0.0, description='Downloading', max=1344997306.0, style=ProgressStyle(descr…"
            ]
          },
          "metadata": {
            "tags": []
          }
        },
        {
          "output_type": "stream",
          "text": [
            "\n"
          ],
          "name": "stdout"
        },
        {
          "output_type": "display_data",
          "data": {
            "application/vnd.jupyter.widget-view+json": {
              "model_id": "64973a5999fd496f8a3a12741d477a16",
              "version_minor": 0,
              "version_major": 2
            },
            "text/plain": [
              "HBox(children=(FloatProgress(value=0.0, description='Downloading', max=231508.0, style=ProgressStyle(descripti…"
            ]
          },
          "metadata": {
            "tags": []
          }
        },
        {
          "output_type": "stream",
          "text": [
            "\n"
          ],
          "name": "stdout"
        }
      ]
    },
    {
      "cell_type": "code",
      "metadata": {
        "id": "KgAndk3Zc1Xb"
      },
      "source": [
        "df=df[:20]"
      ],
      "execution_count": null,
      "outputs": []
    },
    {
      "cell_type": "code",
      "metadata": {
        "id": "ao24l_6Tbsec"
      },
      "source": [
        "temp = []\n",
        "for i in df.url_content:\n",
        "  result = model(i, min_length=30,max_length=300)\n",
        "  summary = \"\".join(result)\n",
        "  temp.append(summary)\n",
        "  #print(summary)"
      ],
      "execution_count": null,
      "outputs": []
    },
    {
      "cell_type": "code",
      "metadata": {
        "colab": {
          "base_uri": "https://localhost:8080/"
        },
        "id": "IDoYv_Zxbtvg",
        "outputId": "6adaf9a3-cdc6-4111-fcd0-166f80cd8f0b"
      },
      "source": [
        "temp"
      ],
      "execution_count": null,
      "outputs": [
        {
          "output_type": "execute_result",
          "data": {
            "text/plain": [
              "['A drug that could help treat coronavirus is to be trialled on a small number of patients in England and Scotland. The studies, which have been fast-tracked by the government, will initially involve 15 NHS centres. Two studies are to be carried out in the UK - one on patients with moderate symptoms, and one on those who are in a serious condition. For about a decade we\\'ve been looking at what we call emerging viruses, looking at viruses that aren\\'t a problem yet but could be in the future. \" With no approved therapies for coronavirus infection, hopes rest on speeding up the approval process for drugs that show promise in fighting the disease US researchers have begun a trial trial to see if the malaria drug, chloroquine, will help treat coronavirus.',\n",
              " 'Presidential advisor on health, Dr. Anthony Nsiah-Asare, has revealed some of the medicines given to people infected by the deadly Coronmavirus (COVID-19) in Ghana. This controversy started when US President Donald Trump mentioned Chloroquine as potential remedies for coronavirus.',\n",
              " 'Doctors who have treated a combined total of over 425 confirmed or presumptive Chinese coronavirus patients with the drug hydroxychloroquine told Breitbart News they are finding the medication to be helpful. Studies are clearly required to more conclusively determine whether the hydroxychloroquine indeed played a role in patient recovery or whether those same patients would have recovered anyway without the medication. There are also concerns about the supply chain for hydroxychloroquine. It is also known by the brand name Plaquenil. The extra demand could cause a shortage for lupus and arthritis patients already using the medication regularly. Instead it could protect cellular lining from further penetration. Indeed, that is what the doctors say they have been finding. Rudolph W. Giuliani, the president’s personal attorney, has been promoting Zelenko’s hydroxychloroquine plan, and Fox News’s Sean Hannity read from the doctor’s regimen during an interview with Vice President Mike Pence, who is leading the White House Coronavirus Task Force. Six of his patients were admitted to hospitals. She graduated from Columbia University medical school. Like most area doctors, Dr. Joseph in recent weeks has experienced a surge in coronavirus patients. Joseph told Breitbart News that she treated between 50 and 60 presumptive and confirmed coronavirus patients with hydroxychloroquine. That patient went to the hospital the next day. Isseroff told Breitbart News that he is currently analyzing data from the more than 225 coronavirus patients that he treated using hydroxychloroquine. Both hospitals have been asked for official comment. Rubin said that after taking the cocktail for a few days, his father is “doing amazing,” and he personally is nearly recovered. The implication is that hydroxychloroquine, which has been prescribed for decades, is somehow deadly. Holding enough clinical trials would take many months or even years. The fear of drug hoarding during the pandemic, however, prompted a New York state executive order last week that banned pharmacies from dispensing hydroxychloroquine for non-FDA approved indications, or for patients who are not in clinical trials for coronavirus treatment. According to Drugs.com, common side effects of hydroxychloroquine include: headache, dizziness, ringing in the ears; nausea, vomiting, stomach pain; loss of appetite, weight loss; mood changes, feeling nervous or irritable; skin rash or itching; or hair loss. Six also were given the antibiotic azithromycin. The journal Nature Medicine reported on lab tests that demonstrated the drug blocked the coronavirus’s ability to enter cells, but it doesn’t mean the same would be repeated in human trials.',\n",
              " 'What’s going on in the fifth largest economy in the world arguably points to a major collusion scandal in which the French government is helping Big Pharma to profit from the expansion of Covid-19. Respected Professor Christian Perronne talked about the theft live in one of France’s 24/7 info channels: “The central pharmacy for the hospitals announced today that they were facing a total rupture of stocks, that they were pillaged.” Raoult was part of a clinical trial that in which hydroxychloroquine and azithromycin healed 90% of Covid-19 cases if they were tested very early. ( Only contaminated individuals should be confined. Chloroquine costs one euro for ten pills. There’s not a peep about chloroquine. One of those in charge at the time was Jerome Salomon, now a scientific counselor to the Macron government. She also says it had been her understanding that the Paris mayoral election “would not take place” and that it was, ultimately, “a masquerade.” The second round was postponed indefinitely. Professor Perrone reveals on the 24/7 LCI news channel that the stock of chloroquine at the French central pharmacy has been stolen. Pakistan decides to increase its production of chloroquine to be sent to China. Christian Estrosi, the mayor of Nice, having had himself treated with chloroquine, without any government input, directly calls Sanofi so they may deliver chloroquine to Nice hospitals. EU-driven austerity mixed with the profit motive resulted in a very lax attitude towards the health system. Same for chloroquine, which this government did everything to make inaccessible for the population. And they did not protect vital stocks. He’s not advocating chloroquine for everyone. It’s exactly what the Chinese did, along with their use of Interferon. In fact the treatment is only allowed for terminal Covid-19 patients, with no other possibility of healing. Since Raoult is rated by his peers as the number one world expert  in communicable diseases, way above Dr. Anthony Fauci in the US, I would say the new reports represent Big Pharma talking. A dogged combination of mass testing and contact tracing was applied with immense professionalism.',\n",
              " 'A controversial anti-malaria drug is being trialed as a therapy for COVID-19 at the B.C. seniors’ care home at the epicentre of the province’s novel coronavirus outbreak. As a family we had the right to deny the treatment,” she said. “ However, its benefits remain unproven, and the B.C. Centre for Disease Control (BCCDC) has recommended against its use to treat the disease “based on the lack of clinically convincing outcomes and the fragility of the supply chain.” Alberta and other provinces are expected to join within a few days.',\n",
              " 'Malaria drug hydroxychloroquine continues to dominate the headlines after many success stories from doctors in the front line. Dr. Smith is the founder of the Smith Center for Infectious Diseases in New Jersey. When the two discussed treatment options and the use of hydroxychloroquine and azithromycin, Smith said they are treating everyone with it and it has had incredible results. “ I think this is the beginning of the end of the [coronavirus] pandemic,” Dr. Smith concluded. He has been in practice for more than 20 years.',\n",
              " 'NY, NJ Doctors and Patients See Anecdotal Evidence of Hydroxychloroquine Benefits in Fighting Coronavirus',\n",
              " 'A debate may be raging inside the White House about the efficacy of an anti-malaria drug to treat the novel coronavirus, but the Trump administration isn’t waiting for a resolution. Two federal agencies have already placed purchase orders for the drug. Local governments such as New York and Michigan have reported promising anecdotal results from the use of hydroxychloroquine to treat the virus.',\n",
              " 'A survey of over 6,000 doctors found that the anti-malaria drug hydroxychloroquine was rated the “most effective therapy” for the Chinese Coronavirus. The Washington Examiner: An international poll of more than 6,000 doctors released Thursday found that the antimalarial drug hydroxychloroquine was the most highly rated treatment for the novel coronavirus. The Mainstream Press really doesn’t want you to know about this survey.',\n",
              " 'President Donald Trump\\'s trade adviser Peter Navarro, who the president recently tapped to help implement the Defense Production Act amid the coronavirus crisis, is publicly pushing back against the nation\\'s top infectious disease expert. I have a Ph.D., and I understand how to read statistical studies, whether it\\'s in medicine, the law, economics or whatever.\" On Saturday, and if we didn\\'t have disagreement or debate in the Trump administration, this administration would not be as strong as it is,\" Navarro told CNN, appearing to confirm the argument took place. \" But despite tension from his own health officials, the president at Sunday\\'s task force briefing continued to show his support for the drug and announced that the federal government has stockpiled 29 million pills of it -- \"a big number.\" \" If it does work, it would be a shame if we didn\\'t do it early. I really think they should take it. Toward the end of the briefing, a reporter asked Fauci directly for his opinion on the effectiveness of hydroxychloroquine, but Trump stopped the doctor from answering. \"',\n",
              " 'While Dr. Anthony Fauci has urged caution in using hydroxychloroquine, some doctors are prescribing it to patients who have the virus despite the fact it has never been tested for it. The passing reference he makes to the possible dangers is usually overwhelmed by the full-throated endorsement. “ Along the way, he has prompted an international debate about a drug that many doctors in New York and elsewhere have been trying in desperation even without conclusive scientific studies. He’s the president of the United States. At St. Barnabas Hospital in the Bronx, another doctor said his staff was giving it to coronavirus patients but criticized the president and Gov. Andrew M. Cuomo for “cheerleading” the drug without proof. “ The next day, Peter Navarro, the president’s trade adviser, who has been assigned to expedite production of medical equipment and become an advocate of the drug, upbraided Dr. Fauci at a White House task force meeting, according to people informed about the discussion. Mr. Navarro, who earned a doctorate in economics from Harvard, defended his position on Monday despite his lack of medical credentials. “ We don’t have time,” the president said. “ A spokesman for Mr. Fisher declined to comment. Mr. Ross said in a statement Monday that he “was not aware that Invesco has any investments in companies producing” the drug, “nor do I have any involvement in the decision to explore this as a treatment.” Ashleigh Koss, a Sanofi spokeswoman, said the company no longer sells or distributes Plaquenil in the United States, although it does sell it internationally. Other generic drugmakers are ramping up production, including Mylan and Teva Pharmaceutical Industries. Mr. Kushner’s team referred him to the White House task force and Mr. Mignone asked for help getting India to ease export restrictions, which have since been relaxed, allowing Teva to bring more pills into the United States. We explain the pros and cons and explain that we don’t know if it works or not,” he said. I can’t tell whether someone got better on their own or because of the medication.”',\n",
              " 'On Monday, The New York Times reported that Donald Trump is personally invested in the medication he has been selling to the American public. The World Health Organization (WHO) began shipping coronavirus testing supplies to nearly 60 countries by February, but Trump didn’t want those kits. Think back to when Trump falsely announced during a press conference on March 13 that a website of information about the impending pandemic was up and running thanks to Google. As with Donald Trump’s financial disclosures, we are unable to completely dissect the full nature of Kushner’s personal investments, especially considering that his wife Ivanka Trump has disclosed many of the same trusts her father has listed. The relationships and connections that the Oscar team is able to make are essential to keeping the company going and there is no shortage of access to Jared Kushner, who has been firmly established as a figurehead on the corona team. After the dust has settled on this emergency, there will be many contracts and deals to dissect — hopefully we can do it before November.',\n",
              " 'There’s a lot of news to catch up on, and to keep things straight I’ll divide the hydroxychloroquine part out into this post, and cover others in the next one. My previous reviews of the clinical data in this area are here. There are a couple of other things that need to be noted. And by “bad”, I mean about 30% mortality. If this translates at all to humans, it could be bad news, because (as mentioned above) diabetics look like a high-risk group and many patients may well have been taking metformin when they present at the hospital. An investigational drug combination that showed this effect in mice would not move forward in the normal course of things. However, when we included the deteriorated patients into the analysis, this evidence increased to moderate. I can see where they’re coming from: if you haven’t done this stuff, you can look at a report of people responding to such a treatment and figure that the answer is here – right here, and anyone who doesn’t see it must have some ulterior motives in ignoring what’s in front of their face. No short cuts, no gut feelings – just data. And the larger the effect size, the smaller a trial can be and still have meaning. In drug research, though, we do not approach parachute levels of difference very often. It may seem like the Covid-19 epidemic is more like the parachute situation, but consider that many people get infected with the virus without ever really knowing that they’re sick – which is not the case with being heaved out of an airplane, for the most part. Unfortunately, my lab skills are not well matched to the current epidemic – my own research has been more oncology-focused, and it’s way back in the pipeline. Raising hopes just for the sake of raising hopes is not where I am, though, and in fact I find that whole idea to be cruel.',\n",
              " '',\n",
              " '',\n",
              " '',\n",
              " '',\n",
              " '',\n",
              " '',\n",
              " 'President Donald Trump, for a number of weeks, has persistently pushed an antimalarial drug he claims could help patients suffering from the ill effects of coronavirus, even though there’s no scientific evidence backing its use for that purpose. But the FDA has not confirmed that the drug is effective for use against coronavirus. Many have wondered why Trump continues to tout the drug, then, when his medical experts say it shouldn’t be promoted in such glowing terms. Some, such as MSNBC “Morning Joe” co-host Mika Brzezinski, have suggested there might be a financial component that’s motivating the president. “ In exchange for paying Cohen $100,000 per month for over a year starting in February 2017, the company expected Trump’s lawyer to provide them with access to the president’s attitudes on health care policy, including provisions in the Affordable Care Act that were relevant to them.']"
            ]
          },
          "metadata": {
            "tags": []
          },
          "execution_count": 38
        }
      ]
    },
    {
      "cell_type": "code",
      "metadata": {
        "id": "D2BFKHp-j4HF"
      },
      "source": [
        ""
      ],
      "execution_count": null,
      "outputs": []
    },
    {
      "cell_type": "code",
      "metadata": {
        "colab": {
          "base_uri": "https://localhost:8080/"
        },
        "id": "v5CqmdJSeJ7X",
        "outputId": "94a3104e-bb11-422d-8b9b-69c6ef3590bf"
      },
      "source": [
        "r = Rouge()\n",
        "for i in range(0,10):\n",
        "  [precision, recall, f_score] = r.rouge_l([temp[i]], [df.gold_sum[i]])\n",
        "  print(\"Summary[\",i,\"]\")\n",
        "  print(\"Precision is :\"+str(precision)+\"\\nRecall is :\"+str(recall)+\"\\nF Score is :\"+str(f_score))\n",
        "  print(\"-----------------------------------------------------------------------\")"
      ],
      "execution_count": null,
      "outputs": [
        {
          "output_type": "stream",
          "text": [
            "Summary[ 0 ]\n",
            "Precision is :0.8575197889182058\n",
            "Recall is :0.8507853403141361\n",
            "F Score is :0.8541402404081386\n",
            "-----------------------------------------------------------------------\n",
            "Summary[ 1 ]\n",
            "Precision is :0.5765124555160143\n",
            "Recall is :0.25\n",
            "F Score is :0.34876306759864756\n",
            "-----------------------------------------------------------------------\n",
            "Summary[ 2 ]\n",
            "Precision is :0.38741721854304634\n",
            "Recall is :0.6468058968058968\n",
            "F Score is :0.4845844782257042\n",
            "-----------------------------------------------------------------------\n",
            "Summary[ 3 ]\n",
            "Precision is :0.26175115207373273\n",
            "Recall is :0.6180631120783461\n",
            "F Score is :0.36775751372025045\n",
            "-----------------------------------------------------------------------\n",
            "Summary[ 4 ]\n",
            "Precision is :0.13805970149253732\n",
            "Recall is :0.7047619047619048\n",
            "F Score is :0.2308902081746329\n",
            "-----------------------------------------------------------------------\n",
            "Summary[ 5 ]\n",
            "Precision is :0.5928030303030303\n",
            "Recall is :0.28768382352941174\n",
            "F Score is :0.38737719362808065\n",
            "-----------------------------------------------------------------------\n",
            "Summary[ 6 ]\n",
            "Precision is :0.819047619047619\n",
            "Recall is :0.10565110565110565\n",
            "F Score is :0.18716093623432983\n",
            "-----------------------------------------------------------------------\n",
            "Summary[ 7 ]\n",
            "Precision is :0.8211586901763224\n",
            "Recall is :0.13371616078753076\n",
            "F Score is :0.22998333923062006\n",
            "-----------------------------------------------------------------------\n",
            "Summary[ 8 ]\n",
            "Precision is :0.8181818181818182\n",
            "Recall is :0.1411338962605549\n",
            "F Score is :0.24074171564569521\n",
            "-----------------------------------------------------------------------\n",
            "Summary[ 9 ]\n",
            "Precision is :0.6262719703977798\n",
            "Recall is :0.2654901960784314\n",
            "F Score is :0.37290098572454183\n",
            "-----------------------------------------------------------------------\n"
          ],
          "name": "stdout"
        }
      ]
    },
    {
      "cell_type": "code",
      "metadata": {
        "colab": {
          "base_uri": "https://localhost:8080/"
        },
        "id": "HkDic1q_nfAG",
        "outputId": "f34717ad-b34f-4dc1-8265-2534ff788ed1"
      },
      "source": [
        "for i in range(0,10):\n",
        "    print(\"Original Document:\",df.url_content[i])\n",
        "    print(\"Predicted summary:\", temp[i])\n",
        "    [precision, recall, f_score] = r.rouge_l([temp[i]], [df.gold_sum[i]])\n",
        "    print(\"\\n\")\n",
        "    print(\"Summary[\",i,\"]\")\n",
        "    print(\"Precision is :\"+str(precision)+\"\\nRecall is :\"+str(recall)+\"\\nF Score is :\"+str(f_score))\n",
        "    print(\"-----------------------------------------------------------------------\")\n",
        "    #print(\"\\n\")"
      ],
      "execution_count": null,
      "outputs": [
        {
          "output_type": "stream",
          "text": [
            "Original Document: A drug that could help treat coronavirus is to be trialled on a small number of patients in England and Scotland. The studies, which have been fast-tracked by the government, will initially involve 15 NHS centres. In the absence of a known treatment for the virus, a handful of experimental drugs are being tested globally. The drug, known as remdesivir, is manufactured by the pharmaceutical company Gilead. Two studies are to be carried out in the UK - one on patients with moderate symptoms, and one on those who are in a serious condition. Trials are already underway in China and the US, with the first results expected in the coming weeks. The UK trials will be based in England and Scotland and overseen by Dr Andrew Ustianowski, a consultant in infectious diseases. He's spent the past couple of weeks working full time helping treat COVID-19 patients and has seen first-hand how sick patients can become. \"What we really need, and what we really want, is a specific treatment against Coronavirus that delays the infection, treats the infection, and hopefully makes people better. \"I think this drug is promising in the laboratory, and we're hopeful it will be as promising in humans. \"In my heart I'm hopeful, but we do need studies such as this to work out how well it works and how best to use it.\"Anti-viral drugs Gilead specialises in producing anti-viral medications. Hilary Hutton-Squire, the company's General Manager in the UK and Ireland, says the work behind this drug stretches back over ten years. \"For about a decade we've been looking at what we call emerging viruses, looking at viruses that aren't a problem yet but could be in the future. \"Coronaviruses are an important category of virus because when we've seen them jump from animals to humans previously they've caused a lot of problems as with SARS and MERS,. \"So remdesivir was a product we had looked at against SARS and MERS and seen that it had some activity, and that's why we thought it was really important to see if it has a role to play in treating patients with COVID-19 as quickly as we can.\" The UK regulator, the Medicines and Healthcare Products Regulatory Agency (MHRA), said it was ready to prioritise and provide any assistance in response to Covid-19, in line with government priorities. \"We have procedures for rapid scientific advice, reviews and approvals and are ready to support manufacturers, researchers and other regulators,\" said Dr Siu Ping Lam. Remdesivir has been considered as a potential treatment for Ebola. The drug is designed to interfere with the way a virus reproduces, thereby stopping it from multiplying inside the body. With no approved therapies for coronavirus infection, hopes rest on speeding up the approval process for drugs that show promise in fighting the disease US researchers have begun a trial trial to see if the malaria drug, chloroquine, will help treat coronavirus.\n",
            "Predicted summary: A drug that could help treat coronavirus is to be trialled on a small number of patients in England and Scotland. The studies, which have been fast-tracked by the government, will initially involve 15 NHS centres. Two studies are to be carried out in the UK - one on patients with moderate symptoms, and one on those who are in a serious condition. For about a decade we've been looking at what we call emerging viruses, looking at viruses that aren't a problem yet but could be in the future. \" With no approved therapies for coronavirus infection, hopes rest on speeding up the approval process for drugs that show promise in fighting the disease US researchers have begun a trial trial to see if the malaria drug, chloroquine, will help treat coronavirus.\n",
            "\n",
            "\n",
            "Summary[ 0 ]\n",
            "Precision is :0.8575197889182058\n",
            "Recall is :0.8507853403141361\n",
            "F Score is :0.8541402404081386\n",
            "-----------------------------------------------------------------------\n",
            "Original Document: Presidential advisor on health, Dr. Anthony Nsiah-Asare, has revealed some of the medicines given to people infected by the deadly Coronmavirus (COVID-19) in Ghana. Following the outbreak of the virus in November 2019, Ghana has so far recorded 195 cases with 5 deaths. In a report sighted by YEN.com.gh, on Peacefmonline.com, three (3) of the confirmed cases have fully recovered and reverted to negative status for COVID-19 after repeat test following recovery from symptoms. Apart from that forty-nine (49) of the confirmed cases have significantly improved with no symptoms and have been discharged from admission for home care pending repetition of laboratory tests. However, there is a huge debate on some of the medications given to COVID-19 patients. This controversy started when US President Donald Trump mentioned Chloroquine as potential remedies for coronavirus. Meanwhile, the District Chief Executive (DCE) for the Afigya Kwabre South of the Ashanti Region, Christian Adu-Poku, has been videoed in a severe altercation with some police officers. While details of what sparked the near fist fight between the government official and the police officers remain sketchy, it appears the officers were attempting to get Hon. Christian Adu-Poku to comply with the president’s directive regarding the partial lockdown. Some parts of Accra, Kasoa and Tema, Kumasi and its environs are currently observing a partial lockdown in accordance with a directive by President Akufo-Addo. Watch the video below:\n",
            "Predicted summary: Presidential advisor on health, Dr. Anthony Nsiah-Asare, has revealed some of the medicines given to people infected by the deadly Coronmavirus (COVID-19) in Ghana. This controversy started when US President Donald Trump mentioned Chloroquine as potential remedies for coronavirus.\n",
            "\n",
            "\n",
            "Summary[ 1 ]\n",
            "Precision is :0.5765124555160143\n",
            "Recall is :0.25\n",
            "F Score is :0.34876306759864756\n",
            "-----------------------------------------------------------------------\n",
            "Original Document: Doctors who have treated a combined total of over 425 confirmed or presumptive Chinese coronavirus patients with the drug hydroxychloroquine told Breitbart News they are finding the medication to be helpful. The doctors stressed that more long-term studies are needed to draw concrete scientific conclusions about hydroxychloroquine and Chinese coronavirus. But they said they decided to act because they felt it was safe and because the coronavirus pandemic does not leave any time to wait for what could be months or even years of clinical trials. Their experiences are not meant to be taken as controlled scientific trials. Studies are clearly required to more conclusively determine whether the hydroxychloroquine indeed played a role in patient recovery or whether those same patients would have recovered anyway without the medication. Even if hydroxychloroquine is found to be helpful, more research is needed to determine whether the drug needs to be combined with other medication, and which amounts should be used. Some of the doctors interviewed for this article prescribed hydroxychloroquine along with zinc sulfate, and in many cases combined the drug with an antibiotic regimen. There are also concerns about the supply chain for hydroxychloroquine. Hospitals are reportedly seeking to stockpile the drug in anticipation of a flood of coronavirus patients and many pharmacies say they are experiencing a massive number of prescription requests for hydroxychloroquine sulfate. Hydroxychloroquine sulfate is a Food and Drug Administration (FDA)-approved prescription arthritis medicine that is also used to prevent malaria, and has been prescribed to treat lupus symptoms. It is also known by the brand name Plaquenil. The extra demand could cause a shortage for lupus and arthritis patients already using the medication regularly. Two days ago, the FDA issued emergency approval to distribute millions of doses of hydroxychloroquine to hospitals across the country for use in treating coronavirus. The FDA’s chief scientist concluded that “based on the totality of scientific evidence available to FDA” it is “reasonable to believe that chloroquine phosphate and hydroxychloroquine sulfate may be effective for the treatment of COVID-19.” The FDA noted the medication is currently being used in several countries to treat Chinese coronavirus and said the “known and potential benefits of chloroquine phosphate and hydroxychloroquine sulfate” outweigh “the known and potential risks” of these drugs in treating COVID-19. ‘Battlefield medicine’ The hydroxychloroquine sulfate is thought to serve as a key to force open internal cell channels, including those susceptible to coronavirus, allowing the zinc to penetrate and help line the intracellular walls to protect against coronavirus penetration. The antibiotic is meant to act against any secondary infection brought on by the coronavirus attack. The doctors interviewed for this article practice in the hard-hit areas of New York or New Jersey. They say none of their patients experienced strong side effects from the medication cocktail. The hydroxychloroquine treatment is not believed to kill coronavirus. Instead it could protect cellular lining from further penetration. This could mean that if it does work, the drug cocktail would likely have more success in patients who are in the early or middle stages of infection and would be less effective in those who are already in critical condition. Indeed, that is what the doctors say they have been finding. Also, doctors affiliated with other practices or with hospitals who are using the hydroxychloroquine and antibiotic combination say they are aware of positive results. Breitbart News also spoke with numerous patients treated by the doctors, who claim the drug helped them to recover. “This is battlefield medicine and the use of real time frontline assessment,” said Dr. Vladimir Zelenko, who practices family medicine with mostly ultra-Orthodox Jewish patients near the Orange County, New York, village of Kiryas Joel. The tightknit community has seen a deluge of coronavirus cases in recent weeks. Zelenko has been prescribing a treatment plan of 200mg of hydroxychloroquine twice a day for 5 days, Azithromycin 500mg antibiotics once a day for 5 days, and 220mg of Zinc sulfate once a day for 5 days. Zelenko has become one of the faces of hydroxychloroquine use for coronavirus patients after he shared his regimen with the White House, which is reportedly evaluating the plan. Rudolph W. Giuliani, the president’s personal attorney, has been promoting Zelenko’s hydroxychloroquine plan, and Fox News’s Sean Hannity read from the doctor’s regimen during an interview with Vice President Mike Pence, who is leading the White House Coronavirus Task Force. As of this writing, Zelenko said he has seen nearly 700 coronavirus patients since the outbreak, with each diagnosed either clinically or via coronavirus testing. He said that he selected about 200 high-risk patients to receive the hydroxychloroquine cocktail and about nearly 150 took the drugs. Six of his patients were admitted to hospitals. Two of those admitted were intubated, and four are recovering on intravenous antibiotics. “This is better outcomes than what is being reported by other physicians,” he said. Zelenko said that the lack of testing has been a factor, explaining that during the initial days he had to act clinically and that in recent weeks he needed to prescribe in large part based on symptoms, since he didn’t want to waste valuable time for the test results to return three days later. He said that the instant tests currently in development would be a gamechanger. Zelenko provided a sampling of specific outcome data sets on 55 of his patients, the vast majority of whom had the outcomes of “better” or “a lot better.” He is still compiling more data sets. While some of the treated patients did not receive coronavirus tests due to limited availability and result times, Zelenko noted the Kiryas Joel area is flooded with coronavirus patients and he has seen many patients who fit the specific symptom profile or coronavirus as opposed to a cold or the flu. Dr. Rosy E. Joseph is a nephrologist in Hackensack, New Jersey, and has been practicing for 30 years. She graduated from Columbia University medical school. Like most area doctors, Dr. Joseph in recent weeks has experienced a surge in coronavirus patients. As a kidney specialist, Joseph has been using hydroxychloroquine to treat lupus patients for decades. Joseph told Breitbart News that she treated between 50 and 60 presumptive and confirmed coronavirus patients with hydroxychloroquine. Her regimen differs somewhat from that of Zelenko in that she combines the drug with Vitamins C and D, along with zinc. Joseph said that she believes the regimen is most likely helping. She said only one patient was hospitalized, an elderly individual who was already seriously ill by the time hydroxychloroquine was administered. That patient went to the hospital the next day. Joseph said she has not seen evidence of serious side effects from the prescribed cocktail. A third doctor, Hillel Isseroff, is an internist in Brooklyn, New York, affiliated with NYU Langone Hospitals and Mount Sinai Beth Israel Hospital. He has been treating coronavirus patients in the Crown Heights section of Brooklyn, which has also experienced a massive influx due to the pandemic. Isseroff told Breitbart News that he is currently analyzing data from the more than 225 coronavirus patients that he treated using hydroxychloroquine. His overall assessment is that he feels the medication might be effective if it is started early, from onset of the symptoms. Isseroff had been prescribing hydroxychloroquine along with Azithromycin 250mg tablets in select coronavirus patients who were considered high risk. He has also been suggesting zinc early in the illness. Patients recount taking cocktail Besides the doctors quoted in this article, Breitbart News is aware of other physicians and even New York hospitals treating coronavirus patients with hydroxychloroquine. Some of the doctors asked that their names be withheld from publication. They each reported generally positive results from prescribing hydroxychloroquine, but stressed that their cases do not represent controlled scientific trials. One doctor, a renowned oncologist on the upper east side of Manhattan, has admitting privileges to hospitals in that area. He told Breitbart News he is aware of one major upper east side hospital that is officially using the hydroxychloroquine and azithromycin combination to treat coronavirus patients. He says that the hospital is finding the cocktail to be working “quite well” in patients who are not admitted in critical condition. The oncologist asked that the name of the hospital be withheld from publication since he is not an official spokesperson for the facility. A pulmonary specialist affiliated with a second New York hospital using hydroxychloroquine reported positive results, but asked that Breitbart News wait for an official comment from the hospital before printing the name of the major health institution. Both hospitals have been asked for official comment. Meanwhile, numerous coronavirus patients recounted their experiences taking hydroxychloroquine. Joel Rubin of Woodbury, New York, has been a patient of Dr. Zelenko’s for 16 years. Rubin and his elderly father tested positive for coronavirus. His father had a serious case of secondary pneumonia and he himself was in bed for a few days with coronavirus symptoms. Rubin said that after taking the cocktail for a few days, his father is “doing amazing,” and he personally is nearly recovered. Rubin works in the healthcare industry, and says he knows several other patients in the area who were treated by Zelenko and got better after taking hydroxychloroquine. Another patient of Zelenko’s, Joseph, age 48, says that he has experienced coronavirus symptoms and was put on the drugs. “I got better every day,” said the patient, Joseph, who asked that his last name be withheld to protect his privacy. “I didn’t have any side effects.” Those experiences were echoed by other patients who detailed their cases to Breitbart News. Media playing deadly politics? Numerous healthcare workers and patients contacted by this reporter expressed concern that media outlets and some anti-Trump politicians are playing politics with hydroxychloroquine simply because Trump has been touting the drug. “Lives are at stake. It’s terrible that this isn’t a cold scientific issue and instead people who hate Trump are trying to go against the drug just because Trump said that it works,” said one physician who spoke on condition of anonymity for fear of professional retaliation. The same sentiment was expressed by other interviewees.The phenomenon has led to an unusual situation in which a drug that could impact the coronavirus pandemic has turned into a political discussion instead of an analysis of the facts. Hydroxychloroquine has been discussed on Fox News and conservative media while many left-leaning news media outlets have been repeatedly singling out one case of an Arizona man who attempted to self-treat with a toxic fish tank cleaner that contained poisonous ingredients such as chloroquine phosphate, a different form from the prescribed drug, and reportedly died as a result. The implication is that hydroxychloroquine, which has been prescribed for decades, is somehow deadly. When covering Trump touting the drug, many media outlets also repeatedly restate the fact that hydroxychloroquine is an “unproven” drug for coronavirus. Hydroxychloroquine is obviously unproven given that the pandemic only began less than three months ago. Holding enough clinical trials would take many months or even years. In a notable reversal, Michigan Gov. Gretchen Whitmer (D) is now reportedly asking the federal government to send shipments of hydroxychloroquine to help during the pandemic after first threatening “administrative action” against doctors who prescribed the drug for Chinese coronavirus patients. “We want to ensure that doctors have the ability to prescribe these medicines,” the governor said. “We also want to make sure that the people who have prescriptions that predated COVID-19 have access to the medication they need. And so all of the work that we’ve done is trying to strike that balance.”Government trials New York State began clinical trials of hydroxychloroquine last Tuesday along with zithromax and chloroquine. The federal government awarded PPD Inc., a North Carolina pharmaceutical company, $750,000 for a one-month study on the use of “hydrochloroquine and chloroquine in patients with coronavirus disease (COVID-19), positive for SARS-COV-2 virus exposure, or pre-exposure and post-exposure prophylaxis,” BuzzFeed reported. In addition to approving the drug for emergency distribution to hospitals, the FDA announced it is “working closely with other government agencies and academic centers that are investigating the use of the drug chloroquine, which is already approved for treating malaria, lupus and rheumatoid arthritis, to determine whether it can be used to treat patients with mild-to-moderate COVID-19 to potentially reduce the duration of symptoms, as well as viral shedding, which can help prevent the spread of disease. Studies are underway to determine the efficacy in using chloroquine to treat COVID-19.” Speaking today on SiriusXM’s Breitbart News Daily with host Alex Marlow, Housing and Urban Development Secretary Ben Carson said the Trump administration was hurrying drug approval and testing protocols and was allowing patient access to promising treatments going through clinical trials. The fear of drug hoarding during the pandemic, however, prompted a New York state executive order last week that banned pharmacies from dispensing hydroxychloroquine for non-FDA approved indications, or for patients who are not in clinical trials for coronavirus treatment. The executive order does not ban doctors from prescribing hydroxychloroquine for coronavirus patients, but doctors say that it has been making New York pharmacies more selective about filling prescriptions. The order caps the prescription period to 14 days per patient and doesn’t allow refills. The potential shortage has already led the Israeli drug company Teva Pharmaceutical Industries Ltd. to donate 10 million hydroxychloroquine tablets to U.S. hospitals. Teva is one of the world’s largest makers of hydroxychloroquine. According to Drugs.com, common side effects of hydroxychloroquine include: headache, dizziness, ringing in the ears; nausea, vomiting, stomach pain; loss of appetite, weight loss; mood changes, feeling nervous or irritable; skin rash or itching; or hair loss. Patients are urged to call their doctor if they develop: headache with chest pain and severe dizziness, fainting, fast or pounding heartbeats; very slow heart rate, weak pulse; muscle weakness, numbness or tingling; signs of low blood sugar or low blood cell counts. This week, a small study reported by Chinese doctors documented that hydroxychloroquine helped the recovery of mildly ill coronavirus patients. In advocating for hydroxychloroquine sulfate, many have pointed to a limited French study that had positive results. The AP reported: The French study has attracted the most attention. Doctors gave hydroxychloroquine to 26 people with confirmed coronavirus infections, including some with no symptoms. Six also were given the antibiotic azithromycin. Some of the 26 were not counted in the final results because they didn’t complete the study — what’s known as “lost to followup” — but that included three who worsened and were sent to intensive care, one who died a day after later testing negative for the virus, and one who stopped treatment because of nausea. After six days, no patients given hydroxychloroquine plus azithromycin had virus detected in swabs from the back of the nose, versus 57% of those given the malaria drug alone and 12.5% of some other patients who received neither drug. The journal Nature Medicine reported on lab tests that demonstrated the drug blocked the coronavirus’s ability to enter cells, but it doesn’t mean the same would be repeated in human trials. New York Gov. Andrew Cuomo’s office announced the state obtained 70,000 doses of hydroxychloroquine, 10,000 doses of zithromax and 750,000 doses of chloroquine in the last few days for trial use. “We hope for optimistic results,” Cuomo said during a press conference last Tuesday about the tests. “The president and the FDA accelerated that drug coming to New York so the hospitals will start using that drug today.” “I’ve spoken with a number of health officials and there is a good basis to believe that they could work,” Cuomo said. “Some health officials point to Africa, which has a very low infection rate and there’s a theory that because they’re taking these anti-malaria drugs in Africa, it may actually be one of the reasons why the infection rate is low in Africa. We don’t know, but let’s find out and let’s find out quickly.”\n",
            "Predicted summary: Doctors who have treated a combined total of over 425 confirmed or presumptive Chinese coronavirus patients with the drug hydroxychloroquine told Breitbart News they are finding the medication to be helpful. Studies are clearly required to more conclusively determine whether the hydroxychloroquine indeed played a role in patient recovery or whether those same patients would have recovered anyway without the medication. There are also concerns about the supply chain for hydroxychloroquine. It is also known by the brand name Plaquenil. The extra demand could cause a shortage for lupus and arthritis patients already using the medication regularly. Instead it could protect cellular lining from further penetration. Indeed, that is what the doctors say they have been finding. Rudolph W. Giuliani, the president’s personal attorney, has been promoting Zelenko’s hydroxychloroquine plan, and Fox News’s Sean Hannity read from the doctor’s regimen during an interview with Vice President Mike Pence, who is leading the White House Coronavirus Task Force. Six of his patients were admitted to hospitals. She graduated from Columbia University medical school. Like most area doctors, Dr. Joseph in recent weeks has experienced a surge in coronavirus patients. Joseph told Breitbart News that she treated between 50 and 60 presumptive and confirmed coronavirus patients with hydroxychloroquine. That patient went to the hospital the next day. Isseroff told Breitbart News that he is currently analyzing data from the more than 225 coronavirus patients that he treated using hydroxychloroquine. Both hospitals have been asked for official comment. Rubin said that after taking the cocktail for a few days, his father is “doing amazing,” and he personally is nearly recovered. The implication is that hydroxychloroquine, which has been prescribed for decades, is somehow deadly. Holding enough clinical trials would take many months or even years. The fear of drug hoarding during the pandemic, however, prompted a New York state executive order last week that banned pharmacies from dispensing hydroxychloroquine for non-FDA approved indications, or for patients who are not in clinical trials for coronavirus treatment. According to Drugs.com, common side effects of hydroxychloroquine include: headache, dizziness, ringing in the ears; nausea, vomiting, stomach pain; loss of appetite, weight loss; mood changes, feeling nervous or irritable; skin rash or itching; or hair loss. Six also were given the antibiotic azithromycin. The journal Nature Medicine reported on lab tests that demonstrated the drug blocked the coronavirus’s ability to enter cells, but it doesn’t mean the same would be repeated in human trials.\n",
            "\n",
            "\n",
            "Summary[ 2 ]\n",
            "Precision is :0.38741721854304634\n",
            "Recall is :0.6468058968058968\n",
            "F Score is :0.4845844782257042\n",
            "-----------------------------------------------------------------------\n",
            "Original Document: A controversial anti-malaria drug is being trialed as a therapy for COVID-19 at the B.C. seniors’ care home at the epicentre of the province’s novel coronavirus outbreak. Global News has confirmed that residents of the Lynn Valley Care Centre are receiving hydroxychloroquine as a part of an international study on the effectiveness of the drug. Forty-six residents and 24 staff at the facility have have tested positive for COVID-19. The drug is being administered to all residents of the virus-stricken building known as “the lodge” at the care home, with the exception of those who opted out of the trial. Coronavirus outbreak: WHO director announces 1st patients will be enrolled in ‘solidarity’ drug trial, Concerns over shortage of illegal drugs during coronavirus outbreak, Coronavirus outbreak: Dr. Theresa Tam warns against the use of untested drugs to treat COVID-19, Coronavirus outbreak: Trump says Chloroquine could be a ‘game changer’, Coronavirus outbreak: Trump says FDA has approved Chloroquine for COVID-19 testing, Coronavirus outbreak: FDA approves new COVID-19 test kit. Debra Drew, whose father is one of the COVID-19-positive residents of the facility, said her family decided to opt in. “As a family we had the right to deny the treatment,” she said. “We said, ‘Yes, lets try it… Every day is a new day.” Hydroxychloroquine is a Health Canada-approved drug which has been used to treat malaria for more than a half-century. It is also used as a treatment for lupus. The drug made international headlines this month when U.S. President Donald Trump touted it as a potential breakthrough treatment for COVID-19. The drug has shown promise in some small, early trials. However, its benefits remain unproven, and the B.C. Centre for Disease Control (BCCDC) has recommended against its use to treat the disease “based on the lack of clinically convincing outcomes and the fragility of the supply chain.” On Thursday, the College of Pharmacists of BC, College of Physicians and Surgeons of BC, and BC College of Nursing Professionals took the unusual step of issuing a joint statement warning against the use of unproven treatments, including hydroxychloroquine. However, that guidance specifically exempted clinical trials. Hydroxychloroquine is also being tested by a team at the University of Manitoba.Trials began March 26 in Manitoba and Quebec, and similar trials are also underway in the United States. Alberta and other provinces are expected to join within a few days.\n",
            "Predicted summary: What’s going on in the fifth largest economy in the world arguably points to a major collusion scandal in which the French government is helping Big Pharma to profit from the expansion of Covid-19. Respected Professor Christian Perronne talked about the theft live in one of France’s 24/7 info channels: “The central pharmacy for the hospitals announced today that they were facing a total rupture of stocks, that they were pillaged.” Raoult was part of a clinical trial that in which hydroxychloroquine and azithromycin healed 90% of Covid-19 cases if they were tested very early. ( Only contaminated individuals should be confined. Chloroquine costs one euro for ten pills. There’s not a peep about chloroquine. One of those in charge at the time was Jerome Salomon, now a scientific counselor to the Macron government. She also says it had been her understanding that the Paris mayoral election “would not take place” and that it was, ultimately, “a masquerade.” The second round was postponed indefinitely. Professor Perrone reveals on the 24/7 LCI news channel that the stock of chloroquine at the French central pharmacy has been stolen. Pakistan decides to increase its production of chloroquine to be sent to China. Christian Estrosi, the mayor of Nice, having had himself treated with chloroquine, without any government input, directly calls Sanofi so they may deliver chloroquine to Nice hospitals. EU-driven austerity mixed with the profit motive resulted in a very lax attitude towards the health system. Same for chloroquine, which this government did everything to make inaccessible for the population. And they did not protect vital stocks. He’s not advocating chloroquine for everyone. It’s exactly what the Chinese did, along with their use of Interferon. In fact the treatment is only allowed for terminal Covid-19 patients, with no other possibility of healing. Since Raoult is rated by his peers as the number one world expert  in communicable diseases, way above Dr. Anthony Fauci in the US, I would say the new reports represent Big Pharma talking. A dogged combination of mass testing and contact tracing was applied with immense professionalism.\n",
            "\n",
            "\n",
            "Summary[ 3 ]\n",
            "Precision is :0.26175115207373273\n",
            "Recall is :0.6180631120783461\n",
            "F Score is :0.36775751372025045\n",
            "-----------------------------------------------------------------------\n",
            "Original Document: NY, NJ Doctors and Patients See Anecdotal Evidence of Hydroxychloroquine Benefits in Fighting Coronavirus\n",
            "Predicted summary: A controversial anti-malaria drug is being trialed as a therapy for COVID-19 at the B.C. seniors’ care home at the epicentre of the province’s novel coronavirus outbreak. As a family we had the right to deny the treatment,” she said. “ However, its benefits remain unproven, and the B.C. Centre for Disease Control (BCCDC) has recommended against its use to treat the disease “based on the lack of clinically convincing outcomes and the fragility of the supply chain.” Alberta and other provinces are expected to join within a few days.\n",
            "\n",
            "\n",
            "Summary[ 4 ]\n",
            "Precision is :0.13805970149253732\n",
            "Recall is :0.7047619047619048\n",
            "F Score is :0.2308902081746329\n",
            "-----------------------------------------------------------------------\n",
            "Original Document: A debate may be raging inside the White House about the efficacy of an anti-malaria drug to treat the novel coronavirus, but the Trump administration isn’t waiting for a resolution. Two federal agencies have already placed purchase orders for the drug. The Department of Veterans Affairs and the Justice Department’s Bureau of Prisons have both reported purchases of hydroxychloroquine since March 26, according to federal procurement records. The Department of Veterans Affairs purchased $40,000 in hydroxychloroquine sulfate tablets from the pharmaceutical company McKesson, and another $168,000 from the Colorado-based generic drug distributor Golden State Medical Supply. Procurement records for both list them as “emergency” purchase orders to deal with the coronavirus outbreak. The Bureau of Prisons’ purchase order does not mention the coronavirus. But the $60,000 purchase of hydroxychloroquine sulfate tablets from the company Premium Rx National came on March 31—in the midst of a worsening outbreak at the federal correctional facilities that the bureau oversees and days before President Trump announced that he was stockpiling millions of pills of the drug. It appears to be the first time that the BOP has purchased the drug. Neither the VA nor BOP responded to requests for additional information about the purchases, and how, or whether, they would be used in the near-term to treat coronavirus patients. The use of taxpayer money on hydroxychloroquine by the two agencies came in spite of a heated debate among policymakers and medical professionals about the drug’s effectiveness in treating the virus, and the possibility that a sudden surge in demand for the drug could diminish the supply for those who use it to treat other ailments such as malaria, lupus, and rheumatoid arthritis. That dispute erupted at a closed-door meeting at the White House on Saturday, as first reported by Axios. At that meeting, White House economic adviser Peter Navarro reportedly clashed with National Institute of Infectious Diseases director Dr. Anthony Fauci over the efficacy of hydroxychloroquine as a coronavirus treatment. Trump, for his part, has consistently promoted the drug as a potential panacea in efforts to control the virus. Despite only anecdotal evidence that it has any impact, his supporters have cast dissenting voices as timid at best and hostile at worst. The Food and Drug Administration last week issued an emergency authorization that will allow the distribution of hydroxychloroquine and similar experimental drugs to the general public from the federal government’s stockpile of medical supplies. Two drug companies, Novartis and Bayer, donated more than 30 million doses to the stockpile, which appears to be what Trump was referring to when he discussed building a stockpile on Sunday. The Department of Health and Human Services also recently approved hydroxychloroquine and two similar drugs, chloroquine and hydrochloroquine, for “compassionate use,” making them available to extremely ill patients who have exhausted other treatment options. Local governments such as New York and Michigan have reported promising anecdotal results from the use of hydroxychloroquine to treat the virus. But it has scant scientific backing. The University of Marseilles study most often cited by the drug’s boosters received pushback from other academics in the field, and the journal in which it was published said last week that the study “does not meet the Society’s expected standard.” Many Trump-friendly pundits, however, are convinced of the drug’s effectiveness, most notably those on Fox News shows from which the president is known to take policy cues.\n",
            "Predicted summary: Malaria drug hydroxychloroquine continues to dominate the headlines after many success stories from doctors in the front line. Dr. Smith is the founder of the Smith Center for Infectious Diseases in New Jersey. When the two discussed treatment options and the use of hydroxychloroquine and azithromycin, Smith said they are treating everyone with it and it has had incredible results. “ I think this is the beginning of the end of the [coronavirus] pandemic,” Dr. Smith concluded. He has been in practice for more than 20 years.\n",
            "\n",
            "\n",
            "Summary[ 5 ]\n",
            "Precision is :0.5928030303030303\n",
            "Recall is :0.28768382352941174\n",
            "F Score is :0.38737719362808065\n",
            "-----------------------------------------------------------------------\n",
            "Original Document: A survey of over 6,000 doctors found that the anti-malaria drug hydroxychloroquine was rated the “most effective therapy” for the Chinese Coronavirus. The Washington Examiner: An international poll of more than 6,000 doctors released Thursday found that the antimalarial drug hydroxychloroquine was the most highly rated treatment for the novel coronavirus. The survey conducted by Sermo, a global health care polling company, of 6,227 physicians in 30 countries found that 37% of those treating COVID-19 patients rated hydroxychloroquine as the “most effective therapy” from a list of 15 options. Of the physicians surveyed, 3,308 said they had either ordered a COVID-19 test or been involved in caring for a coronavirus patient, and 2,171 of those responded to the question asking which medications were most effective. The U.S. Food and Drug Administration gave chloroquine and its next-generation derivative, hydroxychloroquine, emergency-use authorization Monday for treating the novel coronavirus, although the drug was already being used off-label by some doctors and hospitals for COVID-19 patients. The survey also found that the most commonly prescribed treatments are analgesics (56%), azithromycin (41%) and hydroxychloroquine (33%). The Mainstream Press really doesn’t want you to know about this survey. They have attempted to discredit President Trump for pushing hydroxychloroquine yet each day he is looking like he is going to be more and more correct. The Mainstream Press doesn’t care about the truth. The Palmieri Report is a Pro-America News Outlet founded by Jacob Palmieri two years ago at the age of 19. Since its founding, it has gotten over 1M pages views and over 20k followers.\n",
            "Predicted summary: NY, NJ Doctors and Patients See Anecdotal Evidence of Hydroxychloroquine Benefits in Fighting Coronavirus\n",
            "\n",
            "\n",
            "Summary[ 6 ]\n",
            "Precision is :0.819047619047619\n",
            "Recall is :0.10565110565110565\n",
            "F Score is :0.18716093623432983\n",
            "-----------------------------------------------------------------------\n",
            "Original Document: President Donald Trump's trade adviser Peter Navarro, who the president recently tapped to help implement the Defense Production Act amid the coronavirus crisis, is publicly pushing back against the nation's top infectious disease expert. After Navarro reportedly lashed out at Dr. Anthony Fauci over the weekend, he went on CNN Monday morning to tout a drug that Fauci has cautioned is still being studied, while listing his own qualifications as a \"social scientist\" and arguing the president needs a \"second opinion.\" \"Doctors disagree about things all the time,\" Navarro, an economist, told CNN's \"New Day\" Monday. \"My qualifications in terms of looking at the science is that I'm a social scientist. I have a Ph.D., and I understand how to read statistical studies, whether it's in medicine, the law, economics or whatever.\" The comments come after Axios first reported that on Saturday, Navarro, in the Situation Room, lashed out at Fauci after he questioned the trade adviser on the science behind his promotion of hydroxychloroquine to treat COVID-19. \"On Saturday, and if we didn't have disagreement or debate in the Trump administration, this administration would not be as strong as it is,\" Navarro told CNN, appearing to confirm the argument took place. \"The issue wasn't about me offering my medical opinion,\" Navarro continued. \"The question was whether we should take the 29 million doses in the FEMA storehouses and surge them into the zones, and it was unanimous in that task force meeting to do so. So, that's the only question I posed.\" President Trump has put more stock in hydroxychloroquine than his top medical experts, having previously described the drug as possibly one of \"the biggest game-changers in the history of medicine.\" Fauci, meanwhile, has cautioned against putting too much promise in any \"anecdotal evidence\" before clinical trials are complete, emphasizing social distancing instead. Navarro went on Monday to primarily reference what he said was a control group study out of Wuhan, China -- done with moderately ill patients and was not double-blind but showed some potential benefits -- adding he had spoken to some doctors who had found it useful. He also claimed some on the frontlines were taking the drug as a prophylactic. Although hydroxychloroquine is FDA-approved for some uses, including the treatment of malaria, lupus and rheumatoid arthritis, it is not currently approved for coronavirus -- a point Fauci and FDA Commissioner Stephen Hahn have continued to note. But despite tension from his own health officials, the president at Sunday's task force briefing continued to show his support for the drug and announced that the federal government has stockpiled 29 million pills of it -- \"a big number.\" \"Now, we have purchased and we have stockpiled 29 million pills of the hydroxychloroquine, 29 million,\" Trump said. \"A lot of drugstores have them, by prescription, and also -- and they are not expensive -- also we're sending them to various labs, our military, we're sending them to the hospitals. We’re sending them all over.\" The president said the FDA had already approved the drug, but the agency, for now, has only expedited its use to treat COVID-19 in controlled, clinical trials. Vice President Mike Pence announced Sunday that it would be used in a trial of 3,000 patients in Detroit, a coronavirus hot spot, adding that the federal government is \"more than prepared\" to make hydroxychloroquine available to doctors' offices and pharmacies in the area \"as they deem appropriate.\" Clinical trials are also underway in New York, the hardest hit state with a death toll of over 4,000. \"It can help them, but it's not going to hurt them,\" Trump said, without citing evidence. \"I'm not looking at it one way or the other, but we want to get out of this. If it does work, it would be a shame if we didn't do it early. But we have some very good signs,\" he continued. Trump gave more medical recommendations Sunday, saying people without heart problems could combine hydroxychloroquine with azithromycin, a common antibiotic, which he said \"will kill certain things that you don't want living within your body.\" He also suggested health care workers and frontline responders could take the drugs as a preventative measure, saying, \"They say taking it before the fact is good, but what do you have to lose?\" \"I'll say it again: What do you have to lose? Take it. I really think they should take it. But it's their choice and it's their doctor's choice, or the doctors in the hospital. But hydroxychloroquine — try it, if you'd like,\" Trump said, adding, \"I'm not a doctor, but I have common sense.\" Toward the end of the briefing, a reporter asked Fauci directly for his opinion on the effectiveness of hydroxychloroquine, but Trump stopped the doctor from answering. \"Do you know how many times he's answered that question?\" Trump interjected. \"He’s answered the question 15 times.\"\n",
            "Predicted summary: A debate may be raging inside the White House about the efficacy of an anti-malaria drug to treat the novel coronavirus, but the Trump administration isn’t waiting for a resolution. Two federal agencies have already placed purchase orders for the drug. Local governments such as New York and Michigan have reported promising anecdotal results from the use of hydroxychloroquine to treat the virus.\n",
            "\n",
            "\n",
            "Summary[ 7 ]\n",
            "Precision is :0.8211586901763224\n",
            "Recall is :0.13371616078753076\n",
            "F Score is :0.22998333923062006\n",
            "-----------------------------------------------------------------------\n",
            "Original Document: While Dr. Anthony Fauci has urged caution in using hydroxychloroquine, some doctors are prescribing it to patients who have the virus despite the fact it has never been tested for it. By Peter Baker, Katie Rogers, David Enrich and Maggie Haberman WASHINGTON — President Trump made a rare appearance in the Situation Room on Sunday as his pandemic task force was meeting, determined to talk about the anti-malaria medicine that he has aggressively promoted lately as a treatment for the coronavirus. Once again, according to a person briefed on the session, the experts warned against overselling a drug yet to be proved a safe remedy, particularly for heart patients. “Yes, the heart stuff,” Mr. Trump acknowledged. Then he headed out to the cameras to promote it anyway. “So what do I know?” he conceded to reporters at his daily briefing. “I’m not a doctor. But I have common sense.” Day after day, the salesman turned president has encouraged coronavirus patients to try hydroxychloroquine with all of the enthusiasm of a real estate developer. The passing reference he makes to the possible dangers is usually overwhelmed by the full-throated endorsement. “What do you have to lose?” he asked five times on Sunday. Bolstered by his trade adviser, a television doctor, Larry Ellison of Oracle and Rudolph W. Giuliani, a former New York mayor, Mr. Trump has seized on the drug as a miracle cure for the virus that has killed thousands and paralyzed American life. Along the way, he has prompted an international debate about a drug that many doctors in New York and elsewhere have been trying in desperation even without conclusive scientific studies. Mr. Trump may ultimately be right, and physicians report anecdotal evidence that has provided hope. But it remains far from certain, and the president’s assertiveness in pressing the case over the advice of advisers like Dr. Anthony S. Fauci, the government’s top infectious disease specialist, has driven a wedge inside his coronavirus task force and has raised questions about his motives. If hydroxychloroquine becomes an accepted treatment, several pharmaceutical companies stand to profit, including shareholders and senior executives with connections to the president. Mr. Trump himself has a small personal financial interest in Sanofi, the French drugmaker that makes Plaquenil, the brand-name version of hydroxychloroquine. “I certainly understand why the president is pushing it,” said Dr. Joshua Rosenberg, a critical care doctor at Brooklyn Hospital Center. “He’s the president of the United States. He has to project hope. And when you are in a situation without hope, things go very badly. So I’m not faulting him for pushing it even if there isn’t a lot of science behind it, because it is, at this point, the best, most available option for use.” A senior physician at Wyckoff Heights Medical Center in Brooklyn, where doctors are not providing the drug, however, said the current demand was worrisome for patients on it chronically for rheumatic diseases. At St. Barnabas Hospital in the Bronx, another doctor said his staff was giving it to coronavirus patients but criticized the president and Gov. Andrew M. Cuomo for “cheerleading” the drug without proof. “False hope can be bad, too,” he said. The professional organization that published a positive French study cited by Mr. Trump’s allies changed its mind in recent days. The International Society of Antimicrobial Chemotherapy said, “The article does not meet the society’s expected standard.” Some hospitals in Sweden stopped providing hydroxychloroquine to treat the coronavirus after reports of adverse side effects, according to Swedish news media. But Mr. Cuomo told reporters on Monday that he would ask Mr. Trump to increase the federal supply of hydroxychloroquine to New York pharmacies, allowing the state to lift a limit on purchases. “There has been anecdotal evidence that it is promising,” Mr. Cuomo said, while noting the lack of a formal study. Mr. Trump first expressed interest in hydroxychloroquine a few weeks ago, telling associates that Mr. Ellison, a billionaire and a founder of Oracle, had discussed it with him. At the time, Dr. Mehmet Oz, the host of television’s “The Doctor Oz Show,” was in touch with Mr. Trump’s advisers about expediting approval to use the drug for the coronavirus. Mr. Giuliani has urged Mr. Trump to embrace the drug, based in part on the advice of Dr. Vladimir Zelenko, a self-described simple country doctor who has become a hit on conservative media after administering a cocktail of hydroxychloroquine, the antibiotic azithromycin and zinc sulfate. In an interview on Monday, Mr. Giuliani denied any financial stake and said he spoke with Mr. Trump only after the president had already promoted the drug publicly. Mr. Giuliani said he turned to the issue after researching former Vice President Joseph R. Biden Jr. in Ukraine, a project that led to the president’s impeachment. “When I finished Biden, I immediately switched to coronavirus and I have been doing an enormous amount of research on it,” he said. As it happened, Dr. Zelenko was born in Ukraine, and when they first spoke, Mr. Giuliani accidentally called him “Dr. Zelensky,” mixing up his name with Ukraine’s president, Volodymyr Zelensky. Mr. Giuliani said he brought a prosecutor’s experience to his research. “One of the things that a good litigator becomes, is you kind of become an instant expert on stuff, and then you forget about it,” he said. “I don’t claim to be a doctor. I just repeat what they said.” The Food and Drug Administration, which has approved hydroxychloroquine as a treatment for malaria and lupus, issued an emergency order late last month allowing doctors to administer it to coronavirus patients if they saw fit. Mr. Trump said the federal government would distribute 29 million doses and that he had called Prime Minister Narendra Modi of India requesting more. Dr. Fauci made his concern clear last week. “I think we’ve got to be careful that we don’t make that majestic leap to assume that this is a knockout drug,” he said on Friday on Fox News. “We still need to do the kinds of studies that definitively prove whether any intervention, not just this one, any intervention is truly safe and effective.” The same day, Laura Ingraham, a Fox host, visited Mr. Trump at the White House with two doctors who had been on her program promoting hydroxychloroquine, one of whom made a presentation on its virtues, according to an official, confirming a Washington Post report. The next day, Peter Navarro, the president’s trade adviser, who has been assigned to expedite production of medical equipment and become an advocate of the drug, upbraided Dr. Fauci at a White House task force meeting, according to people informed about the discussion. Mr. Navarro arrived at the meeting armed with a thick sheaf of papers recounting research. When the issue was raised, according to a person informed about the meeting, confirming a report by Axios, Mr. Navarro picked it up off a chair, dropped it on the table and started handing out copies. Mr. Navarro, who earned a doctorate in economics from Harvard, defended his position on Monday despite his lack of medical credentials. “Doctors disagree about things all the time. My qualifications in terms of looking at the science is that I’m a social scientist,” he said on CNN. “I have a Ph.D. And I understand how to read statistical studies, whether it’s in medicine, the law, economics or whatever.” Mr. Trump made clear on Sunday whose side he took in Mr. Navarro’s confrontation with Dr. Fauci. At his briefing after the meeting, he said it was wrong to wait for the kind of study Dr. Fauci wanted. “We don’t have time,” the president said. “We don’t have two hours because there are people dying right now.” Some associates of Mr. Trump’s have financial interests in the issue. Sanofi’s largest shareholders include Fisher Asset Management, the investment company run by Ken Fisher, a major donor to Republicans, including Mr. Trump. A spokesman for Mr. Fisher declined to comment. Another investor in both Sanofi and Mylan, another pharmaceutical firm, is Invesco, the fund previously run by Wilbur Ross, the commerce secretary. Mr. Ross said in a statement Monday that he “was not aware that Invesco has any investments in companies producing” the drug, “nor do I have any involvement in the decision to explore this as a treatment.” As of last year, Mr. Trump reported that his three family trusts each had investments in a Dodge & Cox mutual fund, whose largest holding was in Sanofi. Ashleigh Koss, a Sanofi spokeswoman, said the company no longer sells or distributes Plaquenil in the United States, although it does sell it internationally. Several generic drugmakers are gearing up to produce hydroxychloroquine pills, including Amneal Pharmaceuticals, whose co-founder Chirag Patel is a member of Trump National Golf Course Bedminster in New Jersey and has golfed with Mr. Trump at least twice since he became president, according to a person who saw them. Mr. Patel, whose company is based in Bridgewater, N.J., did not respond to a request for comment. Amneal announced last month that it would increase production of the drug and donate millions of pills to New York and other states. Other generic drugmakers are ramping up production, including Mylan and Teva Pharmaceutical Industries. Roberto Mignone, a Teva board member, reached out to the team of Jared Kushner, the president’s son-in-law and senior adviser, through Nitin Saigal, who used to work for Mr. Mignone and is a friend of Mr. Kushner’s, according to people informed about the discussions. Mr. Kushner’s team referred him to the White House task force and Mr. Mignone asked for help getting India to ease export restrictions, which have since been relaxed, allowing Teva to bring more pills into the United States. Mr. Mignone, who is also a vice chairman of NYU Langone Health, which is running a clinical study of hydroxychloroquine, confirmed on Monday that he has spoken with the administration about getting more medicine into the country. Dr. Daniel H. Sterman, the critical care director at NYU Langone Health, said doctors there are using hydroxychloroquine, but data about its effectiveness remained “weak and unsubstantiated” pending the study. “We do not know whether our patients are benefiting from hydroxychloroquine treatment at the present time,” he said. New York City’s Health and Hospitals Corporation, which runs its public hospitals, is advising but not requiring doctors to use hydroxychloroquine based on a trial showing a decreased cough and fever with mild side effects in two patients, Dr. Mitchell Katz, who oversees the hospital system, said by email on Monday. Dr. Roy M. Gulick, the chief of infectious diseases at Weill Cornell Medicine, said hydroxychloroquine was given on a case-by-case basis. “We explain the pros and cons and explain that we don’t know if it works or not,” he said. Doctors at Northwell Health and Mount Sinai Health System are using it as well. At the Mount Sinai South Nassau County branch on Long Island, doctors have employed a regimen of hydroxychloroquine and azithromycin “pretty much since day one” with mixed results, said Dr. Adhi Sharma, its chief medical officer. “We’ve been throwing the kitchen sink at these patients,” he said. “I can’t tell whether someone got better on their own or because of the medication.” Peter Baker and Katie Rogers reported from Washington, and David Enrich and Maggie Haberman from New York. Reporting was contributed by Kenneth P. Vogel from Washington, and Jesse Drucker, Sheri Fink, Joseph Goldstein, Jesse McKinley, William K. Rashbaum, Brian M. Rosenthal, Michael Rothfeld and Michael Schwirtz from New York.\n",
            "Predicted summary: A survey of over 6,000 doctors found that the anti-malaria drug hydroxychloroquine was rated the “most effective therapy” for the Chinese Coronavirus. The Washington Examiner: An international poll of more than 6,000 doctors released Thursday found that the antimalarial drug hydroxychloroquine was the most highly rated treatment for the novel coronavirus. The Mainstream Press really doesn’t want you to know about this survey.\n",
            "\n",
            "\n",
            "Summary[ 8 ]\n",
            "Precision is :0.8181818181818182\n",
            "Recall is :0.1411338962605549\n",
            "F Score is :0.24074171564569521\n",
            "-----------------------------------------------------------------------\n",
            "Original Document: On Monday, The New York Times reported that Donald Trump is personally invested in the medication he has been selling to the American public. The Times stated that, “Mr. Trump himself has a small personal financial interest in Sanofi, the French drugmaker that makes Plaquenil, the brand-name version of hydroxychloroquine.” There was no further detail about the particulars of his investment and as someone who has poured over his financial disclosure from 2019, I can only assume that the ownership is contained within one of the several trusts he reported that has not been further broken down by name or stock. In early March, I reported on the possibility that Trump or his family could stand to profit from coronavirus testing. Financial disclosures from 2016 listed previous financial investments in Thermo Fisher Scientific, one of the many companies Trump praised from one of his rose garden press conferences toward the beginning of this pandemic. Although Trump’s financial disclosures from 2019 do not specifically name this stock, and he has claimed to have divested his personal interest from in company, there are trusts listed that are not broken down or named specifically. There is also still the issue of semantics with regard to how the Trump administration has chosen to deal, or in this case not deal, with combating COVID-19. Here is an excerpt from my previous reporting that questions why the Trump administration declined to use coronavirus testing kits offered by the World Health Organization in February: Virologists in Berlin produced the first diagnostic test for the Coronavirus a month and a half before the first COVID-19 case not linked to travel was diagnosed in the United States. The World Health Organization (WHO) began shipping coronavirus testing supplies to nearly 60 countries by February, but Trump didn’t want those kits. The United States declined to use the WHO test, even temporarily as a bridge until the Centers for Disease Control and Prevention could produce its own test and the Trump administration has given no explanation as to why. Trump’s possible interest in the company that the U.S. will be using to provide the tests, and the fact that he might still own stock in Thermo Fisher Scientific means he could profit from the government contract — this might be a major reason why no other tests were accepted. There is also an ongoing conflict pertaining to Jared Kushner and his brother’s company, Oscar, a private health insurance company that is working in tandem with the Trump administration to provide federal services. As Kushner’s influence and authority over the COVID-19 pandemic increases, so does Oscar’s role in providing services to the public on behalf of the federal government. Think back to when Trump falsely announced during a press conference on March 13 that a website of information about the impending pandemic was up and running thanks to Google. There was no such website at the time, but according to The Atlantic, in the days following Trump’s incorrect announcement, Oscar dispatched employees to meet with federal officials in Washington, D.C. about creating the site. Oscar engineers, project managers, and executives additionally spent “about five days building a stand-alone website at the government’s request” before the project was scrapped. It’s important to note that Joshua Kushner, younger brother to Jared, is a co-founder and major investor in Oscar as well. It has been confirmed that Jared Kushner partially owned or controlled Oscar before he joined the White House. As with Donald Trump’s financial disclosures, we are unable to completely dissect the full nature of Kushner’s personal investments, especially considering that his wife Ivanka Trump has disclosed many of the same trusts her father has listed. Jackie Kahn, a spokesperson for Oscar, emailed a statement that Oscar donated its work freely and never expected to be paid for the project. Kahn says the company is “not, nor has ever been,” a contractor or subcontractor for the government and emphasized that the work on the site was never in use. Kahn did confirm that despite the intent to volunteer company resources, the creation of the site was “all at the direction of HHS.” Although Oscar denies profiting directly from this work in this instance, it is important to note that the company is fueled by substantial investments from high profile backers and Trump supporters, such as Paypal’s Peter Thiel. The relationships and connections that the Oscar team is able to make are essential to keeping the company going and there is no shortage of access to Jared Kushner, who has been firmly established as a figurehead on the corona team. As the public is inundated by concerns about staying safe from this pandemic and the death toll from the virus continues to rise, money is being spent at the federal and state level in record amounts to secure supplies and services. This virus serves as a distraction now for the massive amounts of money that will inevitably make its way into the pockets of companies who have established inside relationships with the Trump administration. After the dust has settled on this emergency, there will be many contracts and deals to dissect — hopefully we can do it before November.\n",
            "Predicted summary: President Donald Trump's trade adviser Peter Navarro, who the president recently tapped to help implement the Defense Production Act amid the coronavirus crisis, is publicly pushing back against the nation's top infectious disease expert. I have a Ph.D., and I understand how to read statistical studies, whether it's in medicine, the law, economics or whatever.\" On Saturday, and if we didn't have disagreement or debate in the Trump administration, this administration would not be as strong as it is,\" Navarro told CNN, appearing to confirm the argument took place. \" But despite tension from his own health officials, the president at Sunday's task force briefing continued to show his support for the drug and announced that the federal government has stockpiled 29 million pills of it -- \"a big number.\" \" If it does work, it would be a shame if we didn't do it early. I really think they should take it. Toward the end of the briefing, a reporter asked Fauci directly for his opinion on the effectiveness of hydroxychloroquine, but Trump stopped the doctor from answering. \"\n",
            "\n",
            "\n",
            "Summary[ 9 ]\n",
            "Precision is :0.6262719703977798\n",
            "Recall is :0.2654901960784314\n",
            "F Score is :0.37290098572454183\n",
            "-----------------------------------------------------------------------\n"
          ],
          "name": "stdout"
        }
      ]
    },
    {
      "cell_type": "code",
      "metadata": {
        "colab": {
          "base_uri": "https://localhost:8080/",
          "height": 171
        },
        "id": "6Dvi2MmrkWAF",
        "outputId": "2d9eb699-c821-4d17-9894-20ba731ec302"
      },
      "source": [
        "temp[3]"
      ],
      "execution_count": null,
      "outputs": [
        {
          "output_type": "execute_result",
          "data": {
            "application/vnd.google.colaboratory.intrinsic+json": {
              "type": "string"
            },
            "text/plain": [
              "'What’s going on in the fifth largest economy in the world arguably points to a major collusion scandal in which the French government is helping Big Pharma to profit from the expansion of Covid-19. Respected Professor Christian Perronne talked about the theft live in one of France’s 24/7 info channels: “The central pharmacy for the hospitals announced today that they were facing a total rupture of stocks, that they were pillaged.” Raoult was part of a clinical trial that in which hydroxychloroquine and azithromycin healed 90% of Covid-19 cases if they were tested very early. ( Only contaminated individuals should be confined. Chloroquine costs one euro for ten pills. There’s not a peep about chloroquine. One of those in charge at the time was Jerome Salomon, now a scientific counselor to the Macron government. She also says it had been her understanding that the Paris mayoral election “would not take place” and that it was, ultimately, “a masquerade.” The second round was postponed indefinitely. Professor Perrone reveals on the 24/7 LCI news channel that the stock of chloroquine at the French central pharmacy has been stolen. Pakistan decides to increase its production of chloroquine to be sent to China. Christian Estrosi, the mayor of Nice, having had himself treated with chloroquine, without any government input, directly calls Sanofi so they may deliver chloroquine to Nice hospitals. EU-driven austerity mixed with the profit motive resulted in a very lax attitude towards the health system. Same for chloroquine, which this government did everything to make inaccessible for the population. And they did not protect vital stocks. He’s not advocating chloroquine for everyone. It’s exactly what the Chinese did, along with their use of Interferon. In fact the treatment is only allowed for terminal Covid-19 patients, with no other possibility of healing. Since Raoult is rated by his peers as the number one world expert  in communicable diseases, way above Dr. Anthony Fauci in the US, I would say the new reports represent Big Pharma talking. A dogged combination of mass testing and contact tracing was applied with immense professionalism.'"
            ]
          },
          "metadata": {
            "tags": []
          },
          "execution_count": 41
        }
      ]
    },
    {
      "cell_type": "code",
      "metadata": {
        "colab": {
          "base_uri": "https://localhost:8080/"
        },
        "id": "89VIw7BrmjHE",
        "outputId": "e60abb8c-7ea2-480e-d6ab-4afadaef50a3"
      },
      "source": [
        "df.gold_sum"
      ],
      "execution_count": null,
      "outputs": [
        {
          "output_type": "execute_result",
          "data": {
            "text/plain": [
              "0     A drug that could help treat coronavirus is to...\n",
              "1     Ghana has so far recorded 195 cases with 5 dea...\n",
              "2     They said they decided to act because they fel...\n",
              "3                                                   NaN\n",
              "4     Global News has confirmed that residents of th...\n",
              "5                                                   NaN\n",
              "6     NY, NJ Doctors and Patients See Anecdotal Evid...\n",
              "7     A debate may be raging inside the White House ...\n",
              "8     A survey of over 6,000 doctors found that the ...\n",
              "9     President Donald Trump's trade adviser Peter N...\n",
              "10    While Dr. Anthony Fauci has urged caution in u...\n",
              "11    On Monday, The New York Times reported that Do...\n",
              "12                                                  NaN\n",
              "13                                                   []\n",
              "14                                                   []\n",
              "15                                                   []\n",
              "16                                                   []\n",
              "17                                                   []\n",
              "18                                                   []\n",
              "19    President Donald Trump, for a number of weeks,...\n",
              "Name: gold_sum, dtype: object"
            ]
          },
          "metadata": {
            "tags": []
          },
          "execution_count": 43
        }
      ]
    },
    {
      "cell_type": "code",
      "metadata": {
        "colab": {
          "base_uri": "https://localhost:8080/"
        },
        "id": "fDXr_GpPmlAc",
        "outputId": "9a2699ec-830b-45e9-feee-9fe346f4a4a0"
      },
      "source": [
        "system_generated_summary = \"A controversial anti-malaria drug is being trialed as a therapy for COVID-19 at the B.C. seniors’ care home at the epicentre of the province’s novel coronavirus outbreak. As a family we had the right to deny the treatment,” she said. “ However, its benefits remain unproven, and the B.C. Centre for Disease Control (BCCDC) has recommended against its use to treat the disease “based on the lack of clinically convincing outcomes and the fragility of the supply chain.” Alberta and other provinces are expected to join within a few days.\"\n",
        "manual_summmary = \"Global News has confirmed that residents of the Lynn Valley Care Centre are receiving hydroxychloroquine as a part of an international study on the effectiveness of the drug. Forty-six residents and 24 staff at the facility have have tested positive for COVID-19. The drug is being administered to all residents of the virus-stricken building known as “the lodge” at the care home, with the exception of those who opted out of the trial. Trump says Chloroquine could be a ‘game changer. The drug made international headlines this month when U.S. President Donald Trump touted it as a potential breakthrough treatment for COVID-19. The drug has shown promise in some small, early trials. However, its benefits remain unproven, and the B.C. Centre for Disease Control (BCCDC) has recommended against its use to treat the disease “based on the lack of clinically convincing outcomes and the fragility of the supply chain.”\"\n",
        "[precision, recall, f_score] = r.rouge_l([system_generated_summary], [manual_summmary])\n",
        "print(\"Precision is :\"+str(precision)+\"\\nRecall is :\"+str(recall)+\"\\nF Score is :\"+str(f_score))"
      ],
      "execution_count": null,
      "outputs": [
        {
          "output_type": "stream",
          "text": [
            "Precision is :0.746268656716418\n",
            "Recall is :0.4352557127312296\n",
            "F Score is :0.54982913215867\n"
          ],
          "name": "stdout"
        }
      ]
    },
    {
      "cell_type": "code",
      "metadata": {
        "colab": {
          "base_uri": "https://localhost:8080/"
        },
        "id": "gAEa1RlEqW8W",
        "outputId": "169f6bf7-526e-46ed-9d7f-fa2d69efc59b"
      },
      "source": [
        "!pip install rouge-score"
      ],
      "execution_count": null,
      "outputs": [
        {
          "output_type": "stream",
          "text": [
            "Collecting rouge-score\n",
            "  Downloading https://files.pythonhosted.org/packages/1f/56/a81022436c08b9405a5247b71635394d44fe7e1dbedc4b28c740e09c2840/rouge_score-0.0.4-py2.py3-none-any.whl\n",
            "Requirement already satisfied: nltk in /usr/local/lib/python3.6/dist-packages (from rouge-score) (3.2.5)\n",
            "Requirement already satisfied: six>=1.14.0 in /usr/local/lib/python3.6/dist-packages (from rouge-score) (1.15.0)\n",
            "Requirement already satisfied: absl-py in /usr/local/lib/python3.6/dist-packages (from rouge-score) (0.10.0)\n",
            "Requirement already satisfied: numpy in /usr/local/lib/python3.6/dist-packages (from rouge-score) (1.18.5)\n",
            "Installing collected packages: rouge-score\n",
            "Successfully installed rouge-score-0.0.4\n"
          ],
          "name": "stdout"
        }
      ]
    },
    {
      "cell_type": "code",
      "metadata": {
        "colab": {
          "base_uri": "https://localhost:8080/"
        },
        "id": "LlLsQqwgqB_B",
        "outputId": "8e3281a9-030c-4daa-88f6-b4c30253b647"
      },
      "source": [
        "from rouge_score import rouge_scorer\n",
        "for i in range(0,10):\n",
        "  scorer = rouge_scorer.RougeScorer(['rouge1','rouge2', 'rougeL'], use_stemmer=True)\n",
        "  scores = scorer.score(temp[i], df.gold_sum[i])\n",
        "  print(scores)"
      ],
      "execution_count": null,
      "outputs": [
        {
          "output_type": "stream",
          "text": [
            "{'rouge1': Score(precision=0.8582677165354331, recall=0.8134328358208955, fmeasure=0.8352490421455939), 'rouge2': Score(precision=0.8095238095238095, recall=0.7669172932330827, fmeasure=0.7876447876447876), 'rougeL': Score(precision=0.84251968503937, recall=0.7985074626865671, fmeasure=0.8199233716475096)}\n",
            "{'rouge1': Score(precision=0.125, recall=0.3170731707317073, fmeasure=0.1793103448275862), 'rouge2': Score(precision=0.019417475728155338, recall=0.05, fmeasure=0.02797202797202797), 'rougeL': Score(precision=0.07692307692307693, recall=0.1951219512195122, fmeasure=0.11034482758620691)}\n",
            "{'rouge1': Score(precision=0.6169354838709677, recall=0.3686746987951807, fmeasure=0.4615384615384615), 'rouge2': Score(precision=0.2550607287449393, recall=0.15217391304347827, fmeasure=0.19062027231467477), 'rougeL': Score(precision=0.3024193548387097, recall=0.18072289156626506, fmeasure=0.22624434389140272)}\n",
            "{'rouge1': Score(precision=0.41935483870967744, recall=0.6914893617021277, fmeasure=0.5220883534136547), 'rouge2': Score(precision=0.3051948051948052, recall=0.5053763440860215, fmeasure=0.3805668016194332), 'rougeL': Score(precision=0.34838709677419355, recall=0.574468085106383, fmeasure=0.43373493975903615)}\n",
            "{'rouge1': Score(precision=1.0, recall=1.0, fmeasure=1.0), 'rouge2': Score(precision=1.0, recall=1.0, fmeasure=1.0), 'rougeL': Score(precision=1.0, recall=1.0, fmeasure=1.0)}\n",
            "{'rouge1': Score(precision=0.3254437869822485, recall=0.8461538461538461, fmeasure=0.4700854700854701), 'rouge2': Score(precision=0.2976190476190476, recall=0.78125, fmeasure=0.43103448275862066), 'rougeL': Score(precision=0.3076923076923077, recall=0.8, fmeasure=0.4444444444444444)}\n",
            "{'rouge1': Score(precision=0.3629032258064516, recall=0.6716417910447762, fmeasure=0.47120418848167545), 'rouge2': Score(precision=0.23577235772357724, recall=0.4393939393939394, fmeasure=0.3068783068783069), 'rougeL': Score(precision=0.31451612903225806, recall=0.582089552238806, fmeasure=0.4083769633507853)}\n",
            "{'rouge1': Score(precision=0.3439024390243902, recall=0.7704918032786885, fmeasure=0.47554806070826294), 'rouge2': Score(precision=0.2469437652811736, recall=0.554945054945055, fmeasure=0.34179357021996615), 'rougeL': Score(precision=0.275609756097561, recall=0.6174863387978142, fmeasure=0.38111298482293426)}\n",
            "{'rouge1': Score(precision=0.5102564102564102, recall=0.5702005730659025, fmeasure=0.5385656292286874), 'rouge2': Score(precision=0.2827763496143959, recall=0.3160919540229885, fmeasure=0.29850746268656714), 'rougeL': Score(precision=0.3, recall=0.335243553008596, fmeasure=0.3166441136671177)}\n",
            "{'rouge1': Score(precision=0.33095238095238094, recall=0.7679558011049724, fmeasure=0.4625623960066556), 'rouge2': Score(precision=0.22195704057279236, recall=0.5166666666666667, fmeasure=0.31051752921535897), 'rougeL': Score(precision=0.24285714285714285, recall=0.56353591160221, fmeasure=0.33943427620632277)}\n"
          ],
          "name": "stdout"
        }
      ]
    },
    {
      "cell_type": "code",
      "metadata": {
        "colab": {
          "base_uri": "https://localhost:8080/"
        },
        "id": "8sb1S9mTqed1",
        "outputId": "8b70fe86-7eea-4a61-94ca-754700a67eaf"
      },
      "source": [
        "for i in range(0,10):\n",
        "  print(\"Summary[\",i,\"]\")\n",
        "  print(\"Original Document:\",df.url_content[i])\n",
        "  print(\"Gold Summary:\", df.gold_sum[i])\n",
        "  print(\"Predicted summary:\", temp[i])\n",
        "  print(\"\\n\")\n",
        "  print(\"*********ROUGE-1***********\")\n",
        "  rouge_1 = rouge_scorer.RougeScorer(['rouge1'], use_stemmer=True)\n",
        "  rouge_1_scores = rouge_1.score(temp[i], df.gold_sum[i])\n",
        "  print(rouge_1_scores)\n",
        "  print(\"\\n\")\n",
        "  print(\"*********ROUGE-2***********\")\n",
        "  rouge_2 = rouge_scorer.RougeScorer(['rouge2'], use_stemmer=True)\n",
        "  rouge_2_scores = rouge_2.score(temp[i], df.gold_sum[i])\n",
        "  print(rouge_2_scores)\n",
        "  print(\"\\n\")\n",
        "  print(\"*********ROUGE-L***********\")\n",
        "  rouge_L = rouge_scorer.RougeScorer(['rougeL'], use_stemmer=True)\n",
        "  rouge_L_scores = rouge_L.score(temp[i], df.gold_sum[i])\n",
        "  print(rouge_L_scores)\n",
        "  #print(\"Precision is :\"+str(precision)+\"\\nRecall is :\"+str(recall)+\"\\nF Score is :\"+str(f_score))\n",
        "  print(\"-----------------------------------------------------------------------\")"
      ],
      "execution_count": null,
      "outputs": [
        {
          "output_type": "stream",
          "text": [
            "Summary[ 0 ]\n",
            "Original Document: A drug that could help treat coronavirus is to be trialled on a small number of patients in England and Scotland. The studies, which have been fast-tracked by the government, will initially involve 15 NHS centres. In the absence of a known treatment for the virus, a handful of experimental drugs are being tested globally. The drug, known as remdesivir, is manufactured by the pharmaceutical company Gilead. Two studies are to be carried out in the UK - one on patients with moderate symptoms, and one on those who are in a serious condition. Trials are already underway in China and the US, with the first results expected in the coming weeks. The UK trials will be based in England and Scotland and overseen by Dr Andrew Ustianowski, a consultant in infectious diseases. He's spent the past couple of weeks working full time helping treat COVID-19 patients and has seen first-hand how sick patients can become. \"What we really need, and what we really want, is a specific treatment against Coronavirus that delays the infection, treats the infection, and hopefully makes people better. \"I think this drug is promising in the laboratory, and we're hopeful it will be as promising in humans. \"In my heart I'm hopeful, but we do need studies such as this to work out how well it works and how best to use it.\"Anti-viral drugs Gilead specialises in producing anti-viral medications. Hilary Hutton-Squire, the company's General Manager in the UK and Ireland, says the work behind this drug stretches back over ten years. \"For about a decade we've been looking at what we call emerging viruses, looking at viruses that aren't a problem yet but could be in the future. \"Coronaviruses are an important category of virus because when we've seen them jump from animals to humans previously they've caused a lot of problems as with SARS and MERS,. \"So remdesivir was a product we had looked at against SARS and MERS and seen that it had some activity, and that's why we thought it was really important to see if it has a role to play in treating patients with COVID-19 as quickly as we can.\" The UK regulator, the Medicines and Healthcare Products Regulatory Agency (MHRA), said it was ready to prioritise and provide any assistance in response to Covid-19, in line with government priorities. \"We have procedures for rapid scientific advice, reviews and approvals and are ready to support manufacturers, researchers and other regulators,\" said Dr Siu Ping Lam. Remdesivir has been considered as a potential treatment for Ebola. The drug is designed to interfere with the way a virus reproduces, thereby stopping it from multiplying inside the body. With no approved therapies for coronavirus infection, hopes rest on speeding up the approval process for drugs that show promise in fighting the disease US researchers have begun a trial trial to see if the malaria drug, chloroquine, will help treat coronavirus.\n",
            "Gold Summary: A drug that could help treat coronavirus is to be trialled on a small number of patients in England and Scotland. The studies, which have been fast-tracked by the government, will initially involve 15 NHS centres. The drug, known as remdesivir, is manufactured by the pharmaceutical company Gilead. Two studies are to be carried out in the UK - one on patients with moderate symptoms, and one on those who are in a serious condition.  Remdesivir has been considered as a potential treatment for Ebola. With no approved therapies for coronavirus infection, hopes rest on speeding up the approval process for drugs that show promise in fighting the disease US researchers have begun a trial trial to see if the malaria drug, chloroquine, will help treat coronavirus.\n",
            "Predicted summary: A drug that could help treat coronavirus is to be trialled on a small number of patients in England and Scotland. The studies, which have been fast-tracked by the government, will initially involve 15 NHS centres. Two studies are to be carried out in the UK - one on patients with moderate symptoms, and one on those who are in a serious condition. For about a decade we've been looking at what we call emerging viruses, looking at viruses that aren't a problem yet but could be in the future. \" With no approved therapies for coronavirus infection, hopes rest on speeding up the approval process for drugs that show promise in fighting the disease US researchers have begun a trial trial to see if the malaria drug, chloroquine, will help treat coronavirus.\n",
            "\n",
            "\n",
            "*********ROUGE-1***********\n",
            "{'rouge1': Score(precision=0.8582677165354331, recall=0.8134328358208955, fmeasure=0.8352490421455939)}\n",
            "\n",
            "\n",
            "*********ROUGE-2***********\n",
            "{'rouge2': Score(precision=0.8095238095238095, recall=0.7669172932330827, fmeasure=0.7876447876447876)}\n",
            "\n",
            "\n",
            "*********ROUGE-L***********\n",
            "{'rougeL': Score(precision=0.84251968503937, recall=0.7985074626865671, fmeasure=0.8199233716475096)}\n",
            "-----------------------------------------------------------------------\n",
            "Summary[ 1 ]\n",
            "Original Document: Presidential advisor on health, Dr. Anthony Nsiah-Asare, has revealed some of the medicines given to people infected by the deadly Coronmavirus (COVID-19) in Ghana. Following the outbreak of the virus in November 2019, Ghana has so far recorded 195 cases with 5 deaths. In a report sighted by YEN.com.gh, on Peacefmonline.com, three (3) of the confirmed cases have fully recovered and reverted to negative status for COVID-19 after repeat test following recovery from symptoms. Apart from that forty-nine (49) of the confirmed cases have significantly improved with no symptoms and have been discharged from admission for home care pending repetition of laboratory tests. However, there is a huge debate on some of the medications given to COVID-19 patients. This controversy started when US President Donald Trump mentioned Chloroquine as potential remedies for coronavirus. Meanwhile, the District Chief Executive (DCE) for the Afigya Kwabre South of the Ashanti Region, Christian Adu-Poku, has been videoed in a severe altercation with some police officers. While details of what sparked the near fist fight between the government official and the police officers remain sketchy, it appears the officers were attempting to get Hon. Christian Adu-Poku to comply with the president’s directive regarding the partial lockdown. Some parts of Accra, Kasoa and Tema, Kumasi and its environs are currently observing a partial lockdown in accordance with a directive by President Akufo-Addo. Watch the video below:\n",
            "Gold Summary: Ghana has so far recorded 195 cases with 5 deaths. Three (3) of the confirmed cases have fully recovered and reverted to negative status for COVID-19 after repeat test following recovery from symptoms. Apart from that forty-nine (49) of the confirmed cases have significantly improved with no symptoms and have been discharged from admission for home care pending repetition of laboratory tests. Christian Adu-Poku to comply with the president’s directive regarding the partial lockdown. Some parts of Accra, Kasoa and Tema, Kumasi and its environs are currently observing a partial lockdown in accordance with a directive by President Akufo-Addo. \n",
            "Predicted summary: Presidential advisor on health, Dr. Anthony Nsiah-Asare, has revealed some of the medicines given to people infected by the deadly Coronmavirus (COVID-19) in Ghana. This controversy started when US President Donald Trump mentioned Chloroquine as potential remedies for coronavirus.\n",
            "\n",
            "\n",
            "*********ROUGE-1***********\n",
            "{'rouge1': Score(precision=0.125, recall=0.3170731707317073, fmeasure=0.1793103448275862)}\n",
            "\n",
            "\n",
            "*********ROUGE-2***********\n",
            "{'rouge2': Score(precision=0.019417475728155338, recall=0.05, fmeasure=0.02797202797202797)}\n",
            "\n",
            "\n",
            "*********ROUGE-L***********\n",
            "{'rougeL': Score(precision=0.07692307692307693, recall=0.1951219512195122, fmeasure=0.11034482758620691)}\n",
            "-----------------------------------------------------------------------\n",
            "Summary[ 2 ]\n",
            "Original Document: Doctors who have treated a combined total of over 425 confirmed or presumptive Chinese coronavirus patients with the drug hydroxychloroquine told Breitbart News they are finding the medication to be helpful. The doctors stressed that more long-term studies are needed to draw concrete scientific conclusions about hydroxychloroquine and Chinese coronavirus. But they said they decided to act because they felt it was safe and because the coronavirus pandemic does not leave any time to wait for what could be months or even years of clinical trials. Their experiences are not meant to be taken as controlled scientific trials. Studies are clearly required to more conclusively determine whether the hydroxychloroquine indeed played a role in patient recovery or whether those same patients would have recovered anyway without the medication. Even if hydroxychloroquine is found to be helpful, more research is needed to determine whether the drug needs to be combined with other medication, and which amounts should be used. Some of the doctors interviewed for this article prescribed hydroxychloroquine along with zinc sulfate, and in many cases combined the drug with an antibiotic regimen. There are also concerns about the supply chain for hydroxychloroquine. Hospitals are reportedly seeking to stockpile the drug in anticipation of a flood of coronavirus patients and many pharmacies say they are experiencing a massive number of prescription requests for hydroxychloroquine sulfate. Hydroxychloroquine sulfate is a Food and Drug Administration (FDA)-approved prescription arthritis medicine that is also used to prevent malaria, and has been prescribed to treat lupus symptoms. It is also known by the brand name Plaquenil. The extra demand could cause a shortage for lupus and arthritis patients already using the medication regularly. Two days ago, the FDA issued emergency approval to distribute millions of doses of hydroxychloroquine to hospitals across the country for use in treating coronavirus. The FDA’s chief scientist concluded that “based on the totality of scientific evidence available to FDA” it is “reasonable to believe that chloroquine phosphate and hydroxychloroquine sulfate may be effective for the treatment of COVID-19.” The FDA noted the medication is currently being used in several countries to treat Chinese coronavirus and said the “known and potential benefits of chloroquine phosphate and hydroxychloroquine sulfate” outweigh “the known and potential risks” of these drugs in treating COVID-19. ‘Battlefield medicine’ The hydroxychloroquine sulfate is thought to serve as a key to force open internal cell channels, including those susceptible to coronavirus, allowing the zinc to penetrate and help line the intracellular walls to protect against coronavirus penetration. The antibiotic is meant to act against any secondary infection brought on by the coronavirus attack. The doctors interviewed for this article practice in the hard-hit areas of New York or New Jersey. They say none of their patients experienced strong side effects from the medication cocktail. The hydroxychloroquine treatment is not believed to kill coronavirus. Instead it could protect cellular lining from further penetration. This could mean that if it does work, the drug cocktail would likely have more success in patients who are in the early or middle stages of infection and would be less effective in those who are already in critical condition. Indeed, that is what the doctors say they have been finding. Also, doctors affiliated with other practices or with hospitals who are using the hydroxychloroquine and antibiotic combination say they are aware of positive results. Breitbart News also spoke with numerous patients treated by the doctors, who claim the drug helped them to recover. “This is battlefield medicine and the use of real time frontline assessment,” said Dr. Vladimir Zelenko, who practices family medicine with mostly ultra-Orthodox Jewish patients near the Orange County, New York, village of Kiryas Joel. The tightknit community has seen a deluge of coronavirus cases in recent weeks. Zelenko has been prescribing a treatment plan of 200mg of hydroxychloroquine twice a day for 5 days, Azithromycin 500mg antibiotics once a day for 5 days, and 220mg of Zinc sulfate once a day for 5 days. Zelenko has become one of the faces of hydroxychloroquine use for coronavirus patients after he shared his regimen with the White House, which is reportedly evaluating the plan. Rudolph W. Giuliani, the president’s personal attorney, has been promoting Zelenko’s hydroxychloroquine plan, and Fox News’s Sean Hannity read from the doctor’s regimen during an interview with Vice President Mike Pence, who is leading the White House Coronavirus Task Force. As of this writing, Zelenko said he has seen nearly 700 coronavirus patients since the outbreak, with each diagnosed either clinically or via coronavirus testing. He said that he selected about 200 high-risk patients to receive the hydroxychloroquine cocktail and about nearly 150 took the drugs. Six of his patients were admitted to hospitals. Two of those admitted were intubated, and four are recovering on intravenous antibiotics. “This is better outcomes than what is being reported by other physicians,” he said. Zelenko said that the lack of testing has been a factor, explaining that during the initial days he had to act clinically and that in recent weeks he needed to prescribe in large part based on symptoms, since he didn’t want to waste valuable time for the test results to return three days later. He said that the instant tests currently in development would be a gamechanger. Zelenko provided a sampling of specific outcome data sets on 55 of his patients, the vast majority of whom had the outcomes of “better” or “a lot better.” He is still compiling more data sets. While some of the treated patients did not receive coronavirus tests due to limited availability and result times, Zelenko noted the Kiryas Joel area is flooded with coronavirus patients and he has seen many patients who fit the specific symptom profile or coronavirus as opposed to a cold or the flu. Dr. Rosy E. Joseph is a nephrologist in Hackensack, New Jersey, and has been practicing for 30 years. She graduated from Columbia University medical school. Like most area doctors, Dr. Joseph in recent weeks has experienced a surge in coronavirus patients. As a kidney specialist, Joseph has been using hydroxychloroquine to treat lupus patients for decades. Joseph told Breitbart News that she treated between 50 and 60 presumptive and confirmed coronavirus patients with hydroxychloroquine. Her regimen differs somewhat from that of Zelenko in that she combines the drug with Vitamins C and D, along with zinc. Joseph said that she believes the regimen is most likely helping. She said only one patient was hospitalized, an elderly individual who was already seriously ill by the time hydroxychloroquine was administered. That patient went to the hospital the next day. Joseph said she has not seen evidence of serious side effects from the prescribed cocktail. A third doctor, Hillel Isseroff, is an internist in Brooklyn, New York, affiliated with NYU Langone Hospitals and Mount Sinai Beth Israel Hospital. He has been treating coronavirus patients in the Crown Heights section of Brooklyn, which has also experienced a massive influx due to the pandemic. Isseroff told Breitbart News that he is currently analyzing data from the more than 225 coronavirus patients that he treated using hydroxychloroquine. His overall assessment is that he feels the medication might be effective if it is started early, from onset of the symptoms. Isseroff had been prescribing hydroxychloroquine along with Azithromycin 250mg tablets in select coronavirus patients who were considered high risk. He has also been suggesting zinc early in the illness. Patients recount taking cocktail Besides the doctors quoted in this article, Breitbart News is aware of other physicians and even New York hospitals treating coronavirus patients with hydroxychloroquine. Some of the doctors asked that their names be withheld from publication. They each reported generally positive results from prescribing hydroxychloroquine, but stressed that their cases do not represent controlled scientific trials. One doctor, a renowned oncologist on the upper east side of Manhattan, has admitting privileges to hospitals in that area. He told Breitbart News he is aware of one major upper east side hospital that is officially using the hydroxychloroquine and azithromycin combination to treat coronavirus patients. He says that the hospital is finding the cocktail to be working “quite well” in patients who are not admitted in critical condition. The oncologist asked that the name of the hospital be withheld from publication since he is not an official spokesperson for the facility. A pulmonary specialist affiliated with a second New York hospital using hydroxychloroquine reported positive results, but asked that Breitbart News wait for an official comment from the hospital before printing the name of the major health institution. Both hospitals have been asked for official comment. Meanwhile, numerous coronavirus patients recounted their experiences taking hydroxychloroquine. Joel Rubin of Woodbury, New York, has been a patient of Dr. Zelenko’s for 16 years. Rubin and his elderly father tested positive for coronavirus. His father had a serious case of secondary pneumonia and he himself was in bed for a few days with coronavirus symptoms. Rubin said that after taking the cocktail for a few days, his father is “doing amazing,” and he personally is nearly recovered. Rubin works in the healthcare industry, and says he knows several other patients in the area who were treated by Zelenko and got better after taking hydroxychloroquine. Another patient of Zelenko’s, Joseph, age 48, says that he has experienced coronavirus symptoms and was put on the drugs. “I got better every day,” said the patient, Joseph, who asked that his last name be withheld to protect his privacy. “I didn’t have any side effects.” Those experiences were echoed by other patients who detailed their cases to Breitbart News. Media playing deadly politics? Numerous healthcare workers and patients contacted by this reporter expressed concern that media outlets and some anti-Trump politicians are playing politics with hydroxychloroquine simply because Trump has been touting the drug. “Lives are at stake. It’s terrible that this isn’t a cold scientific issue and instead people who hate Trump are trying to go against the drug just because Trump said that it works,” said one physician who spoke on condition of anonymity for fear of professional retaliation. The same sentiment was expressed by other interviewees.The phenomenon has led to an unusual situation in which a drug that could impact the coronavirus pandemic has turned into a political discussion instead of an analysis of the facts. Hydroxychloroquine has been discussed on Fox News and conservative media while many left-leaning news media outlets have been repeatedly singling out one case of an Arizona man who attempted to self-treat with a toxic fish tank cleaner that contained poisonous ingredients such as chloroquine phosphate, a different form from the prescribed drug, and reportedly died as a result. The implication is that hydroxychloroquine, which has been prescribed for decades, is somehow deadly. When covering Trump touting the drug, many media outlets also repeatedly restate the fact that hydroxychloroquine is an “unproven” drug for coronavirus. Hydroxychloroquine is obviously unproven given that the pandemic only began less than three months ago. Holding enough clinical trials would take many months or even years. In a notable reversal, Michigan Gov. Gretchen Whitmer (D) is now reportedly asking the federal government to send shipments of hydroxychloroquine to help during the pandemic after first threatening “administrative action” against doctors who prescribed the drug for Chinese coronavirus patients. “We want to ensure that doctors have the ability to prescribe these medicines,” the governor said. “We also want to make sure that the people who have prescriptions that predated COVID-19 have access to the medication they need. And so all of the work that we’ve done is trying to strike that balance.”Government trials New York State began clinical trials of hydroxychloroquine last Tuesday along with zithromax and chloroquine. The federal government awarded PPD Inc., a North Carolina pharmaceutical company, $750,000 for a one-month study on the use of “hydrochloroquine and chloroquine in patients with coronavirus disease (COVID-19), positive for SARS-COV-2 virus exposure, or pre-exposure and post-exposure prophylaxis,” BuzzFeed reported. In addition to approving the drug for emergency distribution to hospitals, the FDA announced it is “working closely with other government agencies and academic centers that are investigating the use of the drug chloroquine, which is already approved for treating malaria, lupus and rheumatoid arthritis, to determine whether it can be used to treat patients with mild-to-moderate COVID-19 to potentially reduce the duration of symptoms, as well as viral shedding, which can help prevent the spread of disease. Studies are underway to determine the efficacy in using chloroquine to treat COVID-19.” Speaking today on SiriusXM’s Breitbart News Daily with host Alex Marlow, Housing and Urban Development Secretary Ben Carson said the Trump administration was hurrying drug approval and testing protocols and was allowing patient access to promising treatments going through clinical trials. The fear of drug hoarding during the pandemic, however, prompted a New York state executive order last week that banned pharmacies from dispensing hydroxychloroquine for non-FDA approved indications, or for patients who are not in clinical trials for coronavirus treatment. The executive order does not ban doctors from prescribing hydroxychloroquine for coronavirus patients, but doctors say that it has been making New York pharmacies more selective about filling prescriptions. The order caps the prescription period to 14 days per patient and doesn’t allow refills. The potential shortage has already led the Israeli drug company Teva Pharmaceutical Industries Ltd. to donate 10 million hydroxychloroquine tablets to U.S. hospitals. Teva is one of the world’s largest makers of hydroxychloroquine. According to Drugs.com, common side effects of hydroxychloroquine include: headache, dizziness, ringing in the ears; nausea, vomiting, stomach pain; loss of appetite, weight loss; mood changes, feeling nervous or irritable; skin rash or itching; or hair loss. Patients are urged to call their doctor if they develop: headache with chest pain and severe dizziness, fainting, fast or pounding heartbeats; very slow heart rate, weak pulse; muscle weakness, numbness or tingling; signs of low blood sugar or low blood cell counts. This week, a small study reported by Chinese doctors documented that hydroxychloroquine helped the recovery of mildly ill coronavirus patients. In advocating for hydroxychloroquine sulfate, many have pointed to a limited French study that had positive results. The AP reported: The French study has attracted the most attention. Doctors gave hydroxychloroquine to 26 people with confirmed coronavirus infections, including some with no symptoms. Six also were given the antibiotic azithromycin. Some of the 26 were not counted in the final results because they didn’t complete the study — what’s known as “lost to followup” — but that included three who worsened and were sent to intensive care, one who died a day after later testing negative for the virus, and one who stopped treatment because of nausea. After six days, no patients given hydroxychloroquine plus azithromycin had virus detected in swabs from the back of the nose, versus 57% of those given the malaria drug alone and 12.5% of some other patients who received neither drug. The journal Nature Medicine reported on lab tests that demonstrated the drug blocked the coronavirus’s ability to enter cells, but it doesn’t mean the same would be repeated in human trials. New York Gov. Andrew Cuomo’s office announced the state obtained 70,000 doses of hydroxychloroquine, 10,000 doses of zithromax and 750,000 doses of chloroquine in the last few days for trial use. “We hope for optimistic results,” Cuomo said during a press conference last Tuesday about the tests. “The president and the FDA accelerated that drug coming to New York so the hospitals will start using that drug today.” “I’ve spoken with a number of health officials and there is a good basis to believe that they could work,” Cuomo said. “Some health officials point to Africa, which has a very low infection rate and there’s a theory that because they’re taking these anti-malaria drugs in Africa, it may actually be one of the reasons why the infection rate is low in Africa. We don’t know, but let’s find out and let’s find out quickly.”\n",
            "Gold Summary: They said they decided to act because they felt it was safe and because the coronavirus pandemic does not leave any time to wait for what could be months or even years of clinical trials.Studies are clearly required to more conclusively determine whether the hydroxychloroquine indeed played a role in patient recovery or whether those same patients would have recovered anyway without the medication. Even if hydroxychloroquine is found to be helpful, more research is needed to determine whether the drug needs to be combined with other medication, and which amounts should be used. Some of the doctors interviewed for this article prescribed hydroxychloroquine along with zinc sulfate, and in many cases combined the drug with an antibiotic regimen. Hospitals are reportedly seeking to stockpile the drug in anticipation of a flood of coronavirus patients and many pharmacies say they are experiencing a massive number of prescription requests for hydroxychloroquine sulfate. The extra demand could cause a shortage for lupus and arthritis patients already using the medication regularly. The FDA noted the medication is currently being used in several countries to treat Chinese coronavirus and said the “known and potential benefits of chloroquine phosphate and hydroxychloroquine sulfate” outweigh “the known and potential risks” of these drugs in treating COVID-19. The hydroxychloroquine sulfate is thought to serve as a key to force open internal cell channels, including those susceptible to coronavirus, allowing the zinc to penetrate and help line the intracellular walls to protect against coronavirus penetration. \n",
            "Predicted summary: Doctors who have treated a combined total of over 425 confirmed or presumptive Chinese coronavirus patients with the drug hydroxychloroquine told Breitbart News they are finding the medication to be helpful. Studies are clearly required to more conclusively determine whether the hydroxychloroquine indeed played a role in patient recovery or whether those same patients would have recovered anyway without the medication. There are also concerns about the supply chain for hydroxychloroquine. It is also known by the brand name Plaquenil. The extra demand could cause a shortage for lupus and arthritis patients already using the medication regularly. Instead it could protect cellular lining from further penetration. Indeed, that is what the doctors say they have been finding. Rudolph W. Giuliani, the president’s personal attorney, has been promoting Zelenko’s hydroxychloroquine plan, and Fox News’s Sean Hannity read from the doctor’s regimen during an interview with Vice President Mike Pence, who is leading the White House Coronavirus Task Force. Six of his patients were admitted to hospitals. She graduated from Columbia University medical school. Like most area doctors, Dr. Joseph in recent weeks has experienced a surge in coronavirus patients. Joseph told Breitbart News that she treated between 50 and 60 presumptive and confirmed coronavirus patients with hydroxychloroquine. That patient went to the hospital the next day. Isseroff told Breitbart News that he is currently analyzing data from the more than 225 coronavirus patients that he treated using hydroxychloroquine. Both hospitals have been asked for official comment. Rubin said that after taking the cocktail for a few days, his father is “doing amazing,” and he personally is nearly recovered. The implication is that hydroxychloroquine, which has been prescribed for decades, is somehow deadly. Holding enough clinical trials would take many months or even years. The fear of drug hoarding during the pandemic, however, prompted a New York state executive order last week that banned pharmacies from dispensing hydroxychloroquine for non-FDA approved indications, or for patients who are not in clinical trials for coronavirus treatment. According to Drugs.com, common side effects of hydroxychloroquine include: headache, dizziness, ringing in the ears; nausea, vomiting, stomach pain; loss of appetite, weight loss; mood changes, feeling nervous or irritable; skin rash or itching; or hair loss. Six also were given the antibiotic azithromycin. The journal Nature Medicine reported on lab tests that demonstrated the drug blocked the coronavirus’s ability to enter cells, but it doesn’t mean the same would be repeated in human trials.\n",
            "\n",
            "\n",
            "*********ROUGE-1***********\n",
            "{'rouge1': Score(precision=0.6169354838709677, recall=0.3686746987951807, fmeasure=0.4615384615384615)}\n",
            "\n",
            "\n",
            "*********ROUGE-2***********\n",
            "{'rouge2': Score(precision=0.2550607287449393, recall=0.15217391304347827, fmeasure=0.19062027231467477)}\n",
            "\n",
            "\n",
            "*********ROUGE-L***********\n",
            "{'rougeL': Score(precision=0.3024193548387097, recall=0.18072289156626506, fmeasure=0.22624434389140272)}\n",
            "-----------------------------------------------------------------------\n",
            "Summary[ 3 ]\n",
            "Original Document: A controversial anti-malaria drug is being trialed as a therapy for COVID-19 at the B.C. seniors’ care home at the epicentre of the province’s novel coronavirus outbreak. Global News has confirmed that residents of the Lynn Valley Care Centre are receiving hydroxychloroquine as a part of an international study on the effectiveness of the drug. Forty-six residents and 24 staff at the facility have have tested positive for COVID-19. The drug is being administered to all residents of the virus-stricken building known as “the lodge” at the care home, with the exception of those who opted out of the trial. Coronavirus outbreak: WHO director announces 1st patients will be enrolled in ‘solidarity’ drug trial, Concerns over shortage of illegal drugs during coronavirus outbreak, Coronavirus outbreak: Dr. Theresa Tam warns against the use of untested drugs to treat COVID-19, Coronavirus outbreak: Trump says Chloroquine could be a ‘game changer’, Coronavirus outbreak: Trump says FDA has approved Chloroquine for COVID-19 testing, Coronavirus outbreak: FDA approves new COVID-19 test kit. Debra Drew, whose father is one of the COVID-19-positive residents of the facility, said her family decided to opt in. “As a family we had the right to deny the treatment,” she said. “We said, ‘Yes, lets try it… Every day is a new day.” Hydroxychloroquine is a Health Canada-approved drug which has been used to treat malaria for more than a half-century. It is also used as a treatment for lupus. The drug made international headlines this month when U.S. President Donald Trump touted it as a potential breakthrough treatment for COVID-19. The drug has shown promise in some small, early trials. However, its benefits remain unproven, and the B.C. Centre for Disease Control (BCCDC) has recommended against its use to treat the disease “based on the lack of clinically convincing outcomes and the fragility of the supply chain.” On Thursday, the College of Pharmacists of BC, College of Physicians and Surgeons of BC, and BC College of Nursing Professionals took the unusual step of issuing a joint statement warning against the use of unproven treatments, including hydroxychloroquine. However, that guidance specifically exempted clinical trials. Hydroxychloroquine is also being tested by a team at the University of Manitoba.Trials began March 26 in Manitoba and Quebec, and similar trials are also underway in the United States. Alberta and other provinces are expected to join within a few days.\n",
            "Gold Summary: Global News has confirmed that residents of the Lynn Valley Care Centre are receiving hydroxychloroquine as a part of an international study on the effectiveness of the drug. Forty-six residents and 24 staff at the facility have have tested positive for COVID-19. The drug is being administered to all residents of the virus-stricken building known as “the lodge” at the care home, with the exception of those who opted out of the trial. Trump says Chloroquine could be a ‘game changer. The drug made international headlines this month when U.S. President Donald Trump touted it as a potential breakthrough treatment for COVID-19. The drug has shown promise in some small, early trials. However, its benefits remain unproven, and the B.C. Centre for Disease Control (BCCDC) has recommended against its use to treat the disease “based on the lack of clinically convincing outcomes and the fragility of the supply chain.”\n",
            "Predicted summary: A controversial anti-malaria drug is being trialed as a therapy for COVID-19 at the B.C. seniors’ care home at the epicentre of the province’s novel coronavirus outbreak. As a family we had the right to deny the treatment,” she said. “ However, its benefits remain unproven, and the B.C. Centre for Disease Control (BCCDC) has recommended against its use to treat the disease “based on the lack of clinically convincing outcomes and the fragility of the supply chain.” Alberta and other provinces are expected to join within a few days.\n",
            "\n",
            "\n",
            "*********ROUGE-1***********\n",
            "{'rouge1': Score(precision=0.41935483870967744, recall=0.6914893617021277, fmeasure=0.5220883534136547)}\n",
            "\n",
            "\n",
            "*********ROUGE-2***********\n",
            "{'rouge2': Score(precision=0.3051948051948052, recall=0.5053763440860215, fmeasure=0.3805668016194332)}\n",
            "\n",
            "\n",
            "*********ROUGE-L***********\n",
            "{'rougeL': Score(precision=0.34838709677419355, recall=0.574468085106383, fmeasure=0.43373493975903615)}\n",
            "-----------------------------------------------------------------------\n",
            "Summary[ 4 ]\n",
            "Original Document: NY, NJ Doctors and Patients See Anecdotal Evidence of Hydroxychloroquine Benefits in Fighting Coronavirus\n",
            "Gold Summary: NY, NJ Doctors and Patients See Anecdotal Evidence of Hydroxychloroquine Benefits in Fighting Coronavirus\n",
            "Predicted summary: NY, NJ Doctors and Patients See Anecdotal Evidence of Hydroxychloroquine Benefits in Fighting Coronavirus\n",
            "\n",
            "\n",
            "*********ROUGE-1***********\n",
            "{'rouge1': Score(precision=1.0, recall=1.0, fmeasure=1.0)}\n",
            "\n",
            "\n",
            "*********ROUGE-2***********\n",
            "{'rouge2': Score(precision=1.0, recall=1.0, fmeasure=1.0)}\n",
            "\n",
            "\n",
            "*********ROUGE-L***********\n",
            "{'rougeL': Score(precision=1.0, recall=1.0, fmeasure=1.0)}\n",
            "-----------------------------------------------------------------------\n",
            "Summary[ 5 ]\n",
            "Original Document: A debate may be raging inside the White House about the efficacy of an anti-malaria drug to treat the novel coronavirus, but the Trump administration isn’t waiting for a resolution. Two federal agencies have already placed purchase orders for the drug. The Department of Veterans Affairs and the Justice Department’s Bureau of Prisons have both reported purchases of hydroxychloroquine since March 26, according to federal procurement records. The Department of Veterans Affairs purchased $40,000 in hydroxychloroquine sulfate tablets from the pharmaceutical company McKesson, and another $168,000 from the Colorado-based generic drug distributor Golden State Medical Supply. Procurement records for both list them as “emergency” purchase orders to deal with the coronavirus outbreak. The Bureau of Prisons’ purchase order does not mention the coronavirus. But the $60,000 purchase of hydroxychloroquine sulfate tablets from the company Premium Rx National came on March 31—in the midst of a worsening outbreak at the federal correctional facilities that the bureau oversees and days before President Trump announced that he was stockpiling millions of pills of the drug. It appears to be the first time that the BOP has purchased the drug. Neither the VA nor BOP responded to requests for additional information about the purchases, and how, or whether, they would be used in the near-term to treat coronavirus patients. The use of taxpayer money on hydroxychloroquine by the two agencies came in spite of a heated debate among policymakers and medical professionals about the drug’s effectiveness in treating the virus, and the possibility that a sudden surge in demand for the drug could diminish the supply for those who use it to treat other ailments such as malaria, lupus, and rheumatoid arthritis. That dispute erupted at a closed-door meeting at the White House on Saturday, as first reported by Axios. At that meeting, White House economic adviser Peter Navarro reportedly clashed with National Institute of Infectious Diseases director Dr. Anthony Fauci over the efficacy of hydroxychloroquine as a coronavirus treatment. Trump, for his part, has consistently promoted the drug as a potential panacea in efforts to control the virus. Despite only anecdotal evidence that it has any impact, his supporters have cast dissenting voices as timid at best and hostile at worst. The Food and Drug Administration last week issued an emergency authorization that will allow the distribution of hydroxychloroquine and similar experimental drugs to the general public from the federal government’s stockpile of medical supplies. Two drug companies, Novartis and Bayer, donated more than 30 million doses to the stockpile, which appears to be what Trump was referring to when he discussed building a stockpile on Sunday. The Department of Health and Human Services also recently approved hydroxychloroquine and two similar drugs, chloroquine and hydrochloroquine, for “compassionate use,” making them available to extremely ill patients who have exhausted other treatment options. Local governments such as New York and Michigan have reported promising anecdotal results from the use of hydroxychloroquine to treat the virus. But it has scant scientific backing. The University of Marseilles study most often cited by the drug’s boosters received pushback from other academics in the field, and the journal in which it was published said last week that the study “does not meet the Society’s expected standard.” Many Trump-friendly pundits, however, are convinced of the drug’s effectiveness, most notably those on Fox News shows from which the president is known to take policy cues.\n",
            "Gold Summary: A debate may be raging inside the White House about the efficacy of an anti-malaria drug to treat the novel coronavirus, but the Trump administration isn’t waiting for a resolution. Two federal agencies have already placed purchase orders for the drug.The Department of Veterans Affairs purchased $40,000 in hydroxychloroquine sulfate tablets from the pharmaceutical company McKesson, and another $168,000 from the Colorado-based generic drug distributor Golden State Medical Supply. The use of taxpayer money on hydroxychloroquine by the two agencies came in spite of a heated debate among policymakers and medical professionals about the drug’s effectiveness in treating the virus, and the possibility that a sudden surge in demand for the drug could diminish the supply for those who use it to treat other ailments such as malaria, lupus, and rheumatoid arthritis. At that meeting, White House economic adviser Peter Navarro reportedly clashed with National Institute of Infectious Diseases director Dr. Anthony Fauci over the efficacy of hydroxychloroquine as a coronavirus treatment.\n",
            "Predicted summary: A debate may be raging inside the White House about the efficacy of an anti-malaria drug to treat the novel coronavirus, but the Trump administration isn’t waiting for a resolution. Two federal agencies have already placed purchase orders for the drug. Local governments such as New York and Michigan have reported promising anecdotal results from the use of hydroxychloroquine to treat the virus.\n",
            "\n",
            "\n",
            "*********ROUGE-1***********\n",
            "{'rouge1': Score(precision=0.3254437869822485, recall=0.8461538461538461, fmeasure=0.4700854700854701)}\n",
            "\n",
            "\n",
            "*********ROUGE-2***********\n",
            "{'rouge2': Score(precision=0.2976190476190476, recall=0.78125, fmeasure=0.43103448275862066)}\n",
            "\n",
            "\n",
            "*********ROUGE-L***********\n",
            "{'rougeL': Score(precision=0.3076923076923077, recall=0.8, fmeasure=0.4444444444444444)}\n",
            "-----------------------------------------------------------------------\n",
            "Summary[ 6 ]\n",
            "Original Document: A survey of over 6,000 doctors found that the anti-malaria drug hydroxychloroquine was rated the “most effective therapy” for the Chinese Coronavirus. The Washington Examiner: An international poll of more than 6,000 doctors released Thursday found that the antimalarial drug hydroxychloroquine was the most highly rated treatment for the novel coronavirus. The survey conducted by Sermo, a global health care polling company, of 6,227 physicians in 30 countries found that 37% of those treating COVID-19 patients rated hydroxychloroquine as the “most effective therapy” from a list of 15 options. Of the physicians surveyed, 3,308 said they had either ordered a COVID-19 test or been involved in caring for a coronavirus patient, and 2,171 of those responded to the question asking which medications were most effective. The U.S. Food and Drug Administration gave chloroquine and its next-generation derivative, hydroxychloroquine, emergency-use authorization Monday for treating the novel coronavirus, although the drug was already being used off-label by some doctors and hospitals for COVID-19 patients. The survey also found that the most commonly prescribed treatments are analgesics (56%), azithromycin (41%) and hydroxychloroquine (33%). The Mainstream Press really doesn’t want you to know about this survey. They have attempted to discredit President Trump for pushing hydroxychloroquine yet each day he is looking like he is going to be more and more correct. The Mainstream Press doesn’t care about the truth. The Palmieri Report is a Pro-America News Outlet founded by Jacob Palmieri two years ago at the age of 19. Since its founding, it has gotten over 1M pages views and over 20k followers.\n",
            "Gold Summary: A survey of over 6,000 doctors found that the anti-malaria drug hydroxychloroquine was rated the “most effective therapy” for the Chinese Coronavirus. The survey conducted by Sermo, a global health care polling company, of 6,227 physicians in 30 countries found that 37% of those treating COVID-19 patients rated hydroxychloroquine as the “most effective therapy” from a list of 15 options. The U.S. Food and Drug Administration gave chloroquine and its next-generation derivative, hydroxychloroquine, emergency-use authorization Monday for treating the novel coronavirus, although the drug was already being used off-label by some doctors and hospitals for COVID-19 patients. The survey also found that the most commonly prescribed treatments are analgesics (56%), azithromycin (41%) and hydroxychloroquine (33%).\n",
            "Predicted summary: A survey of over 6,000 doctors found that the anti-malaria drug hydroxychloroquine was rated the “most effective therapy” for the Chinese Coronavirus. The Washington Examiner: An international poll of more than 6,000 doctors released Thursday found that the antimalarial drug hydroxychloroquine was the most highly rated treatment for the novel coronavirus. The Mainstream Press really doesn’t want you to know about this survey.\n",
            "\n",
            "\n",
            "*********ROUGE-1***********\n",
            "{'rouge1': Score(precision=0.3629032258064516, recall=0.6716417910447762, fmeasure=0.47120418848167545)}\n",
            "\n",
            "\n",
            "*********ROUGE-2***********\n",
            "{'rouge2': Score(precision=0.23577235772357724, recall=0.4393939393939394, fmeasure=0.3068783068783069)}\n",
            "\n",
            "\n",
            "*********ROUGE-L***********\n",
            "{'rougeL': Score(precision=0.31451612903225806, recall=0.582089552238806, fmeasure=0.4083769633507853)}\n",
            "-----------------------------------------------------------------------\n",
            "Summary[ 7 ]\n",
            "Original Document: President Donald Trump's trade adviser Peter Navarro, who the president recently tapped to help implement the Defense Production Act amid the coronavirus crisis, is publicly pushing back against the nation's top infectious disease expert. After Navarro reportedly lashed out at Dr. Anthony Fauci over the weekend, he went on CNN Monday morning to tout a drug that Fauci has cautioned is still being studied, while listing his own qualifications as a \"social scientist\" and arguing the president needs a \"second opinion.\" \"Doctors disagree about things all the time,\" Navarro, an economist, told CNN's \"New Day\" Monday. \"My qualifications in terms of looking at the science is that I'm a social scientist. I have a Ph.D., and I understand how to read statistical studies, whether it's in medicine, the law, economics or whatever.\" The comments come after Axios first reported that on Saturday, Navarro, in the Situation Room, lashed out at Fauci after he questioned the trade adviser on the science behind his promotion of hydroxychloroquine to treat COVID-19. \"On Saturday, and if we didn't have disagreement or debate in the Trump administration, this administration would not be as strong as it is,\" Navarro told CNN, appearing to confirm the argument took place. \"The issue wasn't about me offering my medical opinion,\" Navarro continued. \"The question was whether we should take the 29 million doses in the FEMA storehouses and surge them into the zones, and it was unanimous in that task force meeting to do so. So, that's the only question I posed.\" President Trump has put more stock in hydroxychloroquine than his top medical experts, having previously described the drug as possibly one of \"the biggest game-changers in the history of medicine.\" Fauci, meanwhile, has cautioned against putting too much promise in any \"anecdotal evidence\" before clinical trials are complete, emphasizing social distancing instead. Navarro went on Monday to primarily reference what he said was a control group study out of Wuhan, China -- done with moderately ill patients and was not double-blind but showed some potential benefits -- adding he had spoken to some doctors who had found it useful. He also claimed some on the frontlines were taking the drug as a prophylactic. Although hydroxychloroquine is FDA-approved for some uses, including the treatment of malaria, lupus and rheumatoid arthritis, it is not currently approved for coronavirus -- a point Fauci and FDA Commissioner Stephen Hahn have continued to note. But despite tension from his own health officials, the president at Sunday's task force briefing continued to show his support for the drug and announced that the federal government has stockpiled 29 million pills of it -- \"a big number.\" \"Now, we have purchased and we have stockpiled 29 million pills of the hydroxychloroquine, 29 million,\" Trump said. \"A lot of drugstores have them, by prescription, and also -- and they are not expensive -- also we're sending them to various labs, our military, we're sending them to the hospitals. We’re sending them all over.\" The president said the FDA had already approved the drug, but the agency, for now, has only expedited its use to treat COVID-19 in controlled, clinical trials. Vice President Mike Pence announced Sunday that it would be used in a trial of 3,000 patients in Detroit, a coronavirus hot spot, adding that the federal government is \"more than prepared\" to make hydroxychloroquine available to doctors' offices and pharmacies in the area \"as they deem appropriate.\" Clinical trials are also underway in New York, the hardest hit state with a death toll of over 4,000. \"It can help them, but it's not going to hurt them,\" Trump said, without citing evidence. \"I'm not looking at it one way or the other, but we want to get out of this. If it does work, it would be a shame if we didn't do it early. But we have some very good signs,\" he continued. Trump gave more medical recommendations Sunday, saying people without heart problems could combine hydroxychloroquine with azithromycin, a common antibiotic, which he said \"will kill certain things that you don't want living within your body.\" He also suggested health care workers and frontline responders could take the drugs as a preventative measure, saying, \"They say taking it before the fact is good, but what do you have to lose?\" \"I'll say it again: What do you have to lose? Take it. I really think they should take it. But it's their choice and it's their doctor's choice, or the doctors in the hospital. But hydroxychloroquine — try it, if you'd like,\" Trump said, adding, \"I'm not a doctor, but I have common sense.\" Toward the end of the briefing, a reporter asked Fauci directly for his opinion on the effectiveness of hydroxychloroquine, but Trump stopped the doctor from answering. \"Do you know how many times he's answered that question?\" Trump interjected. \"He’s answered the question 15 times.\"\n",
            "Gold Summary: President Donald Trump's trade adviser Peter Navarro, who the president recently tapped to help implement the Defense Production Act amid the coronavirus crisis, is publicly pushing back against the nation's top infectious disease expert. President Trump has put more stock in hydroxychloroquine than his top medical experts, having previously described the drug as possibly one of \"the biggest game-changers in the history of medicine.\" Fauci, meanwhile, has cautioned against putting too much promise in any \"anecdotal evidence\" before clinical trials are complete, emphasizing social distancing instead. Navarro went on Monday to primarily reference what he said was a control group study out of Wuhan, China -- done with moderately ill patients and was not double-blind but showed some potential benefits -- adding he had spoken to some doctors who had found it useful. He also claimed some on the frontlines were taking the drug as a prophylactic. Although hydroxychloroquine is FDA-approved for some uses, including the treatment of malaria, lupus and rheumatoid arthritis, it is not currently approved for coronavirus -- a point Fauci and FDA Commissioner Stephen Hahn have continued to note. But despite tension from his own health officials, the president at Sunday's task force briefing continued to show his support for the drug and announced that the federal government has stockpiled 29 million pills of it -- \"a big number.\" The president said the FDA had already approved the drug, but the agency, for now, has only expedited its use to treat COVID-19 in controlled, clinical trials. Vice President Mike Pence announced Sunday that it would be used in a trial of 3,000 patients in Detroit, a coronavirus hot spot, adding that the federal government is \"more than prepared\" to make hydroxychloroquine available to doctors' offices and pharmacies in the area \"as they deem appropriate.\" Clinical trials are also underway in New York, the hardest hit state with a death toll of over 4,000.  If it does work, it would be a shame if we didn't do it early. He also suggested health care workers and frontline responders could take the drugs as a preventative measure, saying, \"They say taking it before the fact is good, but what do you have to lose?\" \"I'll say it again: What do you have to lose? Take it. I really think they should take it. But it's their choice and it's their doctor's choice, or the doctors in the hospital.\"\n",
            "Predicted summary: President Donald Trump's trade adviser Peter Navarro, who the president recently tapped to help implement the Defense Production Act amid the coronavirus crisis, is publicly pushing back against the nation's top infectious disease expert. I have a Ph.D., and I understand how to read statistical studies, whether it's in medicine, the law, economics or whatever.\" On Saturday, and if we didn't have disagreement or debate in the Trump administration, this administration would not be as strong as it is,\" Navarro told CNN, appearing to confirm the argument took place. \" But despite tension from his own health officials, the president at Sunday's task force briefing continued to show his support for the drug and announced that the federal government has stockpiled 29 million pills of it -- \"a big number.\" \" If it does work, it would be a shame if we didn't do it early. I really think they should take it. Toward the end of the briefing, a reporter asked Fauci directly for his opinion on the effectiveness of hydroxychloroquine, but Trump stopped the doctor from answering. \"\n",
            "\n",
            "\n",
            "*********ROUGE-1***********\n",
            "{'rouge1': Score(precision=0.3439024390243902, recall=0.7704918032786885, fmeasure=0.47554806070826294)}\n",
            "\n",
            "\n",
            "*********ROUGE-2***********\n",
            "{'rouge2': Score(precision=0.2469437652811736, recall=0.554945054945055, fmeasure=0.34179357021996615)}\n",
            "\n",
            "\n",
            "*********ROUGE-L***********\n",
            "{'rougeL': Score(precision=0.275609756097561, recall=0.6174863387978142, fmeasure=0.38111298482293426)}\n",
            "-----------------------------------------------------------------------\n",
            "Summary[ 8 ]\n",
            "Original Document: While Dr. Anthony Fauci has urged caution in using hydroxychloroquine, some doctors are prescribing it to patients who have the virus despite the fact it has never been tested for it. By Peter Baker, Katie Rogers, David Enrich and Maggie Haberman WASHINGTON — President Trump made a rare appearance in the Situation Room on Sunday as his pandemic task force was meeting, determined to talk about the anti-malaria medicine that he has aggressively promoted lately as a treatment for the coronavirus. Once again, according to a person briefed on the session, the experts warned against overselling a drug yet to be proved a safe remedy, particularly for heart patients. “Yes, the heart stuff,” Mr. Trump acknowledged. Then he headed out to the cameras to promote it anyway. “So what do I know?” he conceded to reporters at his daily briefing. “I’m not a doctor. But I have common sense.” Day after day, the salesman turned president has encouraged coronavirus patients to try hydroxychloroquine with all of the enthusiasm of a real estate developer. The passing reference he makes to the possible dangers is usually overwhelmed by the full-throated endorsement. “What do you have to lose?” he asked five times on Sunday. Bolstered by his trade adviser, a television doctor, Larry Ellison of Oracle and Rudolph W. Giuliani, a former New York mayor, Mr. Trump has seized on the drug as a miracle cure for the virus that has killed thousands and paralyzed American life. Along the way, he has prompted an international debate about a drug that many doctors in New York and elsewhere have been trying in desperation even without conclusive scientific studies. Mr. Trump may ultimately be right, and physicians report anecdotal evidence that has provided hope. But it remains far from certain, and the president’s assertiveness in pressing the case over the advice of advisers like Dr. Anthony S. Fauci, the government’s top infectious disease specialist, has driven a wedge inside his coronavirus task force and has raised questions about his motives. If hydroxychloroquine becomes an accepted treatment, several pharmaceutical companies stand to profit, including shareholders and senior executives with connections to the president. Mr. Trump himself has a small personal financial interest in Sanofi, the French drugmaker that makes Plaquenil, the brand-name version of hydroxychloroquine. “I certainly understand why the president is pushing it,” said Dr. Joshua Rosenberg, a critical care doctor at Brooklyn Hospital Center. “He’s the president of the United States. He has to project hope. And when you are in a situation without hope, things go very badly. So I’m not faulting him for pushing it even if there isn’t a lot of science behind it, because it is, at this point, the best, most available option for use.” A senior physician at Wyckoff Heights Medical Center in Brooklyn, where doctors are not providing the drug, however, said the current demand was worrisome for patients on it chronically for rheumatic diseases. At St. Barnabas Hospital in the Bronx, another doctor said his staff was giving it to coronavirus patients but criticized the president and Gov. Andrew M. Cuomo for “cheerleading” the drug without proof. “False hope can be bad, too,” he said. The professional organization that published a positive French study cited by Mr. Trump’s allies changed its mind in recent days. The International Society of Antimicrobial Chemotherapy said, “The article does not meet the society’s expected standard.” Some hospitals in Sweden stopped providing hydroxychloroquine to treat the coronavirus after reports of adverse side effects, according to Swedish news media. But Mr. Cuomo told reporters on Monday that he would ask Mr. Trump to increase the federal supply of hydroxychloroquine to New York pharmacies, allowing the state to lift a limit on purchases. “There has been anecdotal evidence that it is promising,” Mr. Cuomo said, while noting the lack of a formal study. Mr. Trump first expressed interest in hydroxychloroquine a few weeks ago, telling associates that Mr. Ellison, a billionaire and a founder of Oracle, had discussed it with him. At the time, Dr. Mehmet Oz, the host of television’s “The Doctor Oz Show,” was in touch with Mr. Trump’s advisers about expediting approval to use the drug for the coronavirus. Mr. Giuliani has urged Mr. Trump to embrace the drug, based in part on the advice of Dr. Vladimir Zelenko, a self-described simple country doctor who has become a hit on conservative media after administering a cocktail of hydroxychloroquine, the antibiotic azithromycin and zinc sulfate. In an interview on Monday, Mr. Giuliani denied any financial stake and said he spoke with Mr. Trump only after the president had already promoted the drug publicly. Mr. Giuliani said he turned to the issue after researching former Vice President Joseph R. Biden Jr. in Ukraine, a project that led to the president’s impeachment. “When I finished Biden, I immediately switched to coronavirus and I have been doing an enormous amount of research on it,” he said. As it happened, Dr. Zelenko was born in Ukraine, and when they first spoke, Mr. Giuliani accidentally called him “Dr. Zelensky,” mixing up his name with Ukraine’s president, Volodymyr Zelensky. Mr. Giuliani said he brought a prosecutor’s experience to his research. “One of the things that a good litigator becomes, is you kind of become an instant expert on stuff, and then you forget about it,” he said. “I don’t claim to be a doctor. I just repeat what they said.” The Food and Drug Administration, which has approved hydroxychloroquine as a treatment for malaria and lupus, issued an emergency order late last month allowing doctors to administer it to coronavirus patients if they saw fit. Mr. Trump said the federal government would distribute 29 million doses and that he had called Prime Minister Narendra Modi of India requesting more. Dr. Fauci made his concern clear last week. “I think we’ve got to be careful that we don’t make that majestic leap to assume that this is a knockout drug,” he said on Friday on Fox News. “We still need to do the kinds of studies that definitively prove whether any intervention, not just this one, any intervention is truly safe and effective.” The same day, Laura Ingraham, a Fox host, visited Mr. Trump at the White House with two doctors who had been on her program promoting hydroxychloroquine, one of whom made a presentation on its virtues, according to an official, confirming a Washington Post report. The next day, Peter Navarro, the president’s trade adviser, who has been assigned to expedite production of medical equipment and become an advocate of the drug, upbraided Dr. Fauci at a White House task force meeting, according to people informed about the discussion. Mr. Navarro arrived at the meeting armed with a thick sheaf of papers recounting research. When the issue was raised, according to a person informed about the meeting, confirming a report by Axios, Mr. Navarro picked it up off a chair, dropped it on the table and started handing out copies. Mr. Navarro, who earned a doctorate in economics from Harvard, defended his position on Monday despite his lack of medical credentials. “Doctors disagree about things all the time. My qualifications in terms of looking at the science is that I’m a social scientist,” he said on CNN. “I have a Ph.D. And I understand how to read statistical studies, whether it’s in medicine, the law, economics or whatever.” Mr. Trump made clear on Sunday whose side he took in Mr. Navarro’s confrontation with Dr. Fauci. At his briefing after the meeting, he said it was wrong to wait for the kind of study Dr. Fauci wanted. “We don’t have time,” the president said. “We don’t have two hours because there are people dying right now.” Some associates of Mr. Trump’s have financial interests in the issue. Sanofi’s largest shareholders include Fisher Asset Management, the investment company run by Ken Fisher, a major donor to Republicans, including Mr. Trump. A spokesman for Mr. Fisher declined to comment. Another investor in both Sanofi and Mylan, another pharmaceutical firm, is Invesco, the fund previously run by Wilbur Ross, the commerce secretary. Mr. Ross said in a statement Monday that he “was not aware that Invesco has any investments in companies producing” the drug, “nor do I have any involvement in the decision to explore this as a treatment.” As of last year, Mr. Trump reported that his three family trusts each had investments in a Dodge & Cox mutual fund, whose largest holding was in Sanofi. Ashleigh Koss, a Sanofi spokeswoman, said the company no longer sells or distributes Plaquenil in the United States, although it does sell it internationally. Several generic drugmakers are gearing up to produce hydroxychloroquine pills, including Amneal Pharmaceuticals, whose co-founder Chirag Patel is a member of Trump National Golf Course Bedminster in New Jersey and has golfed with Mr. Trump at least twice since he became president, according to a person who saw them. Mr. Patel, whose company is based in Bridgewater, N.J., did not respond to a request for comment. Amneal announced last month that it would increase production of the drug and donate millions of pills to New York and other states. Other generic drugmakers are ramping up production, including Mylan and Teva Pharmaceutical Industries. Roberto Mignone, a Teva board member, reached out to the team of Jared Kushner, the president’s son-in-law and senior adviser, through Nitin Saigal, who used to work for Mr. Mignone and is a friend of Mr. Kushner’s, according to people informed about the discussions. Mr. Kushner’s team referred him to the White House task force and Mr. Mignone asked for help getting India to ease export restrictions, which have since been relaxed, allowing Teva to bring more pills into the United States. Mr. Mignone, who is also a vice chairman of NYU Langone Health, which is running a clinical study of hydroxychloroquine, confirmed on Monday that he has spoken with the administration about getting more medicine into the country. Dr. Daniel H. Sterman, the critical care director at NYU Langone Health, said doctors there are using hydroxychloroquine, but data about its effectiveness remained “weak and unsubstantiated” pending the study. “We do not know whether our patients are benefiting from hydroxychloroquine treatment at the present time,” he said. New York City’s Health and Hospitals Corporation, which runs its public hospitals, is advising but not requiring doctors to use hydroxychloroquine based on a trial showing a decreased cough and fever with mild side effects in two patients, Dr. Mitchell Katz, who oversees the hospital system, said by email on Monday. Dr. Roy M. Gulick, the chief of infectious diseases at Weill Cornell Medicine, said hydroxychloroquine was given on a case-by-case basis. “We explain the pros and cons and explain that we don’t know if it works or not,” he said. Doctors at Northwell Health and Mount Sinai Health System are using it as well. At the Mount Sinai South Nassau County branch on Long Island, doctors have employed a regimen of hydroxychloroquine and azithromycin “pretty much since day one” with mixed results, said Dr. Adhi Sharma, its chief medical officer. “We’ve been throwing the kitchen sink at these patients,” he said. “I can’t tell whether someone got better on their own or because of the medication.” Peter Baker and Katie Rogers reported from Washington, and David Enrich and Maggie Haberman from New York. Reporting was contributed by Kenneth P. Vogel from Washington, and Jesse Drucker, Sheri Fink, Joseph Goldstein, Jesse McKinley, William K. Rashbaum, Brian M. Rosenthal, Michael Rothfeld and Michael Schwirtz from New York.\n",
            "Gold Summary: While Dr. Anthony Fauci has urged caution in using hydroxychloroquine, some doctors are prescribing it to patients who have the virus despite the fact it has never been tested for it.President Trump made a rare appearance in the Situation Room on Sunday as his pandemic task force was meeting, determined to talk about the anti-malaria medicine that he has aggressively promoted lately as a treatment for the coronavirus. Once again, according to a person briefed on the session, the experts warned against overselling a drug yet to be proved a safe remedy, particularly for heart patients. Then he headed out to the cameras to promote it anyway. Day after day, the salesman turned president has encouraged coronavirus patients to try hydroxychloroquine with all of the enthusiasm of a real estate developer. The passing reference he makes to the possible dangers is usually overwhelmed by the full-throated endorsement. Mr. Trump has seized on the drug as a miracle cure for the virus that has killed thousands and paralyzed American life. Along the way, he has prompted an international debate about a drug that many doctors in New York and elsewhere have been trying in desperation even without conclusive scientific studies. Mr. Trump may ultimately be right, and physicians report anecdotal evidence that has provided hope. If hydroxychloroquine becomes an accepted treatment, several pharmaceutical companies stand to profit, including shareholders and senior executives with connections to the president. Mr. Trump himself has a small personal financial interest in Sanofi, the French drugmaker that makes Plaquenil, the brand-name version of hydroxychloroquine. Mr. Trump said the federal government would distribute 29 million doses and that he had called Prime Minister Narendra Modi of India requesting more. Dr. Fauci made his concern clear last week. Sanofi’s largest shareholders include Fisher Asset Management, the investment company run by Ken Fisher, a major donor to Republicans, including Mr. Trump. Amneal announced last month that it would increase production of the drug and donate millions of pills to New York and other states. Other generic drugmakers are ramping up production, including Mylan and Teva Pharmaceutical Industries. Mr. Mignone, who is also a vice chairman of NYU Langone Health, which is running a clinical study of hydroxychloroquine, confirmed on Monday that he has spoken with the administration about getting more medicine into the country. \n",
            "Predicted summary: While Dr. Anthony Fauci has urged caution in using hydroxychloroquine, some doctors are prescribing it to patients who have the virus despite the fact it has never been tested for it. The passing reference he makes to the possible dangers is usually overwhelmed by the full-throated endorsement. “ Along the way, he has prompted an international debate about a drug that many doctors in New York and elsewhere have been trying in desperation even without conclusive scientific studies. He’s the president of the United States. At St. Barnabas Hospital in the Bronx, another doctor said his staff was giving it to coronavirus patients but criticized the president and Gov. Andrew M. Cuomo for “cheerleading” the drug without proof. “ The next day, Peter Navarro, the president’s trade adviser, who has been assigned to expedite production of medical equipment and become an advocate of the drug, upbraided Dr. Fauci at a White House task force meeting, according to people informed about the discussion. Mr. Navarro, who earned a doctorate in economics from Harvard, defended his position on Monday despite his lack of medical credentials. “ We don’t have time,” the president said. “ A spokesman for Mr. Fisher declined to comment. Mr. Ross said in a statement Monday that he “was not aware that Invesco has any investments in companies producing” the drug, “nor do I have any involvement in the decision to explore this as a treatment.” Ashleigh Koss, a Sanofi spokeswoman, said the company no longer sells or distributes Plaquenil in the United States, although it does sell it internationally. Other generic drugmakers are ramping up production, including Mylan and Teva Pharmaceutical Industries. Mr. Kushner’s team referred him to the White House task force and Mr. Mignone asked for help getting India to ease export restrictions, which have since been relaxed, allowing Teva to bring more pills into the United States. We explain the pros and cons and explain that we don’t know if it works or not,” he said. I can’t tell whether someone got better on their own or because of the medication.”\n",
            "\n",
            "\n",
            "*********ROUGE-1***********\n",
            "{'rouge1': Score(precision=0.5102564102564102, recall=0.5702005730659025, fmeasure=0.5385656292286874)}\n",
            "\n",
            "\n",
            "*********ROUGE-2***********\n",
            "{'rouge2': Score(precision=0.2827763496143959, recall=0.3160919540229885, fmeasure=0.29850746268656714)}\n",
            "\n",
            "\n",
            "*********ROUGE-L***********\n",
            "{'rougeL': Score(precision=0.3, recall=0.335243553008596, fmeasure=0.3166441136671177)}\n",
            "-----------------------------------------------------------------------\n",
            "Summary[ 9 ]\n",
            "Original Document: On Monday, The New York Times reported that Donald Trump is personally invested in the medication he has been selling to the American public. The Times stated that, “Mr. Trump himself has a small personal financial interest in Sanofi, the French drugmaker that makes Plaquenil, the brand-name version of hydroxychloroquine.” There was no further detail about the particulars of his investment and as someone who has poured over his financial disclosure from 2019, I can only assume that the ownership is contained within one of the several trusts he reported that has not been further broken down by name or stock. In early March, I reported on the possibility that Trump or his family could stand to profit from coronavirus testing. Financial disclosures from 2016 listed previous financial investments in Thermo Fisher Scientific, one of the many companies Trump praised from one of his rose garden press conferences toward the beginning of this pandemic. Although Trump’s financial disclosures from 2019 do not specifically name this stock, and he has claimed to have divested his personal interest from in company, there are trusts listed that are not broken down or named specifically. There is also still the issue of semantics with regard to how the Trump administration has chosen to deal, or in this case not deal, with combating COVID-19. Here is an excerpt from my previous reporting that questions why the Trump administration declined to use coronavirus testing kits offered by the World Health Organization in February: Virologists in Berlin produced the first diagnostic test for the Coronavirus a month and a half before the first COVID-19 case not linked to travel was diagnosed in the United States. The World Health Organization (WHO) began shipping coronavirus testing supplies to nearly 60 countries by February, but Trump didn’t want those kits. The United States declined to use the WHO test, even temporarily as a bridge until the Centers for Disease Control and Prevention could produce its own test and the Trump administration has given no explanation as to why. Trump’s possible interest in the company that the U.S. will be using to provide the tests, and the fact that he might still own stock in Thermo Fisher Scientific means he could profit from the government contract — this might be a major reason why no other tests were accepted. There is also an ongoing conflict pertaining to Jared Kushner and his brother’s company, Oscar, a private health insurance company that is working in tandem with the Trump administration to provide federal services. As Kushner’s influence and authority over the COVID-19 pandemic increases, so does Oscar’s role in providing services to the public on behalf of the federal government. Think back to when Trump falsely announced during a press conference on March 13 that a website of information about the impending pandemic was up and running thanks to Google. There was no such website at the time, but according to The Atlantic, in the days following Trump’s incorrect announcement, Oscar dispatched employees to meet with federal officials in Washington, D.C. about creating the site. Oscar engineers, project managers, and executives additionally spent “about five days building a stand-alone website at the government’s request” before the project was scrapped. It’s important to note that Joshua Kushner, younger brother to Jared, is a co-founder and major investor in Oscar as well. It has been confirmed that Jared Kushner partially owned or controlled Oscar before he joined the White House. As with Donald Trump’s financial disclosures, we are unable to completely dissect the full nature of Kushner’s personal investments, especially considering that his wife Ivanka Trump has disclosed many of the same trusts her father has listed. Jackie Kahn, a spokesperson for Oscar, emailed a statement that Oscar donated its work freely and never expected to be paid for the project. Kahn says the company is “not, nor has ever been,” a contractor or subcontractor for the government and emphasized that the work on the site was never in use. Kahn did confirm that despite the intent to volunteer company resources, the creation of the site was “all at the direction of HHS.” Although Oscar denies profiting directly from this work in this instance, it is important to note that the company is fueled by substantial investments from high profile backers and Trump supporters, such as Paypal’s Peter Thiel. The relationships and connections that the Oscar team is able to make are essential to keeping the company going and there is no shortage of access to Jared Kushner, who has been firmly established as a figurehead on the corona team. As the public is inundated by concerns about staying safe from this pandemic and the death toll from the virus continues to rise, money is being spent at the federal and state level in record amounts to secure supplies and services. This virus serves as a distraction now for the massive amounts of money that will inevitably make its way into the pockets of companies who have established inside relationships with the Trump administration. After the dust has settled on this emergency, there will be many contracts and deals to dissect — hopefully we can do it before November.\n",
            "Gold Summary: On Monday, The New York Times reported that Donald Trump is personally invested in the medication he has been selling to the American public. The Times stated that, “Mr. Trump himself has a small personal financial interest in Sanofi, the French drugmaker that makes Plaquenil, the brand-name version of hydroxychloroquine.” There was no further detail about the particulars of his investment and as someone who has poured over his financial disclosure from 2019, I can only assume that the ownership is contained within one of the several trusts he reported that has not been further broken down by name or stock. In early March, I reported on the possibility that Trump or his family could stand to profit from coronavirus testing. Financial disclosures from 2016 listed previous financial investments in Thermo Fisher Scientific, one of the many companies Trump praised from one of his rose garden press conferences toward the beginning of this pandemic. Although Trump’s financial disclosures from 2019 do not specifically name this stock, and he has claimed to have divested his personal interest from in company, there are trusts listed that are not broken down or named specifically. There is also still the issue of semantics with regard to how the Trump administration has chosen to deal, or in this case not deal, with combating COVID-19. The World Health Organization (WHO) began shipping coronavirus testing supplies to nearly 60 countries by February, but Trump didn’t want those kits. The United States declined to use the WHO test, even temporarily as a bridge until the Centers for Disease Control and Prevention could produce its own test and the Trump administration has given no explanation as to why. There is also an ongoing conflict pertaining to Jared Kushner and his brother’s company, Oscar, a private health insurance company that is working in tandem with the Trump administration to provide federal services. As Kushner’s influence and authority over the COVID-19 pandemic increases, so does Oscar’s role in providing services to the public on behalf of the federal government.  The relationships and connections that the Oscar team is able to make are essential to keeping the company going and there is no shortage of access to Jared Kushner, who has been firmly established as a figurehead on the corona team. This virus serves as a distraction now for the massive amounts of money that will inevitably make its way into the pockets of companies who have established inside relationships with the Trump administration. \n",
            "Predicted summary: On Monday, The New York Times reported that Donald Trump is personally invested in the medication he has been selling to the American public. The World Health Organization (WHO) began shipping coronavirus testing supplies to nearly 60 countries by February, but Trump didn’t want those kits. Think back to when Trump falsely announced during a press conference on March 13 that a website of information about the impending pandemic was up and running thanks to Google. As with Donald Trump’s financial disclosures, we are unable to completely dissect the full nature of Kushner’s personal investments, especially considering that his wife Ivanka Trump has disclosed many of the same trusts her father has listed. The relationships and connections that the Oscar team is able to make are essential to keeping the company going and there is no shortage of access to Jared Kushner, who has been firmly established as a figurehead on the corona team. After the dust has settled on this emergency, there will be many contracts and deals to dissect — hopefully we can do it before November.\n",
            "\n",
            "\n",
            "*********ROUGE-1***********\n",
            "{'rouge1': Score(precision=0.33095238095238094, recall=0.7679558011049724, fmeasure=0.4625623960066556)}\n",
            "\n",
            "\n",
            "*********ROUGE-2***********\n",
            "{'rouge2': Score(precision=0.22195704057279236, recall=0.5166666666666667, fmeasure=0.31051752921535897)}\n",
            "\n",
            "\n",
            "*********ROUGE-L***********\n",
            "{'rougeL': Score(precision=0.24285714285714285, recall=0.56353591160221, fmeasure=0.33943427620632277)}\n",
            "-----------------------------------------------------------------------\n"
          ],
          "name": "stdout"
        }
      ]
    },
    {
      "cell_type": "code",
      "metadata": {
        "id": "FwcPRRq8r8mv"
      },
      "source": [
        ""
      ],
      "execution_count": null,
      "outputs": []
    }
  ]
}